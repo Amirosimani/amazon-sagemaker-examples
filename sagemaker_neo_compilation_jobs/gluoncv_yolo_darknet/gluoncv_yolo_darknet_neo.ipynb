{
 "cells": [
  {
   "cell_type": "markdown",
   "id": "a84ec826",
   "metadata": {
    "tags": [
     "papermill-error-cell-tag"
    ]
   },
   "source": [
    "<span style=\"color:red; font-family:Helvetica Neue, Helvetica, Arial, sans-serif; font-size:2em;\">An Exception was encountered at '<a href=\"#papermill-error-cell\">In [10]</a>'.</span>"
   ]
  },
  {
   "cell_type": "code",
   "execution_count": 1,
   "id": "b1babf80",
   "metadata": {
    "execution": {
     "iopub.execute_input": "2021-06-21T00:10:35.165709Z",
     "iopub.status.busy": "2021-06-21T00:10:35.165141Z",
     "iopub.status.idle": "2021-06-21T00:10:35.167186Z",
     "shell.execute_reply": "2021-06-21T00:10:35.167630Z"
    },
    "papermill": {
     "duration": 0.027085,
     "end_time": "2021-06-21T00:10:35.167863",
     "exception": false,
     "start_time": "2021-06-21T00:10:35.140778",
     "status": "completed"
    },
    "tags": [
     "injected-parameters"
    ]
   },
   "outputs": [],
   "source": [
    "# Parameters\n",
    "kms_key = \"arn:aws:kms:us-west-2:521695447989:key/6e9984db-50cf-4c7e-926c-877ec47a8b25\"\n"
   ]
  },
  {
   "cell_type": "markdown",
   "id": "f491a313",
   "metadata": {
    "papermill": {
     "duration": 0.016165,
     "end_time": "2021-06-21T00:10:35.201202",
     "exception": false,
     "start_time": "2021-06-21T00:10:35.185037",
     "status": "completed"
    },
    "tags": []
   },
   "source": [
    "# GluonCV YoloV3 Darknet training and optimizing using Neo\n",
    "\n",
    "1. [Introduction](#Introduction)\n",
    "2. [Setup](#Setup)\n",
    "3. [Data Preparation](#Data-Preparation)\n",
    "  1. [Download data](#Download-data)\n",
    "  2. [Convert data into RecordIO](#Convert-data-into-RecordIO)\n",
    "  3. [Upload data to S3](#Upload-data-to-S3)\n",
    "4. [Training](#Training)\n",
    "5. [Compile the trained model using SageMaker Neo](#Compile-the-trained-model-using-SageMaker-Neo)\n",
    "6. [Deploy the compiled model and request Inferences](#Deploy-the-compiled-model-and-request-Inferences)\n",
    "7. [Delete the Endpoint](#Delete-the-Endpoint)"
   ]
  },
  {
   "cell_type": "markdown",
   "id": "7fba99a8",
   "metadata": {
    "papermill": {
     "duration": 0.016326,
     "end_time": "2021-06-21T00:10:35.233750",
     "exception": false,
     "start_time": "2021-06-21T00:10:35.217424",
     "status": "completed"
    },
    "tags": []
   },
   "source": [
    "## Introduction\n",
    "\n",
    "This is an end-to-end example of GluonCV YoloV3 model training inside of Amazon SageMaker notebook and then compile the trained model using Neo runtime. In this demo, we will demonstrate how to train and to host a darknet53 model on the [Pascal VOC dataset](http://host.robots.ox.ac.uk/pascal/VOC/) using the YoloV3 algorithm. We will also demonstrate how to optimize this trained model using Neo.\n",
    "\n",
    "***This notebook is for demonstration purpose only. Please fine tune the training parameters based on your own dataset.***"
   ]
  },
  {
   "cell_type": "markdown",
   "id": "0a05a2a0",
   "metadata": {
    "papermill": {
     "duration": 0.01647,
     "end_time": "2021-06-21T00:10:35.266716",
     "exception": false,
     "start_time": "2021-06-21T00:10:35.250246",
     "status": "completed"
    },
    "tags": []
   },
   "source": [
    "## Setup\n",
    "\n",
    "To train the YoloV3 Darknet53 model on Amazon SageMaker, we need to setup and authenticate the use of AWS services.\n",
    "\n",
    "To start, we need to upgrade the [SageMaker SDK for Python](https://sagemaker.readthedocs.io/en/stable/v2.html) to v2.33.0 or greater and restart the kernel."
   ]
  },
  {
   "cell_type": "code",
   "execution_count": 2,
   "id": "42b8c9d2",
   "metadata": {
    "execution": {
     "iopub.execute_input": "2021-06-21T00:10:35.307144Z",
     "iopub.status.busy": "2021-06-21T00:10:35.304677Z",
     "iopub.status.idle": "2021-06-21T00:10:35.446216Z",
     "shell.execute_reply": "2021-06-21T00:10:35.445580Z"
    },
    "papermill": {
     "duration": 0.162094,
     "end_time": "2021-06-21T00:10:35.446357",
     "exception": false,
     "start_time": "2021-06-21T00:10:35.284263",
     "status": "completed"
    },
    "tags": []
   },
   "outputs": [
    {
     "name": "stdout",
     "output_type": "stream",
     "text": [
      "/bin/sh: 1: /root/anaconda3/envs/mxnet_p36/bin/pip: not found\r\n"
     ]
    }
   ],
   "source": [
    "!~/anaconda3/envs/mxnet_p36/bin/pip install --upgrade sagemaker>=2.33.0"
   ]
  },
  {
   "cell_type": "markdown",
   "id": "9421666a",
   "metadata": {
    "papermill": {
     "duration": 0.016555,
     "end_time": "2021-06-21T00:10:35.479836",
     "exception": false,
     "start_time": "2021-06-21T00:10:35.463281",
     "status": "completed"
    },
    "tags": []
   },
   "source": [
    "Then we need an AWS account role with SageMaker access. This role is used to give SageMaker access to your data in S3. We also create a session."
   ]
  },
  {
   "cell_type": "code",
   "execution_count": 3,
   "id": "70d43756",
   "metadata": {
    "execution": {
     "iopub.execute_input": "2021-06-21T00:10:35.517314Z",
     "iopub.status.busy": "2021-06-21T00:10:35.516735Z",
     "iopub.status.idle": "2021-06-21T00:10:37.023893Z",
     "shell.execute_reply": "2021-06-21T00:10:37.023378Z"
    },
    "papermill": {
     "duration": 1.527575,
     "end_time": "2021-06-21T00:10:37.024014",
     "exception": false,
     "start_time": "2021-06-21T00:10:35.496439",
     "status": "completed"
    },
    "tags": []
   },
   "outputs": [],
   "source": [
    "import sagemaker\n",
    "from sagemaker import get_execution_role\n",
    "\n",
    "role = get_execution_role()\n",
    "sess = sagemaker.Session()"
   ]
  },
  {
   "cell_type": "markdown",
   "id": "21578a82",
   "metadata": {
    "papermill": {
     "duration": 0.016692,
     "end_time": "2021-06-21T00:10:37.057885",
     "exception": false,
     "start_time": "2021-06-21T00:10:37.041193",
     "status": "completed"
    },
    "tags": []
   },
   "source": [
    "We also need the S3 bucket that is used for training, and storing the tranied model artifacts. "
   ]
  },
  {
   "cell_type": "code",
   "execution_count": 4,
   "id": "8cfb00e2",
   "metadata": {
    "execution": {
     "iopub.execute_input": "2021-06-21T00:10:37.096846Z",
     "iopub.status.busy": "2021-06-21T00:10:37.096267Z",
     "iopub.status.idle": "2021-06-21T00:10:37.292179Z",
     "shell.execute_reply": "2021-06-21T00:10:37.291652Z"
    },
    "papermill": {
     "duration": 0.216627,
     "end_time": "2021-06-21T00:10:37.292303",
     "exception": false,
     "start_time": "2021-06-21T00:10:37.075676",
     "status": "completed"
    },
    "tags": []
   },
   "outputs": [],
   "source": [
    "bucket = sess.default_bucket()\n",
    "folder = \"DEMO-ObjectDetection-YOLOv3-Darknet\"\n",
    "custom_code_sub_folder = folder + \"/custom-code\"\n",
    "training_data_sub_folder = folder + \"/training-data\"\n",
    "validation_data_sub_folder = folder + \"/validation-data\"\n",
    "training_output_sub_folder = folder + \"/training-output\"\n",
    "compilation_output_sub_folder = folder + \"/compilation-output\""
   ]
  },
  {
   "cell_type": "markdown",
   "id": "27265b29",
   "metadata": {
    "papermill": {
     "duration": 0.016901,
     "end_time": "2021-06-21T00:10:37.326121",
     "exception": false,
     "start_time": "2021-06-21T00:10:37.309220",
     "status": "completed"
    },
    "tags": []
   },
   "source": [
    "To easily visualize the detection outputs we also define the following function. The function visualizes the high-confidence predictions with bounding box by filtering out low-confidence detections."
   ]
  },
  {
   "cell_type": "code",
   "execution_count": 5,
   "id": "cef878ff",
   "metadata": {
    "execution": {
     "iopub.execute_input": "2021-06-21T00:10:37.376633Z",
     "iopub.status.busy": "2021-06-21T00:10:37.376036Z",
     "iopub.status.idle": "2021-06-21T00:10:37.545119Z",
     "shell.execute_reply": "2021-06-21T00:10:37.544599Z"
    },
    "papermill": {
     "duration": 0.202343,
     "end_time": "2021-06-21T00:10:37.545268",
     "exception": false,
     "start_time": "2021-06-21T00:10:37.342925",
     "status": "completed"
    },
    "tags": []
   },
   "outputs": [],
   "source": [
    "%matplotlib inline\n",
    "def visualize_detection(img_file, dets, classes=[], thresh=0.6):\n",
    "    \"\"\"\n",
    "    visualize detections in one image\n",
    "    Parameters:\n",
    "    ----------\n",
    "    img_file : numpy.array\n",
    "        image, in bgr format\n",
    "    dets : numpy.array\n",
    "        yolo detections, numpy.array([[id, score, x1, y1, x2, y2]...])\n",
    "        each row is one object\n",
    "    classes : tuple or list of str\n",
    "        class names\n",
    "    thresh : float\n",
    "        score threshold\n",
    "    \"\"\"\n",
    "    import random\n",
    "    import matplotlib.pyplot as plt\n",
    "    import matplotlib.image as mpimg\n",
    "    from matplotlib.patches import Rectangle\n",
    "\n",
    "    img = mpimg.imread(img_file)\n",
    "    plt.imshow(img)\n",
    "    height = img.shape[0]\n",
    "    width = img.shape[1]\n",
    "    colors = dict()\n",
    "    klasses = dets[0][0]\n",
    "    scores = dets[1][0]\n",
    "    bbox = dets[2][0]\n",
    "    for i in range(len(classes)):\n",
    "        klass = klasses[i][0]\n",
    "        score = scores[i][0]\n",
    "        x0, y0, x1, y1 = bbox[i]\n",
    "        if score < thresh:\n",
    "            continue\n",
    "        cls_id = int(klass)\n",
    "        if cls_id not in colors:\n",
    "            colors[cls_id] = (random.random(), random.random(), random.random())\n",
    "        xmin = int(x0 * width / 320)\n",
    "        ymin = int(y0 * height / 320)\n",
    "        xmax = int(x1 * width / 320)\n",
    "        ymax = int(y1 * height / 320)\n",
    "        rect = Rectangle(\n",
    "            (xmin, ymin),\n",
    "            xmax - xmin,\n",
    "            ymax - ymin,\n",
    "            fill=False,\n",
    "            edgecolor=colors[cls_id],\n",
    "            linewidth=3.5,\n",
    "        )\n",
    "        plt.gca().add_patch(rect)\n",
    "        class_name = str(cls_id)\n",
    "        if classes and len(classes) > cls_id:\n",
    "            class_name = classes[cls_id]\n",
    "        plt.gca().text(\n",
    "            xmin,\n",
    "            ymin - 2,\n",
    "            \"{:s} {:.3f}\".format(class_name, score),\n",
    "            bbox=dict(facecolor=colors[cls_id], alpha=0.5),\n",
    "            fontsize=12,\n",
    "            color=\"white\",\n",
    "        )\n",
    "    plt.tight_layout(rect=[0, 0, 2, 2])\n",
    "    plt.show()"
   ]
  },
  {
   "cell_type": "code",
   "execution_count": 6,
   "id": "50115733",
   "metadata": {
    "execution": {
     "iopub.execute_input": "2021-06-21T00:10:37.585227Z",
     "iopub.status.busy": "2021-06-21T00:10:37.584644Z",
     "iopub.status.idle": "2021-06-21T00:10:37.587013Z",
     "shell.execute_reply": "2021-06-21T00:10:37.586557Z"
    },
    "papermill": {
     "duration": 0.023724,
     "end_time": "2021-06-21T00:10:37.587128",
     "exception": false,
     "start_time": "2021-06-21T00:10:37.563404",
     "status": "completed"
    },
    "tags": []
   },
   "outputs": [],
   "source": [
    "# Initializing object categories\n",
    "object_categories = [\n",
    "    \"aeroplane\",\n",
    "    \"bicycle\",\n",
    "    \"bird\",\n",
    "    \"boat\",\n",
    "    \"bottle\",\n",
    "    \"bus\",\n",
    "    \"car\",\n",
    "    \"cat\",\n",
    "    \"chair\",\n",
    "    \"cow\",\n",
    "    \"diningtable\",\n",
    "    \"dog\",\n",
    "    \"horse\",\n",
    "    \"motorbike\",\n",
    "    \"person\",\n",
    "    \"pottedplant\",\n",
    "    \"sheep\",\n",
    "    \"sofa\",\n",
    "    \"train\",\n",
    "    \"tvmonitor\",\n",
    "]\n",
    "\n",
    "# Setting a threshold 0.02 will only plot detection results that have a confidence score greater than 0.02\n",
    "threshold = 0.02"
   ]
  },
  {
   "cell_type": "markdown",
   "id": "838fb60b",
   "metadata": {
    "papermill": {
     "duration": 0.016844,
     "end_time": "2021-06-21T00:10:37.621062",
     "exception": false,
     "start_time": "2021-06-21T00:10:37.604218",
     "status": "completed"
    },
    "tags": []
   },
   "source": [
    "Finally we load the test image into the memory. The test image used in this notebook is from [PEXELS](https://www.pexels.com/) which remains unseen until the time of preditcion."
   ]
  },
  {
   "cell_type": "code",
   "execution_count": 7,
   "id": "2d0b8dc6",
   "metadata": {
    "execution": {
     "iopub.execute_input": "2021-06-21T00:10:37.659378Z",
     "iopub.status.busy": "2021-06-21T00:10:37.658820Z",
     "iopub.status.idle": "2021-06-21T00:10:37.875384Z",
     "shell.execute_reply": "2021-06-21T00:10:37.874780Z"
    },
    "papermill": {
     "duration": 0.237366,
     "end_time": "2021-06-21T00:10:37.875509",
     "exception": false,
     "start_time": "2021-06-21T00:10:37.638143",
     "status": "completed"
    },
    "tags": []
   },
   "outputs": [],
   "source": [
    "import PIL.Image\n",
    "import numpy as np\n",
    "\n",
    "test_file = \"test.jpg\"\n",
    "test_image = PIL.Image.open(test_file)\n",
    "test_image = np.asarray(test_image.resize((320, 320)))"
   ]
  },
  {
   "cell_type": "markdown",
   "id": "1f4f4ab7",
   "metadata": {
    "papermill": {
     "duration": 0.016994,
     "end_time": "2021-06-21T00:10:37.909759",
     "exception": false,
     "start_time": "2021-06-21T00:10:37.892765",
     "status": "completed"
    },
    "tags": []
   },
   "source": [
    "## Data Preparation\n",
    "[Pascal VOC](http://host.robots.ox.ac.uk/pascal/VOC/) was a popular computer vision challenge and they released annual challenge datasets for object detection from 2005 to 2012. In this notebook, we will use the data sets from 2007 and 2012, named as VOC07 and VOC12 respectively. Cumulatively, we have more than 20,000 images containing about 50,000 annotated objects. These annotated objects are grouped into 20 categories.\n",
    "\n",
    "***Notes:***\n",
    "1. While using the Pascal VOC dataset, please be aware of the database usage rights. The VOC data includes images obtained from flickr's website. Use of these images must respect the corresponding terms of use: https://www.flickr.com/help/terms\n",
    "2. Default EBS Volume size for SageMaker Notebook instances is 5GB. While performing this step if you run out of storage then consider increasing the volume size. One way to do so is by using AWS CLI as documented [here](https://awscli.amazonaws.com/v2/documentation/api/latest/reference/sagemaker/update-notebook-instance.html)."
   ]
  },
  {
   "cell_type": "markdown",
   "id": "0695e250",
   "metadata": {
    "papermill": {
     "duration": 0.017126,
     "end_time": "2021-06-21T00:10:37.944174",
     "exception": false,
     "start_time": "2021-06-21T00:10:37.927048",
     "status": "completed"
    },
    "tags": []
   },
   "source": [
    "### Download data\n",
    "Download the Pascal VOC datasets from 2007 and 2012 from Oxford University's website."
   ]
  },
  {
   "cell_type": "code",
   "execution_count": 8,
   "id": "8de95ca9",
   "metadata": {
    "execution": {
     "iopub.execute_input": "2021-06-21T00:10:37.983740Z",
     "iopub.status.busy": "2021-06-21T00:10:37.983190Z",
     "iopub.status.idle": "2021-06-21T00:15:35.371976Z",
     "shell.execute_reply": "2021-06-21T00:15:35.372457Z"
    },
    "papermill": {
     "duration": 297.411297,
     "end_time": "2021-06-21T00:15:35.372624",
     "exception": false,
     "start_time": "2021-06-21T00:10:37.961327",
     "status": "completed"
    },
    "tags": []
   },
   "outputs": [
    {
     "name": "stdout",
     "output_type": "stream",
     "text": [
      "--2021-06-21 00:10:38--  https://s3.amazonaws.com/fast-ai-imagelocal/pascal-voc.tgz\r\n",
      "Resolving s3.amazonaws.com (s3.amazonaws.com)... 52.216.16.179\r\n",
      "Connecting to s3.amazonaws.com (s3.amazonaws.com)|52.216.16.179|:443... "
     ]
    },
    {
     "name": "stdout",
     "output_type": "stream",
     "text": [
      "connected.\r\n"
     ]
    },
    {
     "name": "stdout",
     "output_type": "stream",
     "text": [
      "HTTP request sent, awaiting response... "
     ]
    },
    {
     "name": "stdout",
     "output_type": "stream",
     "text": [
      "200 OK\r\n",
      "Length: 4639722845 (4.3G) [application/x-tar]\r\n",
      "Saving to: ‘/tmp/pascal-voc.tgz’\r\n",
      "\r\n",
      "\r",
      "pascal-voc.tgz        0%[                    ]       0  --.-KB/s               "
     ]
    },
    {
     "name": "stdout",
     "output_type": "stream",
     "text": [
      "\r",
      "pascal-voc.tgz        0%[                    ] 109.63K   504KB/s               "
     ]
    },
    {
     "name": "stdout",
     "output_type": "stream",
     "text": [
      "\r",
      "pascal-voc.tgz        0%[                    ] 891.63K  2.00MB/s               "
     ]
    },
    {
     "name": "stdout",
     "output_type": "stream",
     "text": [
      "\r",
      "pascal-voc.tgz        0%[                    ]   4.70M  7.20MB/s               "
     ]
    },
    {
     "name": "stdout",
     "output_type": "stream",
     "text": [
      "\r",
      "pascal-voc.tgz        0%[                    ]   9.23M  10.6MB/s               "
     ]
    },
    {
     "name": "stdout",
     "output_type": "stream",
     "text": [
      "\r",
      "pascal-voc.tgz        0%[                    ]  13.73M  12.6MB/s               "
     ]
    },
    {
     "name": "stdout",
     "output_type": "stream",
     "text": [
      "\r",
      "pascal-voc.tgz        0%[                    ]  18.20M  13.9MB/s               "
     ]
    },
    {
     "name": "stdout",
     "output_type": "stream",
     "text": [
      "\r",
      "pascal-voc.tgz        0%[                    ]  22.64M  14.8MB/s               "
     ]
    },
    {
     "name": "stdout",
     "output_type": "stream",
     "text": [
      "\r",
      "pascal-voc.tgz        0%[                    ]  27.06M  15.5MB/s               "
     ]
    },
    {
     "name": "stdout",
     "output_type": "stream",
     "text": [
      "\r",
      "pascal-voc.tgz        0%[                    ]  31.48M  16.0MB/s               "
     ]
    },
    {
     "name": "stdout",
     "output_type": "stream",
     "text": [
      "\r",
      "pascal-voc.tgz        0%[                    ]  35.89M  16.5MB/s               "
     ]
    },
    {
     "name": "stdout",
     "output_type": "stream",
     "text": [
      "\r",
      "pascal-voc.tgz        0%[                    ]  40.31M  16.8MB/s               "
     ]
    },
    {
     "name": "stdout",
     "output_type": "stream",
     "text": [
      "\r",
      "pascal-voc.tgz        1%[                    ]  44.77M  17.1MB/s               "
     ]
    },
    {
     "name": "stdout",
     "output_type": "stream",
     "text": [
      "\r",
      "pascal-voc.tgz        1%[                    ]  49.20M  17.4MB/s               "
     ]
    },
    {
     "name": "stdout",
     "output_type": "stream",
     "text": [
      "\r",
      "pascal-voc.tgz        1%[                    ]  53.62M  17.6MB/s    eta 4m 9s  "
     ]
    },
    {
     "name": "stdout",
     "output_type": "stream",
     "text": [
      "\r",
      "pascal-voc.tgz        1%[                    ]  58.06M  17.8MB/s    eta 4m 9s  "
     ]
    },
    {
     "name": "stdout",
     "output_type": "stream",
     "text": [
      "\r",
      "pascal-voc.tgz        1%[                    ]  62.45M  17.9MB/s    eta 4m 9s  "
     ]
    },
    {
     "name": "stdout",
     "output_type": "stream",
     "text": [
      "\r",
      "pascal-voc.tgz        1%[                    ]  66.88M  19.1MB/s    eta 4m 9s  "
     ]
    },
    {
     "name": "stdout",
     "output_type": "stream",
     "text": [
      "\r",
      "pascal-voc.tgz        1%[                    ]  71.33M  20.0MB/s    eta 4m 9s  "
     ]
    },
    {
     "name": "stdout",
     "output_type": "stream",
     "text": [
      "\r",
      "pascal-voc.tgz        1%[                    ]  75.77M  20.1MB/s    eta 3m 58s "
     ]
    },
    {
     "name": "stdout",
     "output_type": "stream",
     "text": [
      "\r",
      "pascal-voc.tgz        1%[                    ]  80.22M  20.3MB/s    eta 3m 58s "
     ]
    },
    {
     "name": "stdout",
     "output_type": "stream",
     "text": [
      "\r",
      "pascal-voc.tgz        1%[                    ]  84.67M  20.1MB/s    eta 3m 58s "
     ]
    },
    {
     "name": "stdout",
     "output_type": "stream",
     "text": [
      "\r",
      "pascal-voc.tgz        2%[                    ]  89.12M  20.3MB/s    eta 3m 58s "
     ]
    },
    {
     "name": "stdout",
     "output_type": "stream",
     "text": [
      "\r",
      "pascal-voc.tgz        2%[                    ]  93.56M  20.1MB/s    eta 3m 58s "
     ]
    },
    {
     "name": "stdout",
     "output_type": "stream",
     "text": [
      "\r",
      "pascal-voc.tgz        2%[                    ]  97.98M  20.3MB/s    eta 3m 51s "
     ]
    },
    {
     "name": "stdout",
     "output_type": "stream",
     "text": [
      "\r",
      "pascal-voc.tgz        2%[                    ] 102.39M  20.2MB/s    eta 3m 51s "
     ]
    },
    {
     "name": "stdout",
     "output_type": "stream",
     "text": [
      "\r",
      "pascal-voc.tgz        2%[                    ] 106.81M  20.2MB/s    eta 3m 51s "
     ]
    },
    {
     "name": "stdout",
     "output_type": "stream",
     "text": [
      "\r",
      "pascal-voc.tgz        2%[                    ] 111.23M  20.2MB/s    eta 3m 51s "
     ]
    },
    {
     "name": "stdout",
     "output_type": "stream",
     "text": [
      "\r",
      "pascal-voc.tgz        2%[                    ] 115.64M  20.0MB/s    eta 3m 51s "
     ]
    },
    {
     "name": "stdout",
     "output_type": "stream",
     "text": [
      "\r",
      "pascal-voc.tgz        2%[                    ] 120.06M  20.1MB/s    eta 3m 47s "
     ]
    },
    {
     "name": "stdout",
     "output_type": "stream",
     "text": [
      "\r",
      "pascal-voc.tgz        2%[                    ] 124.48M  20.2MB/s    eta 3m 47s "
     ]
    },
    {
     "name": "stdout",
     "output_type": "stream",
     "text": [
      "\r",
      "pascal-voc.tgz        2%[                    ] 128.89M  20.0MB/s    eta 3m 47s "
     ]
    },
    {
     "name": "stdout",
     "output_type": "stream",
     "text": [
      "\r",
      "pascal-voc.tgz        3%[                    ] 133.31M  20.1MB/s    eta 3m 47s "
     ]
    },
    {
     "name": "stdout",
     "output_type": "stream",
     "text": [
      "\r",
      "pascal-voc.tgz        3%[                    ] 137.73M  20.3MB/s    eta 3m 47s "
     ]
    },
    {
     "name": "stdout",
     "output_type": "stream",
     "text": [
      "\r",
      "pascal-voc.tgz        3%[                    ] 142.14M  20.1MB/s    eta 3m 43s "
     ]
    },
    {
     "name": "stdout",
     "output_type": "stream",
     "text": [
      "\r",
      "pascal-voc.tgz        3%[                    ] 146.56M  20.3MB/s    eta 3m 43s "
     ]
    },
    {
     "name": "stdout",
     "output_type": "stream",
     "text": [
      "\r",
      "pascal-voc.tgz        3%[                    ] 150.98M  20.3MB/s    eta 3m 43s "
     ]
    },
    {
     "name": "stdout",
     "output_type": "stream",
     "text": [
      "\r",
      "pascal-voc.tgz        3%[                    ] 155.39M  20.2MB/s    eta 3m 43s "
     ]
    },
    {
     "name": "stdout",
     "output_type": "stream",
     "text": [
      "\r",
      "pascal-voc.tgz        3%[                    ] 159.81M  20.1MB/s    eta 3m 43s "
     ]
    },
    {
     "name": "stdout",
     "output_type": "stream",
     "text": [
      "\r",
      "pascal-voc.tgz        3%[                    ] 164.23M  20.3MB/s    eta 3m 41s "
     ]
    },
    {
     "name": "stdout",
     "output_type": "stream",
     "text": [
      "\r",
      "pascal-voc.tgz        3%[                    ] 168.64M  20.3MB/s    eta 3m 41s "
     ]
    },
    {
     "name": "stdout",
     "output_type": "stream",
     "text": [
      "\r",
      "pascal-voc.tgz        3%[                    ] 173.06M  20.1MB/s    eta 3m 41s "
     ]
    },
    {
     "name": "stdout",
     "output_type": "stream",
     "text": [
      "\r",
      "pascal-voc.tgz        4%[                    ] 177.55M  20.3MB/s    eta 3m 41s "
     ]
    },
    {
     "name": "stdout",
     "output_type": "stream",
     "text": [
      "\r",
      "pascal-voc.tgz        4%[                    ] 181.95M  20.2MB/s    eta 3m 41s "
     ]
    },
    {
     "name": "stdout",
     "output_type": "stream",
     "text": [
      "\r",
      "pascal-voc.tgz        4%[                    ] 186.38M  20.0MB/s    eta 3m 38s "
     ]
    },
    {
     "name": "stdout",
     "output_type": "stream",
     "text": [
      "\r",
      "pascal-voc.tgz        4%[                    ] 190.80M  20.1MB/s    eta 3m 38s "
     ]
    },
    {
     "name": "stdout",
     "output_type": "stream",
     "text": [
      "\r",
      "pascal-voc.tgz        4%[                    ] 195.20M  20.3MB/s    eta 3m 38s "
     ]
    },
    {
     "name": "stdout",
     "output_type": "stream",
     "text": [
      "\r",
      "pascal-voc.tgz        4%[                    ] 199.62M  20.2MB/s    eta 3m 38s "
     ]
    },
    {
     "name": "stdout",
     "output_type": "stream",
     "text": [
      "\r",
      "pascal-voc.tgz        4%[                    ] 204.05M  20.0MB/s    eta 3m 38s "
     ]
    },
    {
     "name": "stdout",
     "output_type": "stream",
     "text": [
      "\r",
      "pascal-voc.tgz        4%[                    ] 208.47M  20.1MB/s    eta 3m 36s "
     ]
    },
    {
     "name": "stdout",
     "output_type": "stream",
     "text": [
      "\r",
      "pascal-voc.tgz        4%[                    ] 212.92M  20.3MB/s    eta 3m 36s "
     ]
    },
    {
     "name": "stdout",
     "output_type": "stream",
     "text": [
      "\r",
      "pascal-voc.tgz        4%[                    ] 217.36M  20.3MB/s    eta 3m 36s "
     ]
    },
    {
     "name": "stdout",
     "output_type": "stream",
     "text": [
      "\r",
      "pascal-voc.tgz        5%[>                   ] 221.77M  20.0MB/s    eta 3m 36s "
     ]
    },
    {
     "name": "stdout",
     "output_type": "stream",
     "text": [
      "\r",
      "pascal-voc.tgz        5%[>                   ] 226.19M  20.1MB/s    eta 3m 36s "
     ]
    },
    {
     "name": "stdout",
     "output_type": "stream",
     "text": [
      "\r",
      "pascal-voc.tgz        5%[>                   ] 230.61M  20.3MB/s    eta 3m 34s "
     ]
    },
    {
     "name": "stdout",
     "output_type": "stream",
     "text": [
      "\r",
      "pascal-voc.tgz        5%[>                   ] 235.03M  20.2MB/s    eta 3m 34s "
     ]
    },
    {
     "name": "stdout",
     "output_type": "stream",
     "text": [
      "\r",
      "pascal-voc.tgz        5%[>                   ] 239.44M  20.0MB/s    eta 3m 34s "
     ]
    },
    {
     "name": "stdout",
     "output_type": "stream",
     "text": [
      "\r",
      "pascal-voc.tgz        5%[>                   ] 243.86M  20.1MB/s    eta 3m 34s "
     ]
    },
    {
     "name": "stdout",
     "output_type": "stream",
     "text": [
      "\r",
      "pascal-voc.tgz        5%[>                   ] 248.28M  20.3MB/s    eta 3m 34s "
     ]
    },
    {
     "name": "stdout",
     "output_type": "stream",
     "text": [
      "\r",
      "pascal-voc.tgz        5%[>                   ] 252.69M  20.3MB/s    eta 3m 32s "
     ]
    },
    {
     "name": "stdout",
     "output_type": "stream",
     "text": [
      "\r",
      "pascal-voc.tgz        5%[>                   ] 257.11M  20.1MB/s    eta 3m 32s "
     ]
    },
    {
     "name": "stdout",
     "output_type": "stream",
     "text": [
      "\r",
      "pascal-voc.tgz        5%[>                   ] 261.56M  20.0MB/s    eta 3m 32s "
     ]
    },
    {
     "name": "stdout",
     "output_type": "stream",
     "text": [
      "\r",
      "pascal-voc.tgz        6%[>                   ] 266.00M  20.3MB/s    eta 3m 32s "
     ]
    },
    {
     "name": "stdout",
     "output_type": "stream",
     "text": [
      "\r",
      "pascal-voc.tgz        6%[>                   ] 270.42M  20.3MB/s    eta 3m 32s "
     ]
    },
    {
     "name": "stdout",
     "output_type": "stream",
     "text": [
      "\r",
      "pascal-voc.tgz        6%[>                   ] 274.86M  20.2MB/s    eta 3m 31s "
     ]
    },
    {
     "name": "stdout",
     "output_type": "stream",
     "text": [
      "\r",
      "pascal-voc.tgz        6%[>                   ] 279.31M  20.0MB/s    eta 3m 31s "
     ]
    },
    {
     "name": "stdout",
     "output_type": "stream",
     "text": [
      "\r",
      "pascal-voc.tgz        6%[>                   ] 283.73M  20.1MB/s    eta 3m 31s "
     ]
    },
    {
     "name": "stdout",
     "output_type": "stream",
     "text": [
      "\r",
      "pascal-voc.tgz        6%[>                   ] 288.16M  20.3MB/s    eta 3m 31s "
     ]
    },
    {
     "name": "stdout",
     "output_type": "stream",
     "text": [
      "\r",
      "pascal-voc.tgz        6%[>                   ] 292.62M  20.3MB/s    eta 3m 31s "
     ]
    },
    {
     "name": "stdout",
     "output_type": "stream",
     "text": [
      "\r",
      "pascal-voc.tgz        6%[>                   ] 297.05M  20.1MB/s    eta 3m 29s "
     ]
    },
    {
     "name": "stdout",
     "output_type": "stream",
     "text": [
      "\r",
      "pascal-voc.tgz        6%[>                   ] 301.47M  20.1MB/s    eta 3m 29s "
     ]
    },
    {
     "name": "stdout",
     "output_type": "stream",
     "text": [
      "\r",
      "pascal-voc.tgz        6%[>                   ] 305.88M  20.3MB/s    eta 3m 29s "
     ]
    },
    {
     "name": "stdout",
     "output_type": "stream",
     "text": [
      "\r",
      "pascal-voc.tgz        7%[>                   ] 310.30M  20.3MB/s    eta 3m 29s "
     ]
    },
    {
     "name": "stdout",
     "output_type": "stream",
     "text": [
      "\r",
      "pascal-voc.tgz        7%[>                   ] 314.72M  20.2MB/s    eta 3m 29s "
     ]
    },
    {
     "name": "stdout",
     "output_type": "stream",
     "text": [
      "\r",
      "pascal-voc.tgz        7%[>                   ] 319.12M  20.1MB/s    eta 3m 28s "
     ]
    },
    {
     "name": "stdout",
     "output_type": "stream",
     "text": [
      "\r",
      "pascal-voc.tgz        7%[>                   ] 323.55M  20.3MB/s    eta 3m 28s "
     ]
    },
    {
     "name": "stdout",
     "output_type": "stream",
     "text": [
      "\r",
      "pascal-voc.tgz        7%[>                   ] 327.97M  20.3MB/s    eta 3m 28s "
     ]
    },
    {
     "name": "stdout",
     "output_type": "stream",
     "text": [
      "\r",
      "pascal-voc.tgz        7%[>                   ] 332.44M  20.3MB/s    eta 3m 28s "
     ]
    },
    {
     "name": "stdout",
     "output_type": "stream",
     "text": [
      "\r",
      "pascal-voc.tgz        7%[>                   ] 336.86M  20.3MB/s    eta 3m 28s "
     ]
    },
    {
     "name": "stdout",
     "output_type": "stream",
     "text": [
      "\r",
      "pascal-voc.tgz        7%[>                   ] 341.28M  20.1MB/s    eta 3m 26s "
     ]
    },
    {
     "name": "stdout",
     "output_type": "stream",
     "text": [
      "\r",
      "pascal-voc.tgz        7%[>                   ] 345.69M  20.3MB/s    eta 3m 26s "
     ]
    },
    {
     "name": "stdout",
     "output_type": "stream",
     "text": [
      "\r",
      "pascal-voc.tgz        7%[>                   ] 350.11M  20.3MB/s    eta 3m 26s "
     ]
    },
    {
     "name": "stdout",
     "output_type": "stream",
     "text": [
      "\r",
      "pascal-voc.tgz        8%[>                   ] 354.53M  20.3MB/s    eta 3m 26s "
     ]
    },
    {
     "name": "stdout",
     "output_type": "stream",
     "text": [
      "\r",
      "pascal-voc.tgz        8%[>                   ] 358.95M  20.1MB/s    eta 3m 26s "
     ]
    },
    {
     "name": "stdout",
     "output_type": "stream",
     "text": [
      "\r",
      "pascal-voc.tgz        8%[>                   ] 363.42M  20.3MB/s    eta 3m 25s "
     ]
    },
    {
     "name": "stdout",
     "output_type": "stream",
     "text": [
      "\r",
      "pascal-voc.tgz        8%[>                   ] 367.84M  20.3MB/s    eta 3m 25s "
     ]
    },
    {
     "name": "stdout",
     "output_type": "stream",
     "text": [
      "\r",
      "pascal-voc.tgz        8%[>                   ] 372.25M  20.3MB/s    eta 3m 25s "
     ]
    },
    {
     "name": "stdout",
     "output_type": "stream",
     "text": [
      "\r",
      "pascal-voc.tgz        8%[>                   ] 376.67M  20.2MB/s    eta 3m 25s "
     ]
    },
    {
     "name": "stdout",
     "output_type": "stream",
     "text": [
      "\r",
      "pascal-voc.tgz        8%[>                   ] 381.09M  20.1MB/s    eta 3m 25s "
     ]
    },
    {
     "name": "stdout",
     "output_type": "stream",
     "text": [
      "\r",
      "pascal-voc.tgz        8%[>                   ] 385.50M  20.3MB/s    eta 3m 23s "
     ]
    },
    {
     "name": "stdout",
     "output_type": "stream",
     "text": [
      "\r",
      "pascal-voc.tgz        8%[>                   ] 389.94M  20.4MB/s    eta 3m 23s "
     ]
    },
    {
     "name": "stdout",
     "output_type": "stream",
     "text": [
      "\r",
      "pascal-voc.tgz        8%[>                   ] 394.41M  20.4MB/s    eta 3m 23s "
     ]
    },
    {
     "name": "stdout",
     "output_type": "stream",
     "text": [
      "\r",
      "pascal-voc.tgz        9%[>                   ] 398.81M  20.2MB/s    eta 3m 23s "
     ]
    },
    {
     "name": "stdout",
     "output_type": "stream",
     "text": [
      "\r",
      "pascal-voc.tgz        9%[>                   ] 403.23M  20.1MB/s    eta 3m 23s "
     ]
    },
    {
     "name": "stdout",
     "output_type": "stream",
     "text": [
      "\r",
      "pascal-voc.tgz        9%[>                   ] 407.66M  20.3MB/s    eta 3m 22s "
     ]
    },
    {
     "name": "stdout",
     "output_type": "stream",
     "text": [
      "\r",
      "pascal-voc.tgz        9%[>                   ] 412.06M  20.4MB/s    eta 3m 22s "
     ]
    },
    {
     "name": "stdout",
     "output_type": "stream",
     "text": [
      "\r",
      "pascal-voc.tgz        9%[>                   ] 416.48M  20.4MB/s    eta 3m 22s "
     ]
    },
    {
     "name": "stdout",
     "output_type": "stream",
     "text": [
      "\r",
      "pascal-voc.tgz        9%[>                   ] 420.91M  20.3MB/s    eta 3m 22s "
     ]
    },
    {
     "name": "stdout",
     "output_type": "stream",
     "text": [
      "\r",
      "pascal-voc.tgz        9%[>                   ] 425.31M  20.2MB/s    eta 3m 22s "
     ]
    },
    {
     "name": "stdout",
     "output_type": "stream",
     "text": [
      "\r",
      "pascal-voc.tgz        9%[>                   ] 429.73M  20.3MB/s    eta 3m 21s "
     ]
    },
    {
     "name": "stdout",
     "output_type": "stream",
     "text": [
      "\r",
      "pascal-voc.tgz        9%[>                   ] 434.16M  20.3MB/s    eta 3m 21s "
     ]
    },
    {
     "name": "stdout",
     "output_type": "stream",
     "text": [
      "\r",
      "pascal-voc.tgz        9%[>                   ] 438.58M  20.3MB/s    eta 3m 21s "
     ]
    },
    {
     "name": "stdout",
     "output_type": "stream",
     "text": [
      "\r",
      "pascal-voc.tgz       10%[=>                  ] 442.98M  20.3MB/s    eta 3m 21s "
     ]
    },
    {
     "name": "stdout",
     "output_type": "stream",
     "text": [
      "\r",
      "pascal-voc.tgz       10%[=>                  ] 447.41M  20.2MB/s    eta 3m 21s "
     ]
    },
    {
     "name": "stdout",
     "output_type": "stream",
     "text": [
      "\r",
      "pascal-voc.tgz       10%[=>                  ] 451.83M  20.3MB/s    eta 3m 19s "
     ]
    },
    {
     "name": "stdout",
     "output_type": "stream",
     "text": [
      "\r",
      "pascal-voc.tgz       10%[=>                  ] 456.23M  20.3MB/s    eta 3m 19s "
     ]
    },
    {
     "name": "stdout",
     "output_type": "stream",
     "text": [
      "\r",
      "pascal-voc.tgz       10%[=>                  ] 460.66M  20.3MB/s    eta 3m 19s "
     ]
    },
    {
     "name": "stdout",
     "output_type": "stream",
     "text": [
      "\r",
      "pascal-voc.tgz       10%[=>                  ] 465.08M  20.4MB/s    eta 3m 19s "
     ]
    },
    {
     "name": "stdout",
     "output_type": "stream",
     "text": [
      "\r",
      "pascal-voc.tgz       10%[=>                  ] 468.88M  20.3MB/s    eta 3m 19s "
     ]
    },
    {
     "name": "stdout",
     "output_type": "stream",
     "text": [
      "\r",
      "pascal-voc.tgz       10%[=>                  ] 472.67M  20.0MB/s    eta 3m 18s "
     ]
    },
    {
     "name": "stdout",
     "output_type": "stream",
     "text": [
      "\r",
      "pascal-voc.tgz       10%[=>                  ] 477.02M  20.3MB/s    eta 3m 18s "
     ]
    },
    {
     "name": "stdout",
     "output_type": "stream",
     "text": [
      "\r",
      "pascal-voc.tgz       10%[=>                  ] 481.39M  20.4MB/s    eta 3m 18s "
     ]
    },
    {
     "name": "stdout",
     "output_type": "stream",
     "text": [
      "\r",
      "pascal-voc.tgz       10%[=>                  ] 485.81M  20.5MB/s    eta 3m 18s "
     ]
    },
    {
     "name": "stdout",
     "output_type": "stream",
     "text": [
      "\r",
      "pascal-voc.tgz       11%[=>                  ] 489.48M  20.3MB/s    eta 3m 18s "
     ]
    },
    {
     "name": "stdout",
     "output_type": "stream",
     "text": [
      "\r",
      "pascal-voc.tgz       11%[=>                  ] 493.36M  20.0MB/s    eta 3m 17s "
     ]
    },
    {
     "name": "stdout",
     "output_type": "stream",
     "text": [
      "\r",
      "pascal-voc.tgz       11%[=>                  ] 497.70M  20.2MB/s    eta 3m 17s "
     ]
    },
    {
     "name": "stdout",
     "output_type": "stream",
     "text": [
      "\r",
      "pascal-voc.tgz       11%[=>                  ] 502.06M  20.4MB/s    eta 3m 17s "
     ]
    },
    {
     "name": "stdout",
     "output_type": "stream",
     "text": [
      "\r",
      "pascal-voc.tgz       11%[=>                  ] 506.48M  20.4MB/s    eta 3m 17s "
     ]
    },
    {
     "name": "stdout",
     "output_type": "stream",
     "text": [
      "\r",
      "pascal-voc.tgz       11%[=>                  ] 510.89M  20.4MB/s    eta 3m 17s "
     ]
    },
    {
     "name": "stdout",
     "output_type": "stream",
     "text": [
      "\r",
      "pascal-voc.tgz       11%[=>                  ] 515.31M  20.3MB/s    eta 3m 16s "
     ]
    },
    {
     "name": "stdout",
     "output_type": "stream",
     "text": [
      "\r",
      "pascal-voc.tgz       11%[=>                  ] 519.73M  20.3MB/s    eta 3m 16s "
     ]
    },
    {
     "name": "stdout",
     "output_type": "stream",
     "text": [
      "\r",
      "pascal-voc.tgz       11%[=>                  ] 524.16M  20.3MB/s    eta 3m 16s "
     ]
    },
    {
     "name": "stdout",
     "output_type": "stream",
     "text": [
      "\r",
      "pascal-voc.tgz       11%[=>                  ] 528.56M  20.4MB/s    eta 3m 16s "
     ]
    },
    {
     "name": "stdout",
     "output_type": "stream",
     "text": [
      "\r",
      "pascal-voc.tgz       12%[=>                  ] 532.98M  20.4MB/s    eta 3m 16s "
     ]
    },
    {
     "name": "stdout",
     "output_type": "stream",
     "text": [
      "\r",
      "pascal-voc.tgz       12%[=>                  ] 537.45M  20.3MB/s    eta 3m 14s "
     ]
    },
    {
     "name": "stdout",
     "output_type": "stream",
     "text": [
      "\r",
      "pascal-voc.tgz       12%[=>                  ] 541.88M  20.3MB/s    eta 3m 14s "
     ]
    },
    {
     "name": "stdout",
     "output_type": "stream",
     "text": [
      "\r",
      "pascal-voc.tgz       12%[=>                  ] 546.30M  20.2MB/s    eta 3m 14s "
     ]
    },
    {
     "name": "stdout",
     "output_type": "stream",
     "text": [
      "\r",
      "pascal-voc.tgz       12%[=>                  ] 550.69M  20.4MB/s    eta 3m 14s "
     ]
    },
    {
     "name": "stdout",
     "output_type": "stream",
     "text": [
      "\r",
      "pascal-voc.tgz       12%[=>                  ] 554.14M  20.3MB/s    eta 3m 14s "
     ]
    },
    {
     "name": "stdout",
     "output_type": "stream",
     "text": [
      "\r",
      "pascal-voc.tgz       12%[=>                  ] 558.20M  20.3MB/s    eta 3m 13s "
     ]
    },
    {
     "name": "stdout",
     "output_type": "stream",
     "text": [
      "\r",
      "pascal-voc.tgz       12%[=>                  ] 562.55M  20.3MB/s    eta 3m 13s "
     ]
    },
    {
     "name": "stdout",
     "output_type": "stream",
     "text": [
      "\r",
      "pascal-voc.tgz       12%[=>                  ] 566.91M  20.3MB/s    eta 3m 13s "
     ]
    },
    {
     "name": "stdout",
     "output_type": "stream",
     "text": [
      "\r",
      "pascal-voc.tgz       12%[=>                  ] 571.30M  20.4MB/s    eta 3m 13s "
     ]
    },
    {
     "name": "stdout",
     "output_type": "stream",
     "text": [
      "\r",
      "pascal-voc.tgz       12%[=>                  ] 574.77M  20.3MB/s    eta 3m 13s "
     ]
    },
    {
     "name": "stdout",
     "output_type": "stream",
     "text": [
      "\r",
      "pascal-voc.tgz       13%[=>                  ] 578.88M  20.3MB/s    eta 3m 12s "
     ]
    },
    {
     "name": "stdout",
     "output_type": "stream",
     "text": [
      "\r",
      "pascal-voc.tgz       13%[=>                  ] 583.22M  20.4MB/s    eta 3m 12s "
     ]
    },
    {
     "name": "stdout",
     "output_type": "stream",
     "text": [
      "\r",
      "pascal-voc.tgz       13%[=>                  ] 587.58M  20.4MB/s    eta 3m 12s "
     ]
    },
    {
     "name": "stdout",
     "output_type": "stream",
     "text": [
      "\r",
      "pascal-voc.tgz       13%[=>                  ] 591.78M  20.3MB/s    eta 3m 12s "
     ]
    },
    {
     "name": "stdout",
     "output_type": "stream",
     "text": [
      "\r",
      "pascal-voc.tgz       13%[=>                  ] 595.19M  20.1MB/s    eta 3m 12s "
     ]
    },
    {
     "name": "stdout",
     "output_type": "stream",
     "text": [
      "\r",
      "pascal-voc.tgz       13%[=>                  ] 599.55M  20.3MB/s    eta 3m 11s "
     ]
    },
    {
     "name": "stdout",
     "output_type": "stream",
     "text": [
      "\r",
      "pascal-voc.tgz       13%[=>                  ] 603.91M  20.4MB/s    eta 3m 11s "
     ]
    },
    {
     "name": "stdout",
     "output_type": "stream",
     "text": [
      "\r",
      "pascal-voc.tgz       13%[=>                  ] 608.25M  20.4MB/s    eta 3m 11s "
     ]
    },
    {
     "name": "stdout",
     "output_type": "stream",
     "text": [
      "\r",
      "pascal-voc.tgz       13%[=>                  ] 612.45M  20.3MB/s    eta 3m 11s "
     ]
    },
    {
     "name": "stdout",
     "output_type": "stream",
     "text": [
      "\r",
      "pascal-voc.tgz       13%[=>                  ] 615.92M  20.1MB/s    eta 3m 11s "
     ]
    },
    {
     "name": "stdout",
     "output_type": "stream",
     "text": [
      "\r",
      "pascal-voc.tgz       14%[=>                  ] 619.78M  20.1MB/s    eta 3m 10s "
     ]
    },
    {
     "name": "stdout",
     "output_type": "stream",
     "text": [
      "\r",
      "pascal-voc.tgz       14%[=>                  ] 624.20M  20.2MB/s    eta 3m 10s "
     ]
    },
    {
     "name": "stdout",
     "output_type": "stream",
     "text": [
      "\r",
      "pascal-voc.tgz       14%[=>                  ] 628.62M  20.2MB/s    eta 3m 10s "
     ]
    },
    {
     "name": "stdout",
     "output_type": "stream",
     "text": [
      "\r",
      "pascal-voc.tgz       14%[=>                  ] 633.03M  20.2MB/s    eta 3m 10s "
     ]
    },
    {
     "name": "stdout",
     "output_type": "stream",
     "text": [
      "\r",
      "pascal-voc.tgz       14%[=>                  ] 637.45M  20.1MB/s    eta 3m 10s "
     ]
    },
    {
     "name": "stdout",
     "output_type": "stream",
     "text": [
      "\r",
      "pascal-voc.tgz       14%[=>                  ] 641.88M  20.1MB/s    eta 3m 9s  "
     ]
    },
    {
     "name": "stdout",
     "output_type": "stream",
     "text": [
      "\r",
      "pascal-voc.tgz       14%[=>                  ] 646.28M  20.2MB/s    eta 3m 9s  "
     ]
    },
    {
     "name": "stdout",
     "output_type": "stream",
     "text": [
      "\r",
      "pascal-voc.tgz       14%[=>                  ] 650.70M  20.2MB/s    eta 3m 9s  "
     ]
    },
    {
     "name": "stdout",
     "output_type": "stream",
     "text": [
      "\r",
      "pascal-voc.tgz       14%[=>                  ] 655.12M  20.2MB/s    eta 3m 9s  "
     ]
    },
    {
     "name": "stdout",
     "output_type": "stream",
     "text": [
      "\r",
      "pascal-voc.tgz       14%[=>                  ] 659.55M  20.1MB/s    eta 3m 9s  "
     ]
    },
    {
     "name": "stdout",
     "output_type": "stream",
     "text": [
      "\r",
      "pascal-voc.tgz       15%[==>                 ] 664.02M  20.1MB/s    eta 3m 8s  "
     ]
    },
    {
     "name": "stdout",
     "output_type": "stream",
     "text": [
      "\r",
      "pascal-voc.tgz       15%[==>                 ] 668.44M  20.2MB/s    eta 3m 8s  "
     ]
    },
    {
     "name": "stdout",
     "output_type": "stream",
     "text": [
      "\r",
      "pascal-voc.tgz       15%[==>                 ] 672.86M  20.2MB/s    eta 3m 8s  "
     ]
    },
    {
     "name": "stdout",
     "output_type": "stream",
     "text": [
      "\r",
      "pascal-voc.tgz       15%[==>                 ] 677.27M  20.2MB/s    eta 3m 8s  "
     ]
    },
    {
     "name": "stdout",
     "output_type": "stream",
     "text": [
      "\r",
      "pascal-voc.tgz       15%[==>                 ] 681.69M  20.4MB/s    eta 3m 8s  "
     ]
    },
    {
     "name": "stdout",
     "output_type": "stream",
     "text": [
      "\r",
      "pascal-voc.tgz       15%[==>                 ] 686.11M  20.3MB/s    eta 3m 7s  "
     ]
    },
    {
     "name": "stdout",
     "output_type": "stream",
     "text": [
      "\r",
      "pascal-voc.tgz       15%[==>                 ] 690.52M  20.2MB/s    eta 3m 7s  "
     ]
    },
    {
     "name": "stdout",
     "output_type": "stream",
     "text": [
      "\r",
      "pascal-voc.tgz       15%[==>                 ] 694.94M  20.2MB/s    eta 3m 7s  "
     ]
    },
    {
     "name": "stdout",
     "output_type": "stream",
     "text": [
      "\r",
      "pascal-voc.tgz       15%[==>                 ] 699.36M  20.1MB/s    eta 3m 7s  "
     ]
    },
    {
     "name": "stdout",
     "output_type": "stream",
     "text": [
      "\r",
      "pascal-voc.tgz       15%[==>                 ] 703.77M  20.3MB/s    eta 3m 7s  "
     ]
    },
    {
     "name": "stdout",
     "output_type": "stream",
     "text": [
      "\r",
      "pascal-voc.tgz       16%[==>                 ] 708.19M  20.3MB/s    eta 3m 5s  "
     ]
    },
    {
     "name": "stdout",
     "output_type": "stream",
     "text": [
      "\r",
      "pascal-voc.tgz       16%[==>                 ] 712.61M  20.2MB/s    eta 3m 5s  "
     ]
    },
    {
     "name": "stdout",
     "output_type": "stream",
     "text": [
      "\r",
      "pascal-voc.tgz       16%[==>                 ] 717.02M  20.2MB/s    eta 3m 5s  "
     ]
    },
    {
     "name": "stdout",
     "output_type": "stream",
     "text": [
      "\r",
      "pascal-voc.tgz       16%[==>                 ] 721.44M  20.1MB/s    eta 3m 5s  "
     ]
    },
    {
     "name": "stdout",
     "output_type": "stream",
     "text": [
      "\r",
      "pascal-voc.tgz       16%[==>                 ] 725.92M  20.3MB/s    eta 3m 5s  "
     ]
    },
    {
     "name": "stdout",
     "output_type": "stream",
     "text": [
      "\r",
      "pascal-voc.tgz       16%[==>                 ] 730.33M  20.4MB/s    eta 3m 4s  "
     ]
    },
    {
     "name": "stdout",
     "output_type": "stream",
     "text": [
      "\r",
      "pascal-voc.tgz       16%[==>                 ] 734.81M  20.3MB/s    eta 3m 4s  "
     ]
    },
    {
     "name": "stdout",
     "output_type": "stream",
     "text": [
      "\r",
      "pascal-voc.tgz       16%[==>                 ] 739.23M  20.2MB/s    eta 3m 4s  "
     ]
    },
    {
     "name": "stdout",
     "output_type": "stream",
     "text": [
      "\r",
      "pascal-voc.tgz       16%[==>                 ] 743.69M  20.2MB/s    eta 3m 4s  "
     ]
    },
    {
     "name": "stdout",
     "output_type": "stream",
     "text": [
      "\r",
      "pascal-voc.tgz       16%[==>                 ] 748.12M  20.3MB/s    eta 3m 4s  "
     ]
    },
    {
     "name": "stdout",
     "output_type": "stream",
     "text": [
      "\r",
      "pascal-voc.tgz       17%[==>                 ] 752.55M  20.3MB/s    eta 3m 3s  "
     ]
    },
    {
     "name": "stdout",
     "output_type": "stream",
     "text": [
      "\r",
      "pascal-voc.tgz       17%[==>                 ] 757.02M  20.3MB/s    eta 3m 3s  "
     ]
    },
    {
     "name": "stdout",
     "output_type": "stream",
     "text": [
      "\r",
      "pascal-voc.tgz       17%[==>                 ] 761.44M  20.2MB/s    eta 3m 3s  "
     ]
    },
    {
     "name": "stdout",
     "output_type": "stream",
     "text": [
      "\r",
      "pascal-voc.tgz       17%[==>                 ] 765.91M  20.2MB/s    eta 3m 3s  "
     ]
    },
    {
     "name": "stdout",
     "output_type": "stream",
     "text": [
      "\r",
      "pascal-voc.tgz       17%[==>                 ] 770.33M  20.3MB/s    eta 3m 3s  "
     ]
    },
    {
     "name": "stdout",
     "output_type": "stream",
     "text": [
      "\r",
      "pascal-voc.tgz       17%[==>                 ] 774.78M  20.4MB/s    eta 3m 2s  "
     ]
    },
    {
     "name": "stdout",
     "output_type": "stream",
     "text": [
      "\r",
      "pascal-voc.tgz       17%[==>                 ] 779.22M  20.3MB/s    eta 3m 2s  "
     ]
    },
    {
     "name": "stdout",
     "output_type": "stream",
     "text": [
      "\r",
      "pascal-voc.tgz       17%[==>                 ] 783.64M  20.3MB/s    eta 3m 2s  "
     ]
    },
    {
     "name": "stdout",
     "output_type": "stream",
     "text": [
      "\r",
      "pascal-voc.tgz       17%[==>                 ] 788.06M  20.5MB/s    eta 3m 2s  "
     ]
    },
    {
     "name": "stdout",
     "output_type": "stream",
     "text": [
      "\r",
      "pascal-voc.tgz       17%[==>                 ] 791.62M  20.4MB/s    eta 3m 2s  "
     ]
    },
    {
     "name": "stdout",
     "output_type": "stream",
     "text": [
      "\r",
      "pascal-voc.tgz       17%[==>                 ] 795.61M  20.3MB/s    eta 3m 1s  "
     ]
    },
    {
     "name": "stdout",
     "output_type": "stream",
     "text": [
      "\r",
      "pascal-voc.tgz       18%[==>                 ] 800.02M  20.2MB/s    eta 3m 1s  "
     ]
    },
    {
     "name": "stdout",
     "output_type": "stream",
     "text": [
      "\r",
      "pascal-voc.tgz       18%[==>                 ] 804.42M  20.3MB/s    eta 3m 1s  "
     ]
    },
    {
     "name": "stdout",
     "output_type": "stream",
     "text": [
      "\r",
      "pascal-voc.tgz       18%[==>                 ] 808.67M  20.4MB/s    eta 3m 1s  "
     ]
    },
    {
     "name": "stdout",
     "output_type": "stream",
     "text": [
      "\r",
      "pascal-voc.tgz       18%[==>                 ] 812.27M  20.4MB/s    eta 3m 1s  "
     ]
    },
    {
     "name": "stdout",
     "output_type": "stream",
     "text": [
      "\r",
      "pascal-voc.tgz       18%[==>                 ] 816.34M  20.3MB/s    eta 3m 0s  "
     ]
    },
    {
     "name": "stdout",
     "output_type": "stream",
     "text": [
      "\r",
      "pascal-voc.tgz       18%[==>                 ] 820.70M  20.2MB/s    eta 3m 0s  "
     ]
    },
    {
     "name": "stdout",
     "output_type": "stream",
     "text": [
      "\r",
      "pascal-voc.tgz       18%[==>                 ] 825.05M  20.4MB/s    eta 3m 0s  "
     ]
    },
    {
     "name": "stdout",
     "output_type": "stream",
     "text": [
      "\r",
      "pascal-voc.tgz       18%[==>                 ] 829.16M  20.5MB/s    eta 3m 0s  "
     ]
    },
    {
     "name": "stdout",
     "output_type": "stream",
     "text": [
      "\r",
      "pascal-voc.tgz       18%[==>                 ] 832.66M  20.3MB/s    eta 3m 0s  "
     ]
    },
    {
     "name": "stdout",
     "output_type": "stream",
     "text": [
      "\r",
      "pascal-voc.tgz       18%[==>                 ] 836.95M  20.3MB/s    eta 2m 59s "
     ]
    },
    {
     "name": "stdout",
     "output_type": "stream",
     "text": [
      "\r",
      "pascal-voc.tgz       19%[==>                 ] 841.31M  20.2MB/s    eta 2m 59s "
     ]
    },
    {
     "name": "stdout",
     "output_type": "stream",
     "text": [
      "\r",
      "pascal-voc.tgz       19%[==>                 ] 845.66M  20.3MB/s    eta 2m 59s "
     ]
    },
    {
     "name": "stdout",
     "output_type": "stream",
     "text": [
      "\r",
      "pascal-voc.tgz       19%[==>                 ] 849.66M  20.3MB/s    eta 2m 59s "
     ]
    },
    {
     "name": "stdout",
     "output_type": "stream",
     "text": [
      "\r",
      "pascal-voc.tgz       19%[==>                 ] 853.39M  20.3MB/s    eta 2m 59s "
     ]
    },
    {
     "name": "stdout",
     "output_type": "stream",
     "text": [
      "\r",
      "pascal-voc.tgz       19%[==>                 ] 857.56M  20.3MB/s    eta 2m 58s "
     ]
    },
    {
     "name": "stdout",
     "output_type": "stream",
     "text": [
      "\r",
      "pascal-voc.tgz       19%[==>                 ] 861.92M  20.2MB/s    eta 2m 58s "
     ]
    },
    {
     "name": "stdout",
     "output_type": "stream",
     "text": [
      "\r",
      "pascal-voc.tgz       19%[==>                 ] 866.28M  20.2MB/s    eta 2m 58s "
     ]
    },
    {
     "name": "stdout",
     "output_type": "stream",
     "text": [
      "\r",
      "pascal-voc.tgz       19%[==>                 ] 870.27M  20.2MB/s    eta 2m 58s "
     ]
    },
    {
     "name": "stdout",
     "output_type": "stream",
     "text": [
      "\r",
      "pascal-voc.tgz       19%[==>                 ] 874.12M  20.1MB/s    eta 2m 58s "
     ]
    },
    {
     "name": "stdout",
     "output_type": "stream",
     "text": [
      "\r",
      "pascal-voc.tgz       19%[==>                 ] 878.30M  20.3MB/s    eta 2m 57s "
     ]
    },
    {
     "name": "stdout",
     "output_type": "stream",
     "text": [
      "\r",
      "pascal-voc.tgz       19%[==>                 ] 882.66M  20.4MB/s    eta 2m 57s "
     ]
    },
    {
     "name": "stdout",
     "output_type": "stream",
     "text": [
      "\r",
      "pascal-voc.tgz       20%[===>                ] 886.95M  20.3MB/s    eta 2m 57s "
     ]
    },
    {
     "name": "stdout",
     "output_type": "stream",
     "text": [
      "\r",
      "pascal-voc.tgz       20%[===>                ] 890.81M  20.2MB/s    eta 2m 57s "
     ]
    },
    {
     "name": "stdout",
     "output_type": "stream",
     "text": [
      "\r",
      "pascal-voc.tgz       20%[===>                ] 894.73M  20.2MB/s    eta 2m 57s "
     ]
    },
    {
     "name": "stdout",
     "output_type": "stream",
     "text": [
      "\r",
      "pascal-voc.tgz       20%[===>                ] 898.91M  20.2MB/s    eta 2m 56s "
     ]
    },
    {
     "name": "stdout",
     "output_type": "stream",
     "text": [
      "\r",
      "pascal-voc.tgz       20%[===>                ] 903.27M  20.4MB/s    eta 2m 56s "
     ]
    },
    {
     "name": "stdout",
     "output_type": "stream",
     "text": [
      "\r",
      "pascal-voc.tgz       20%[===>                ] 907.62M  20.4MB/s    eta 2m 56s "
     ]
    },
    {
     "name": "stdout",
     "output_type": "stream",
     "text": [
      "\r",
      "pascal-voc.tgz       20%[===>                ] 911.45M  20.3MB/s    eta 2m 56s "
     ]
    },
    {
     "name": "stdout",
     "output_type": "stream",
     "text": [
      "\r",
      "pascal-voc.tgz       20%[===>                ] 915.31M  20.1MB/s    eta 2m 56s "
     ]
    },
    {
     "name": "stdout",
     "output_type": "stream",
     "text": [
      "\r",
      "pascal-voc.tgz       20%[===>                ] 919.53M  20.1MB/s    eta 2m 54s "
     ]
    },
    {
     "name": "stdout",
     "output_type": "stream",
     "text": [
      "\r",
      "pascal-voc.tgz       20%[===>                ] 923.88M  20.3MB/s    eta 2m 54s "
     ]
    },
    {
     "name": "stdout",
     "output_type": "stream",
     "text": [
      "\r",
      "pascal-voc.tgz       20%[===>                ] 928.30M  20.4MB/s    eta 2m 54s "
     ]
    },
    {
     "name": "stdout",
     "output_type": "stream",
     "text": [
      "\r",
      "pascal-voc.tgz       21%[===>                ] 932.72M  20.4MB/s    eta 2m 54s "
     ]
    },
    {
     "name": "stdout",
     "output_type": "stream",
     "text": [
      "\r",
      "pascal-voc.tgz       21%[===>                ] 937.12M  20.2MB/s    eta 2m 54s "
     ]
    },
    {
     "name": "stdout",
     "output_type": "stream",
     "text": [
      "\r",
      "pascal-voc.tgz       21%[===>                ] 941.55M  20.2MB/s    eta 2m 53s "
     ]
    },
    {
     "name": "stdout",
     "output_type": "stream",
     "text": [
      "\r",
      "pascal-voc.tgz       21%[===>                ] 945.97M  20.2MB/s    eta 2m 53s "
     ]
    },
    {
     "name": "stdout",
     "output_type": "stream",
     "text": [
      "\r",
      "pascal-voc.tgz       21%[===>                ] 950.38M  20.3MB/s    eta 2m 53s "
     ]
    },
    {
     "name": "stdout",
     "output_type": "stream",
     "text": [
      "\r",
      "pascal-voc.tgz       21%[===>                ] 954.80M  20.3MB/s    eta 2m 53s "
     ]
    },
    {
     "name": "stdout",
     "output_type": "stream",
     "text": [
      "\r",
      "pascal-voc.tgz       21%[===>                ] 959.22M  20.3MB/s    eta 2m 53s "
     ]
    },
    {
     "name": "stdout",
     "output_type": "stream",
     "text": [
      "\r",
      "pascal-voc.tgz       21%[===>                ] 963.62M  20.3MB/s    eta 2m 52s "
     ]
    },
    {
     "name": "stdout",
     "output_type": "stream",
     "text": [
      "\r",
      "pascal-voc.tgz       21%[===>                ] 968.05M  20.3MB/s    eta 2m 52s "
     ]
    },
    {
     "name": "stdout",
     "output_type": "stream",
     "text": [
      "\r",
      "pascal-voc.tgz       21%[===>                ] 972.41M  20.3MB/s    eta 2m 52s "
     ]
    },
    {
     "name": "stdout",
     "output_type": "stream",
     "text": [
      "\r",
      "pascal-voc.tgz       22%[===>                ] 976.14M  20.3MB/s    eta 2m 52s "
     ]
    },
    {
     "name": "stdout",
     "output_type": "stream",
     "text": [
      "\r",
      "pascal-voc.tgz       22%[===>                ] 980.08M  20.3MB/s    eta 2m 52s "
     ]
    },
    {
     "name": "stdout",
     "output_type": "stream",
     "text": [
      "\r",
      "pascal-voc.tgz       22%[===>                ] 984.42M  20.2MB/s    eta 2m 51s "
     ]
    },
    {
     "name": "stdout",
     "output_type": "stream",
     "text": [
      "\r",
      "pascal-voc.tgz       22%[===>                ] 988.66M  20.3MB/s    eta 2m 51s "
     ]
    },
    {
     "name": "stdout",
     "output_type": "stream",
     "text": [
      "\r",
      "pascal-voc.tgz       22%[===>                ] 993.02M  20.4MB/s    eta 2m 51s "
     ]
    },
    {
     "name": "stdout",
     "output_type": "stream",
     "text": [
      "\r",
      "pascal-voc.tgz       22%[===>                ] 996.77M  20.2MB/s    eta 2m 51s "
     ]
    },
    {
     "name": "stdout",
     "output_type": "stream",
     "text": [
      "\r",
      "pascal-voc.tgz       22%[===>                ]   1001M  20.2MB/s    eta 2m 51s "
     ]
    },
    {
     "name": "stdout",
     "output_type": "stream",
     "text": [
      "\r",
      "pascal-voc.tgz       22%[===>                ]   1005M  20.3MB/s    eta 2m 50s "
     ]
    },
    {
     "name": "stdout",
     "output_type": "stream",
     "text": [
      "\r",
      "pascal-voc.tgz       22%[===>                ]   1009M  20.3MB/s    eta 2m 50s "
     ]
    },
    {
     "name": "stdout",
     "output_type": "stream",
     "text": [
      "\r",
      "pascal-voc.tgz       22%[===>                ]   1014M  20.4MB/s    eta 2m 50s "
     ]
    },
    {
     "name": "stdout",
     "output_type": "stream",
     "text": [
      "\r",
      "pascal-voc.tgz       22%[===>                ]   1017M  20.3MB/s    eta 2m 50s "
     ]
    },
    {
     "name": "stdout",
     "output_type": "stream",
     "text": [
      "\r",
      "pascal-voc.tgz       23%[===>                ]   1021M  20.1MB/s    eta 2m 50s "
     ]
    },
    {
     "name": "stdout",
     "output_type": "stream",
     "text": [
      "\r",
      "pascal-voc.tgz       23%[===>                ]   1.00G  20.3MB/s    eta 2m 49s "
     ]
    },
    {
     "name": "stdout",
     "output_type": "stream",
     "text": [
      "\r",
      "pascal-voc.tgz       23%[===>                ]   1.00G  20.3MB/s    eta 2m 49s "
     ]
    },
    {
     "name": "stdout",
     "output_type": "stream",
     "text": [
      "\r",
      "pascal-voc.tgz       23%[===>                ]   1.01G  20.4MB/s    eta 2m 49s "
     ]
    },
    {
     "name": "stdout",
     "output_type": "stream",
     "text": [
      "\r",
      "pascal-voc.tgz       23%[===>                ]   1.01G  20.3MB/s    eta 2m 49s "
     ]
    },
    {
     "name": "stdout",
     "output_type": "stream",
     "text": [
      "\r",
      "pascal-voc.tgz       23%[===>                ]   1.02G  20.2MB/s    eta 2m 49s "
     ]
    },
    {
     "name": "stdout",
     "output_type": "stream",
     "text": [
      "\r",
      "pascal-voc.tgz       23%[===>                ]   1.02G  20.1MB/s    eta 2m 48s "
     ]
    },
    {
     "name": "stdout",
     "output_type": "stream",
     "text": [
      "\r",
      "pascal-voc.tgz       23%[===>                ]   1.03G  20.2MB/s    eta 2m 48s "
     ]
    },
    {
     "name": "stdout",
     "output_type": "stream",
     "text": [
      "\r",
      "pascal-voc.tgz       23%[===>                ]   1.03G  20.4MB/s    eta 2m 48s "
     ]
    },
    {
     "name": "stdout",
     "output_type": "stream",
     "text": [
      "\r",
      "pascal-voc.tgz       23%[===>                ]   1.03G  20.3MB/s    eta 2m 48s "
     ]
    },
    {
     "name": "stdout",
     "output_type": "stream",
     "text": [
      "\r",
      "pascal-voc.tgz       24%[===>                ]   1.04G  20.2MB/s    eta 2m 48s "
     ]
    },
    {
     "name": "stdout",
     "output_type": "stream",
     "text": [
      "\r",
      "pascal-voc.tgz       24%[===>                ]   1.04G  20.2MB/s    eta 2m 47s "
     ]
    },
    {
     "name": "stdout",
     "output_type": "stream",
     "text": [
      "\r",
      "pascal-voc.tgz       24%[===>                ]   1.05G  20.2MB/s    eta 2m 47s "
     ]
    },
    {
     "name": "stdout",
     "output_type": "stream",
     "text": [
      "\r",
      "pascal-voc.tgz       24%[===>                ]   1.05G  20.2MB/s    eta 2m 47s "
     ]
    },
    {
     "name": "stdout",
     "output_type": "stream",
     "text": [
      "\r",
      "pascal-voc.tgz       24%[===>                ]   1.05G  20.2MB/s    eta 2m 47s "
     ]
    },
    {
     "name": "stdout",
     "output_type": "stream",
     "text": [
      "\r",
      "pascal-voc.tgz       24%[===>                ]   1.06G  20.2MB/s    eta 2m 47s "
     ]
    },
    {
     "name": "stdout",
     "output_type": "stream",
     "text": [
      "\r",
      "pascal-voc.tgz       24%[===>                ]   1.06G  20.3MB/s    eta 2m 46s "
     ]
    },
    {
     "name": "stdout",
     "output_type": "stream",
     "text": [
      "\r",
      "pascal-voc.tgz       24%[===>                ]   1.07G  20.3MB/s    eta 2m 46s "
     ]
    },
    {
     "name": "stdout",
     "output_type": "stream",
     "text": [
      "\r",
      "pascal-voc.tgz       24%[===>                ]   1.07G  20.3MB/s    eta 2m 46s "
     ]
    },
    {
     "name": "stdout",
     "output_type": "stream",
     "text": [
      "\r",
      "pascal-voc.tgz       24%[===>                ]   1.07G  20.3MB/s    eta 2m 46s "
     ]
    },
    {
     "name": "stdout",
     "output_type": "stream",
     "text": [
      "\r",
      "pascal-voc.tgz       24%[===>                ]   1.08G  20.2MB/s    eta 2m 46s "
     ]
    },
    {
     "name": "stdout",
     "output_type": "stream",
     "text": [
      "\r",
      "pascal-voc.tgz       25%[====>               ]   1.08G  20.2MB/s    eta 2m 45s "
     ]
    },
    {
     "name": "stdout",
     "output_type": "stream",
     "text": [
      "\r",
      "pascal-voc.tgz       25%[====>               ]   1.09G  20.3MB/s    eta 2m 45s "
     ]
    },
    {
     "name": "stdout",
     "output_type": "stream",
     "text": [
      "\r",
      "pascal-voc.tgz       25%[====>               ]   1.09G  20.3MB/s    eta 2m 45s "
     ]
    },
    {
     "name": "stdout",
     "output_type": "stream",
     "text": [
      "\r",
      "pascal-voc.tgz       25%[====>               ]   1.09G  20.3MB/s    eta 2m 45s "
     ]
    },
    {
     "name": "stdout",
     "output_type": "stream",
     "text": [
      "\r",
      "pascal-voc.tgz       25%[====>               ]   1.10G  20.2MB/s    eta 2m 45s "
     ]
    },
    {
     "name": "stdout",
     "output_type": "stream",
     "text": [
      "\r",
      "pascal-voc.tgz       25%[====>               ]   1.10G  20.2MB/s    eta 2m 44s "
     ]
    },
    {
     "name": "stdout",
     "output_type": "stream",
     "text": [
      "\r",
      "pascal-voc.tgz       25%[====>               ]   1.11G  20.3MB/s    eta 2m 44s "
     ]
    },
    {
     "name": "stdout",
     "output_type": "stream",
     "text": [
      "\r",
      "pascal-voc.tgz       25%[====>               ]   1.11G  20.3MB/s    eta 2m 44s "
     ]
    },
    {
     "name": "stdout",
     "output_type": "stream",
     "text": [
      "\r",
      "pascal-voc.tgz       25%[====>               ]   1.11G  20.3MB/s    eta 2m 44s "
     ]
    },
    {
     "name": "stdout",
     "output_type": "stream",
     "text": [
      "\r",
      "pascal-voc.tgz       25%[====>               ]   1.12G  20.3MB/s    eta 2m 44s "
     ]
    },
    {
     "name": "stdout",
     "output_type": "stream",
     "text": [
      "\r",
      "pascal-voc.tgz       25%[====>               ]   1.12G  20.2MB/s    eta 2m 43s "
     ]
    },
    {
     "name": "stdout",
     "output_type": "stream",
     "text": [
      "\r",
      "pascal-voc.tgz       26%[====>               ]   1.13G  20.3MB/s    eta 2m 43s "
     ]
    },
    {
     "name": "stdout",
     "output_type": "stream",
     "text": [
      "\r",
      "pascal-voc.tgz       26%[====>               ]   1.13G  20.3MB/s    eta 2m 43s "
     ]
    },
    {
     "name": "stdout",
     "output_type": "stream",
     "text": [
      "\r",
      "pascal-voc.tgz       26%[====>               ]   1.13G  20.4MB/s    eta 2m 43s "
     ]
    },
    {
     "name": "stdout",
     "output_type": "stream",
     "text": [
      "\r",
      "pascal-voc.tgz       26%[====>               ]   1.14G  20.3MB/s    eta 2m 43s "
     ]
    },
    {
     "name": "stdout",
     "output_type": "stream",
     "text": [
      "\r",
      "pascal-voc.tgz       26%[====>               ]   1.14G  20.2MB/s    eta 2m 42s "
     ]
    },
    {
     "name": "stdout",
     "output_type": "stream",
     "text": [
      "\r",
      "pascal-voc.tgz       26%[====>               ]   1.15G  20.2MB/s    eta 2m 42s "
     ]
    },
    {
     "name": "stdout",
     "output_type": "stream",
     "text": [
      "\r",
      "pascal-voc.tgz       26%[====>               ]   1.15G  20.3MB/s    eta 2m 42s "
     ]
    },
    {
     "name": "stdout",
     "output_type": "stream",
     "text": [
      "\r",
      "pascal-voc.tgz       26%[====>               ]   1.15G  20.3MB/s    eta 2m 42s "
     ]
    },
    {
     "name": "stdout",
     "output_type": "stream",
     "text": [
      "\r",
      "pascal-voc.tgz       26%[====>               ]   1.16G  20.3MB/s    eta 2m 42s "
     ]
    },
    {
     "name": "stdout",
     "output_type": "stream",
     "text": [
      "\r",
      "pascal-voc.tgz       26%[====>               ]   1.16G  20.2MB/s    eta 2m 41s "
     ]
    },
    {
     "name": "stdout",
     "output_type": "stream",
     "text": [
      "\r",
      "pascal-voc.tgz       27%[====>               ]   1.17G  20.3MB/s    eta 2m 41s "
     ]
    },
    {
     "name": "stdout",
     "output_type": "stream",
     "text": [
      "\r",
      "pascal-voc.tgz       27%[====>               ]   1.17G  20.2MB/s    eta 2m 41s "
     ]
    },
    {
     "name": "stdout",
     "output_type": "stream",
     "text": [
      "\r",
      "pascal-voc.tgz       27%[====>               ]   1.17G  20.3MB/s    eta 2m 41s "
     ]
    },
    {
     "name": "stdout",
     "output_type": "stream",
     "text": [
      "\r",
      "pascal-voc.tgz       27%[====>               ]   1.18G  20.3MB/s    eta 2m 41s "
     ]
    },
    {
     "name": "stdout",
     "output_type": "stream",
     "text": [
      "\r",
      "pascal-voc.tgz       27%[====>               ]   1.18G  20.3MB/s    eta 2m 40s "
     ]
    },
    {
     "name": "stdout",
     "output_type": "stream",
     "text": [
      "\r",
      "pascal-voc.tgz       27%[====>               ]   1.19G  20.3MB/s    eta 2m 40s "
     ]
    },
    {
     "name": "stdout",
     "output_type": "stream",
     "text": [
      "\r",
      "pascal-voc.tgz       27%[====>               ]   1.19G  20.3MB/s    eta 2m 40s "
     ]
    },
    {
     "name": "stdout",
     "output_type": "stream",
     "text": [
      "\r",
      "pascal-voc.tgz       27%[====>               ]   1.19G  20.3MB/s    eta 2m 40s "
     ]
    },
    {
     "name": "stdout",
     "output_type": "stream",
     "text": [
      "\r",
      "pascal-voc.tgz       27%[====>               ]   1.20G  20.3MB/s    eta 2m 40s "
     ]
    },
    {
     "name": "stdout",
     "output_type": "stream",
     "text": [
      "\r",
      "pascal-voc.tgz       27%[====>               ]   1.20G  20.3MB/s    eta 2m 39s "
     ]
    },
    {
     "name": "stdout",
     "output_type": "stream",
     "text": [
      "\r",
      "pascal-voc.tgz       27%[====>               ]   1.21G  20.3MB/s    eta 2m 39s "
     ]
    },
    {
     "name": "stdout",
     "output_type": "stream",
     "text": [
      "\r",
      "pascal-voc.tgz       28%[====>               ]   1.21G  20.3MB/s    eta 2m 39s "
     ]
    },
    {
     "name": "stdout",
     "output_type": "stream",
     "text": [
      "\r",
      "pascal-voc.tgz       28%[====>               ]   1.21G  20.3MB/s    eta 2m 39s "
     ]
    },
    {
     "name": "stdout",
     "output_type": "stream",
     "text": [
      "\r",
      "pascal-voc.tgz       28%[====>               ]   1.22G  20.3MB/s    eta 2m 39s "
     ]
    },
    {
     "name": "stdout",
     "output_type": "stream",
     "text": [
      "\r",
      "pascal-voc.tgz       28%[====>               ]   1.22G  20.2MB/s    eta 2m 37s "
     ]
    },
    {
     "name": "stdout",
     "output_type": "stream",
     "text": [
      "\r",
      "pascal-voc.tgz       28%[====>               ]   1.23G  20.3MB/s    eta 2m 37s "
     ]
    },
    {
     "name": "stdout",
     "output_type": "stream",
     "text": [
      "\r",
      "pascal-voc.tgz       28%[====>               ]   1.23G  20.3MB/s    eta 2m 37s "
     ]
    },
    {
     "name": "stdout",
     "output_type": "stream",
     "text": [
      "\r",
      "pascal-voc.tgz       28%[====>               ]   1.23G  20.3MB/s    eta 2m 37s "
     ]
    },
    {
     "name": "stdout",
     "output_type": "stream",
     "text": [
      "\r",
      "pascal-voc.tgz       28%[====>               ]   1.24G  20.3MB/s    eta 2m 37s "
     ]
    },
    {
     "name": "stdout",
     "output_type": "stream",
     "text": [
      "\r",
      "pascal-voc.tgz       28%[====>               ]   1.24G  20.2MB/s    eta 2m 36s "
     ]
    },
    {
     "name": "stdout",
     "output_type": "stream",
     "text": [
      "\r",
      "pascal-voc.tgz       28%[====>               ]   1.25G  20.2MB/s    eta 2m 36s "
     ]
    },
    {
     "name": "stdout",
     "output_type": "stream",
     "text": [
      "\r",
      "pascal-voc.tgz       28%[====>               ]   1.25G  20.2MB/s    eta 2m 36s "
     ]
    },
    {
     "name": "stdout",
     "output_type": "stream",
     "text": [
      "\r",
      "pascal-voc.tgz       29%[====>               ]   1.25G  20.3MB/s    eta 2m 36s "
     ]
    },
    {
     "name": "stdout",
     "output_type": "stream",
     "text": [
      "\r",
      "pascal-voc.tgz       29%[====>               ]   1.26G  20.3MB/s    eta 2m 36s "
     ]
    },
    {
     "name": "stdout",
     "output_type": "stream",
     "text": [
      "\r",
      "pascal-voc.tgz       29%[====>               ]   1.26G  20.2MB/s    eta 2m 35s "
     ]
    },
    {
     "name": "stdout",
     "output_type": "stream",
     "text": [
      "\r",
      "pascal-voc.tgz       29%[====>               ]   1.27G  20.3MB/s    eta 2m 35s "
     ]
    },
    {
     "name": "stdout",
     "output_type": "stream",
     "text": [
      "\r",
      "pascal-voc.tgz       29%[====>               ]   1.27G  20.3MB/s    eta 2m 35s "
     ]
    },
    {
     "name": "stdout",
     "output_type": "stream",
     "text": [
      "\r",
      "pascal-voc.tgz       29%[====>               ]   1.28G  20.3MB/s    eta 2m 35s "
     ]
    },
    {
     "name": "stdout",
     "output_type": "stream",
     "text": [
      "\r",
      "pascal-voc.tgz       29%[====>               ]   1.28G  20.4MB/s    eta 2m 35s "
     ]
    },
    {
     "name": "stdout",
     "output_type": "stream",
     "text": [
      "\r",
      "pascal-voc.tgz       29%[====>               ]   1.28G  20.3MB/s    eta 2m 34s "
     ]
    },
    {
     "name": "stdout",
     "output_type": "stream",
     "text": [
      "\r",
      "pascal-voc.tgz       29%[====>               ]   1.29G  20.2MB/s    eta 2m 34s "
     ]
    },
    {
     "name": "stdout",
     "output_type": "stream",
     "text": [
      "\r",
      "pascal-voc.tgz       29%[====>               ]   1.29G  20.3MB/s    eta 2m 34s "
     ]
    },
    {
     "name": "stdout",
     "output_type": "stream",
     "text": [
      "\r",
      "pascal-voc.tgz       29%[====>               ]   1.29G  20.3MB/s    eta 2m 34s "
     ]
    },
    {
     "name": "stdout",
     "output_type": "stream",
     "text": [
      "\r",
      "pascal-voc.tgz       30%[=====>              ]   1.30G  20.3MB/s    eta 2m 34s "
     ]
    },
    {
     "name": "stdout",
     "output_type": "stream",
     "text": [
      "\r",
      "pascal-voc.tgz       30%[=====>              ]   1.30G  20.3MB/s    eta 2m 33s "
     ]
    },
    {
     "name": "stdout",
     "output_type": "stream",
     "text": [
      "\r",
      "pascal-voc.tgz       30%[=====>              ]   1.31G  20.3MB/s    eta 2m 33s "
     ]
    },
    {
     "name": "stdout",
     "output_type": "stream",
     "text": [
      "\r",
      "pascal-voc.tgz       30%[=====>              ]   1.31G  20.3MB/s    eta 2m 33s "
     ]
    },
    {
     "name": "stdout",
     "output_type": "stream",
     "text": [
      "\r",
      "pascal-voc.tgz       30%[=====>              ]   1.32G  20.3MB/s    eta 2m 33s "
     ]
    },
    {
     "name": "stdout",
     "output_type": "stream",
     "text": [
      "\r",
      "pascal-voc.tgz       30%[=====>              ]   1.32G  20.2MB/s    eta 2m 33s "
     ]
    },
    {
     "name": "stdout",
     "output_type": "stream",
     "text": [
      "\r",
      "pascal-voc.tgz       30%[=====>              ]   1.32G  20.3MB/s    eta 2m 32s "
     ]
    },
    {
     "name": "stdout",
     "output_type": "stream",
     "text": [
      "\r",
      "pascal-voc.tgz       30%[=====>              ]   1.33G  20.3MB/s    eta 2m 32s "
     ]
    },
    {
     "name": "stdout",
     "output_type": "stream",
     "text": [
      "\r",
      "pascal-voc.tgz       30%[=====>              ]   1.33G  20.2MB/s    eta 2m 32s "
     ]
    },
    {
     "name": "stdout",
     "output_type": "stream",
     "text": [
      "\r",
      "pascal-voc.tgz       30%[=====>              ]   1.33G  20.3MB/s    eta 2m 32s "
     ]
    },
    {
     "name": "stdout",
     "output_type": "stream",
     "text": [
      "\r",
      "pascal-voc.tgz       31%[=====>              ]   1.34G  20.3MB/s    eta 2m 32s "
     ]
    },
    {
     "name": "stdout",
     "output_type": "stream",
     "text": [
      "\r",
      "pascal-voc.tgz       31%[=====>              ]   1.34G  20.3MB/s    eta 2m 31s "
     ]
    },
    {
     "name": "stdout",
     "output_type": "stream",
     "text": [
      "\r",
      "pascal-voc.tgz       31%[=====>              ]   1.35G  20.2MB/s    eta 2m 31s "
     ]
    },
    {
     "name": "stdout",
     "output_type": "stream",
     "text": [
      "\r",
      "pascal-voc.tgz       31%[=====>              ]   1.35G  20.3MB/s    eta 2m 31s "
     ]
    },
    {
     "name": "stdout",
     "output_type": "stream",
     "text": [
      "\r",
      "pascal-voc.tgz       31%[=====>              ]   1.36G  20.3MB/s    eta 2m 31s "
     ]
    },
    {
     "name": "stdout",
     "output_type": "stream",
     "text": [
      "\r",
      "pascal-voc.tgz       31%[=====>              ]   1.36G  20.3MB/s    eta 2m 31s "
     ]
    },
    {
     "name": "stdout",
     "output_type": "stream",
     "text": [
      "\r",
      "pascal-voc.tgz       31%[=====>              ]   1.36G  20.3MB/s    eta 2m 30s "
     ]
    },
    {
     "name": "stdout",
     "output_type": "stream",
     "text": [
      "\r",
      "pascal-voc.tgz       31%[=====>              ]   1.37G  20.2MB/s    eta 2m 30s "
     ]
    },
    {
     "name": "stdout",
     "output_type": "stream",
     "text": [
      "\r",
      "pascal-voc.tgz       31%[=====>              ]   1.37G  20.3MB/s    eta 2m 30s "
     ]
    },
    {
     "name": "stdout",
     "output_type": "stream",
     "text": [
      "\r",
      "pascal-voc.tgz       31%[=====>              ]   1.38G  20.3MB/s    eta 2m 30s "
     ]
    },
    {
     "name": "stdout",
     "output_type": "stream",
     "text": [
      "\r",
      "pascal-voc.tgz       31%[=====>              ]   1.38G  20.2MB/s    eta 2m 30s "
     ]
    },
    {
     "name": "stdout",
     "output_type": "stream",
     "text": [
      "\r",
      "pascal-voc.tgz       32%[=====>              ]   1.38G  20.3MB/s    eta 2m 29s "
     ]
    },
    {
     "name": "stdout",
     "output_type": "stream",
     "text": [
      "\r",
      "pascal-voc.tgz       32%[=====>              ]   1.39G  20.2MB/s    eta 2m 29s "
     ]
    },
    {
     "name": "stdout",
     "output_type": "stream",
     "text": [
      "\r",
      "pascal-voc.tgz       32%[=====>              ]   1.39G  20.3MB/s    eta 2m 29s "
     ]
    },
    {
     "name": "stdout",
     "output_type": "stream",
     "text": [
      "\r",
      "pascal-voc.tgz       32%[=====>              ]   1.40G  20.3MB/s    eta 2m 29s "
     ]
    },
    {
     "name": "stdout",
     "output_type": "stream",
     "text": [
      "\r",
      "pascal-voc.tgz       32%[=====>              ]   1.40G  20.3MB/s    eta 2m 29s "
     ]
    },
    {
     "name": "stdout",
     "output_type": "stream",
     "text": [
      "\r",
      "pascal-voc.tgz       32%[=====>              ]   1.40G  20.3MB/s    eta 2m 28s "
     ]
    },
    {
     "name": "stdout",
     "output_type": "stream",
     "text": [
      "\r",
      "pascal-voc.tgz       32%[=====>              ]   1.41G  20.3MB/s    eta 2m 28s "
     ]
    },
    {
     "name": "stdout",
     "output_type": "stream",
     "text": [
      "\r",
      "pascal-voc.tgz       32%[=====>              ]   1.41G  20.3MB/s    eta 2m 28s "
     ]
    },
    {
     "name": "stdout",
     "output_type": "stream",
     "text": [
      "\r",
      "pascal-voc.tgz       32%[=====>              ]   1.42G  20.3MB/s    eta 2m 28s "
     ]
    },
    {
     "name": "stdout",
     "output_type": "stream",
     "text": [
      "\r",
      "pascal-voc.tgz       32%[=====>              ]   1.42G  20.3MB/s    eta 2m 28s "
     ]
    },
    {
     "name": "stdout",
     "output_type": "stream",
     "text": [
      "\r",
      "pascal-voc.tgz       32%[=====>              ]   1.42G  20.3MB/s    eta 2m 27s "
     ]
    },
    {
     "name": "stdout",
     "output_type": "stream",
     "text": [
      "\r",
      "pascal-voc.tgz       33%[=====>              ]   1.43G  20.3MB/s    eta 2m 27s "
     ]
    },
    {
     "name": "stdout",
     "output_type": "stream",
     "text": [
      "\r",
      "pascal-voc.tgz       33%[=====>              ]   1.43G  20.2MB/s    eta 2m 27s "
     ]
    },
    {
     "name": "stdout",
     "output_type": "stream",
     "text": [
      "\r",
      "pascal-voc.tgz       33%[=====>              ]   1.44G  20.2MB/s    eta 2m 27s "
     ]
    },
    {
     "name": "stdout",
     "output_type": "stream",
     "text": [
      "\r",
      "pascal-voc.tgz       33%[=====>              ]   1.44G  20.3MB/s    eta 2m 27s "
     ]
    },
    {
     "name": "stdout",
     "output_type": "stream",
     "text": [
      "\r",
      "pascal-voc.tgz       33%[=====>              ]   1.44G  20.3MB/s    eta 2m 26s "
     ]
    },
    {
     "name": "stdout",
     "output_type": "stream",
     "text": [
      "\r",
      "pascal-voc.tgz       33%[=====>              ]   1.45G  20.3MB/s    eta 2m 26s "
     ]
    },
    {
     "name": "stdout",
     "output_type": "stream",
     "text": [
      "\r",
      "pascal-voc.tgz       33%[=====>              ]   1.45G  20.3MB/s    eta 2m 26s "
     ]
    },
    {
     "name": "stdout",
     "output_type": "stream",
     "text": [
      "\r",
      "pascal-voc.tgz       33%[=====>              ]   1.46G  20.3MB/s    eta 2m 26s "
     ]
    },
    {
     "name": "stdout",
     "output_type": "stream",
     "text": [
      "\r",
      "pascal-voc.tgz       33%[=====>              ]   1.46G  20.3MB/s    eta 2m 26s "
     ]
    },
    {
     "name": "stdout",
     "output_type": "stream",
     "text": [
      "\r",
      "pascal-voc.tgz       33%[=====>              ]   1.46G  20.3MB/s    eta 2m 25s "
     ]
    },
    {
     "name": "stdout",
     "output_type": "stream",
     "text": [
      "\r",
      "pascal-voc.tgz       34%[=====>              ]   1.47G  20.3MB/s    eta 2m 25s "
     ]
    },
    {
     "name": "stdout",
     "output_type": "stream",
     "text": [
      "\r",
      "pascal-voc.tgz       34%[=====>              ]   1.47G  20.2MB/s    eta 2m 25s "
     ]
    },
    {
     "name": "stdout",
     "output_type": "stream",
     "text": [
      "\r",
      "pascal-voc.tgz       34%[=====>              ]   1.48G  20.3MB/s    eta 2m 25s "
     ]
    },
    {
     "name": "stdout",
     "output_type": "stream",
     "text": [
      "\r",
      "pascal-voc.tgz       34%[=====>              ]   1.48G  20.2MB/s    eta 2m 25s "
     ]
    },
    {
     "name": "stdout",
     "output_type": "stream",
     "text": [
      "\r",
      "pascal-voc.tgz       34%[=====>              ]   1.48G  20.3MB/s    eta 2m 24s "
     ]
    },
    {
     "name": "stdout",
     "output_type": "stream",
     "text": [
      "\r",
      "pascal-voc.tgz       34%[=====>              ]   1.49G  20.3MB/s    eta 2m 24s "
     ]
    },
    {
     "name": "stdout",
     "output_type": "stream",
     "text": [
      "\r",
      "pascal-voc.tgz       34%[=====>              ]   1.49G  20.3MB/s    eta 2m 24s "
     ]
    },
    {
     "name": "stdout",
     "output_type": "stream",
     "text": [
      "\r",
      "pascal-voc.tgz       34%[=====>              ]   1.50G  20.3MB/s    eta 2m 24s "
     ]
    },
    {
     "name": "stdout",
     "output_type": "stream",
     "text": [
      "\r",
      "pascal-voc.tgz       34%[=====>              ]   1.50G  20.3MB/s    eta 2m 24s "
     ]
    },
    {
     "name": "stdout",
     "output_type": "stream",
     "text": [
      "\r",
      "pascal-voc.tgz       34%[=====>              ]   1.50G  20.3MB/s    eta 2m 23s "
     ]
    },
    {
     "name": "stdout",
     "output_type": "stream",
     "text": [
      "\r",
      "pascal-voc.tgz       34%[=====>              ]   1.51G  20.3MB/s    eta 2m 23s "
     ]
    },
    {
     "name": "stdout",
     "output_type": "stream",
     "text": [
      "\r",
      "pascal-voc.tgz       35%[======>             ]   1.51G  20.3MB/s    eta 2m 23s "
     ]
    },
    {
     "name": "stdout",
     "output_type": "stream",
     "text": [
      "\r",
      "pascal-voc.tgz       35%[======>             ]   1.52G  20.3MB/s    eta 2m 23s "
     ]
    },
    {
     "name": "stdout",
     "output_type": "stream",
     "text": [
      "\r",
      "pascal-voc.tgz       35%[======>             ]   1.52G  20.3MB/s    eta 2m 23s "
     ]
    },
    {
     "name": "stdout",
     "output_type": "stream",
     "text": [
      "\r",
      "pascal-voc.tgz       35%[======>             ]   1.53G  20.2MB/s    eta 2m 22s "
     ]
    },
    {
     "name": "stdout",
     "output_type": "stream",
     "text": [
      "\r",
      "pascal-voc.tgz       35%[======>             ]   1.53G  20.3MB/s    eta 2m 22s "
     ]
    },
    {
     "name": "stdout",
     "output_type": "stream",
     "text": [
      "\r",
      "pascal-voc.tgz       35%[======>             ]   1.53G  20.3MB/s    eta 2m 22s "
     ]
    },
    {
     "name": "stdout",
     "output_type": "stream",
     "text": [
      "\r",
      "pascal-voc.tgz       35%[======>             ]   1.54G  20.3MB/s    eta 2m 22s "
     ]
    },
    {
     "name": "stdout",
     "output_type": "stream",
     "text": [
      "\r",
      "pascal-voc.tgz       35%[======>             ]   1.54G  20.3MB/s    eta 2m 22s "
     ]
    },
    {
     "name": "stdout",
     "output_type": "stream",
     "text": [
      "\r",
      "pascal-voc.tgz       35%[======>             ]   1.54G  20.3MB/s    eta 2m 21s "
     ]
    },
    {
     "name": "stdout",
     "output_type": "stream",
     "text": [
      "\r",
      "pascal-voc.tgz       35%[======>             ]   1.55G  20.2MB/s    eta 2m 21s "
     ]
    },
    {
     "name": "stdout",
     "output_type": "stream",
     "text": [
      "\r",
      "pascal-voc.tgz       35%[======>             ]   1.55G  20.3MB/s    eta 2m 21s "
     ]
    },
    {
     "name": "stdout",
     "output_type": "stream",
     "text": [
      "\r",
      "pascal-voc.tgz       36%[======>             ]   1.56G  20.3MB/s    eta 2m 21s "
     ]
    },
    {
     "name": "stdout",
     "output_type": "stream",
     "text": [
      "\r",
      "pascal-voc.tgz       36%[======>             ]   1.56G  20.3MB/s    eta 2m 21s "
     ]
    },
    {
     "name": "stdout",
     "output_type": "stream",
     "text": [
      "\r",
      "pascal-voc.tgz       36%[======>             ]   1.57G  20.3MB/s    eta 2m 20s "
     ]
    },
    {
     "name": "stdout",
     "output_type": "stream",
     "text": [
      "\r",
      "pascal-voc.tgz       36%[======>             ]   1.57G  20.3MB/s    eta 2m 20s "
     ]
    },
    {
     "name": "stdout",
     "output_type": "stream",
     "text": [
      "\r",
      "pascal-voc.tgz       36%[======>             ]   1.57G  20.2MB/s    eta 2m 20s "
     ]
    },
    {
     "name": "stdout",
     "output_type": "stream",
     "text": [
      "\r",
      "pascal-voc.tgz       36%[======>             ]   1.58G  20.3MB/s    eta 2m 20s "
     ]
    },
    {
     "name": "stdout",
     "output_type": "stream",
     "text": [
      "\r",
      "pascal-voc.tgz       36%[======>             ]   1.58G  20.3MB/s    eta 2m 20s "
     ]
    },
    {
     "name": "stdout",
     "output_type": "stream",
     "text": [
      "\r",
      "pascal-voc.tgz       36%[======>             ]   1.58G  20.2MB/s    eta 2m 19s "
     ]
    },
    {
     "name": "stdout",
     "output_type": "stream",
     "text": [
      "\r",
      "pascal-voc.tgz       36%[======>             ]   1.59G  20.3MB/s    eta 2m 19s "
     ]
    },
    {
     "name": "stdout",
     "output_type": "stream",
     "text": [
      "\r",
      "pascal-voc.tgz       36%[======>             ]   1.59G  20.2MB/s    eta 2m 19s "
     ]
    },
    {
     "name": "stdout",
     "output_type": "stream",
     "text": [
      "\r",
      "pascal-voc.tgz       36%[======>             ]   1.60G  20.3MB/s    eta 2m 19s "
     ]
    },
    {
     "name": "stdout",
     "output_type": "stream",
     "text": [
      "\r",
      "pascal-voc.tgz       37%[======>             ]   1.60G  20.3MB/s    eta 2m 19s "
     ]
    },
    {
     "name": "stdout",
     "output_type": "stream",
     "text": [
      "\r",
      "pascal-voc.tgz       37%[======>             ]   1.60G  20.3MB/s    eta 2m 18s "
     ]
    },
    {
     "name": "stdout",
     "output_type": "stream",
     "text": [
      "\r",
      "pascal-voc.tgz       37%[======>             ]   1.61G  20.2MB/s    eta 2m 18s "
     ]
    },
    {
     "name": "stdout",
     "output_type": "stream",
     "text": [
      "\r",
      "pascal-voc.tgz       37%[======>             ]   1.61G  20.3MB/s    eta 2m 18s "
     ]
    },
    {
     "name": "stdout",
     "output_type": "stream",
     "text": [
      "\r",
      "pascal-voc.tgz       37%[======>             ]   1.62G  20.3MB/s    eta 2m 18s "
     ]
    },
    {
     "name": "stdout",
     "output_type": "stream",
     "text": [
      "\r",
      "pascal-voc.tgz       37%[======>             ]   1.62G  20.2MB/s    eta 2m 18s "
     ]
    },
    {
     "name": "stdout",
     "output_type": "stream",
     "text": [
      "\r",
      "pascal-voc.tgz       37%[======>             ]   1.62G  20.3MB/s    eta 2m 17s "
     ]
    },
    {
     "name": "stdout",
     "output_type": "stream",
     "text": [
      "\r",
      "pascal-voc.tgz       37%[======>             ]   1.63G  20.2MB/s    eta 2m 17s "
     ]
    },
    {
     "name": "stdout",
     "output_type": "stream",
     "text": [
      "\r",
      "pascal-voc.tgz       37%[======>             ]   1.63G  20.3MB/s    eta 2m 17s "
     ]
    },
    {
     "name": "stdout",
     "output_type": "stream",
     "text": [
      "\r",
      "pascal-voc.tgz       37%[======>             ]   1.64G  20.3MB/s    eta 2m 17s "
     ]
    },
    {
     "name": "stdout",
     "output_type": "stream",
     "text": [
      "\r",
      "pascal-voc.tgz       37%[======>             ]   1.64G  20.2MB/s    eta 2m 17s "
     ]
    },
    {
     "name": "stdout",
     "output_type": "stream",
     "text": [
      "\r",
      "pascal-voc.tgz       38%[======>             ]   1.65G  20.3MB/s    eta 2m 16s "
     ]
    },
    {
     "name": "stdout",
     "output_type": "stream",
     "text": [
      "\r",
      "pascal-voc.tgz       38%[======>             ]   1.65G  20.3MB/s    eta 2m 16s "
     ]
    },
    {
     "name": "stdout",
     "output_type": "stream",
     "text": [
      "\r",
      "pascal-voc.tgz       38%[======>             ]   1.65G  20.3MB/s    eta 2m 16s "
     ]
    },
    {
     "name": "stdout",
     "output_type": "stream",
     "text": [
      "\r",
      "pascal-voc.tgz       38%[======>             ]   1.66G  20.3MB/s    eta 2m 16s "
     ]
    },
    {
     "name": "stdout",
     "output_type": "stream",
     "text": [
      "\r",
      "pascal-voc.tgz       38%[======>             ]   1.66G  20.2MB/s    eta 2m 16s "
     ]
    },
    {
     "name": "stdout",
     "output_type": "stream",
     "text": [
      "\r",
      "pascal-voc.tgz       38%[======>             ]   1.67G  20.3MB/s    eta 2m 15s "
     ]
    },
    {
     "name": "stdout",
     "output_type": "stream",
     "text": [
      "\r",
      "pascal-voc.tgz       38%[======>             ]   1.67G  20.3MB/s    eta 2m 15s "
     ]
    },
    {
     "name": "stdout",
     "output_type": "stream",
     "text": [
      "\r",
      "pascal-voc.tgz       38%[======>             ]   1.67G  20.3MB/s    eta 2m 15s "
     ]
    },
    {
     "name": "stdout",
     "output_type": "stream",
     "text": [
      "\r",
      "pascal-voc.tgz       38%[======>             ]   1.68G  20.3MB/s    eta 2m 15s "
     ]
    },
    {
     "name": "stdout",
     "output_type": "stream",
     "text": [
      "\r",
      "pascal-voc.tgz       38%[======>             ]   1.68G  20.2MB/s    eta 2m 15s "
     ]
    },
    {
     "name": "stdout",
     "output_type": "stream",
     "text": [
      "\r",
      "pascal-voc.tgz       39%[======>             ]   1.69G  20.3MB/s    eta 2m 14s "
     ]
    },
    {
     "name": "stdout",
     "output_type": "stream",
     "text": [
      "\r",
      "pascal-voc.tgz       39%[======>             ]   1.69G  20.2MB/s    eta 2m 14s "
     ]
    },
    {
     "name": "stdout",
     "output_type": "stream",
     "text": [
      "\r",
      "pascal-voc.tgz       39%[======>             ]   1.69G  20.3MB/s    eta 2m 14s "
     ]
    },
    {
     "name": "stdout",
     "output_type": "stream",
     "text": [
      "\r",
      "pascal-voc.tgz       39%[======>             ]   1.70G  20.3MB/s    eta 2m 14s "
     ]
    },
    {
     "name": "stdout",
     "output_type": "stream",
     "text": [
      "\r",
      "pascal-voc.tgz       39%[======>             ]   1.70G  20.2MB/s    eta 2m 14s "
     ]
    },
    {
     "name": "stdout",
     "output_type": "stream",
     "text": [
      "\r",
      "pascal-voc.tgz       39%[======>             ]   1.71G  20.3MB/s    eta 2m 13s "
     ]
    },
    {
     "name": "stdout",
     "output_type": "stream",
     "text": [
      "\r",
      "pascal-voc.tgz       39%[======>             ]   1.71G  20.3MB/s    eta 2m 13s "
     ]
    },
    {
     "name": "stdout",
     "output_type": "stream",
     "text": [
      "\r",
      "pascal-voc.tgz       39%[======>             ]   1.71G  20.2MB/s    eta 2m 13s "
     ]
    },
    {
     "name": "stdout",
     "output_type": "stream",
     "text": [
      "\r",
      "pascal-voc.tgz       39%[======>             ]   1.72G  20.3MB/s    eta 2m 13s "
     ]
    },
    {
     "name": "stdout",
     "output_type": "stream",
     "text": [
      "\r",
      "pascal-voc.tgz       39%[======>             ]   1.72G  20.2MB/s    eta 2m 13s "
     ]
    },
    {
     "name": "stdout",
     "output_type": "stream",
     "text": [
      "\r",
      "pascal-voc.tgz       39%[======>             ]   1.73G  20.3MB/s    eta 2m 12s "
     ]
    },
    {
     "name": "stdout",
     "output_type": "stream",
     "text": [
      "\r",
      "pascal-voc.tgz       40%[=======>            ]   1.73G  20.3MB/s    eta 2m 12s "
     ]
    },
    {
     "name": "stdout",
     "output_type": "stream",
     "text": [
      "\r",
      "pascal-voc.tgz       40%[=======>            ]   1.73G  20.3MB/s    eta 2m 12s "
     ]
    },
    {
     "name": "stdout",
     "output_type": "stream",
     "text": [
      "\r",
      "pascal-voc.tgz       40%[=======>            ]   1.74G  20.3MB/s    eta 2m 12s "
     ]
    },
    {
     "name": "stdout",
     "output_type": "stream",
     "text": [
      "\r",
      "pascal-voc.tgz       40%[=======>            ]   1.74G  20.2MB/s    eta 2m 12s "
     ]
    },
    {
     "name": "stdout",
     "output_type": "stream",
     "text": [
      "\r",
      "pascal-voc.tgz       40%[=======>            ]   1.75G  20.2MB/s    eta 2m 11s "
     ]
    },
    {
     "name": "stdout",
     "output_type": "stream",
     "text": [
      "\r",
      "pascal-voc.tgz       40%[=======>            ]   1.75G  20.3MB/s    eta 2m 11s "
     ]
    },
    {
     "name": "stdout",
     "output_type": "stream",
     "text": [
      "\r",
      "pascal-voc.tgz       40%[=======>            ]   1.75G  20.3MB/s    eta 2m 11s "
     ]
    },
    {
     "name": "stdout",
     "output_type": "stream",
     "text": [
      "\r",
      "pascal-voc.tgz       40%[=======>            ]   1.76G  20.4MB/s    eta 2m 11s "
     ]
    },
    {
     "name": "stdout",
     "output_type": "stream",
     "text": [
      "\r",
      "pascal-voc.tgz       40%[=======>            ]   1.76G  20.2MB/s    eta 2m 11s "
     ]
    },
    {
     "name": "stdout",
     "output_type": "stream",
     "text": [
      "\r",
      "pascal-voc.tgz       40%[=======>            ]   1.77G  20.3MB/s    eta 2m 10s "
     ]
    },
    {
     "name": "stdout",
     "output_type": "stream",
     "text": [
      "\r",
      "pascal-voc.tgz       40%[=======>            ]   1.77G  20.3MB/s    eta 2m 10s "
     ]
    },
    {
     "name": "stdout",
     "output_type": "stream",
     "text": [
      "\r",
      "pascal-voc.tgz       41%[=======>            ]   1.77G  20.3MB/s    eta 2m 10s "
     ]
    },
    {
     "name": "stdout",
     "output_type": "stream",
     "text": [
      "\r",
      "pascal-voc.tgz       41%[=======>            ]   1.78G  20.3MB/s    eta 2m 10s "
     ]
    },
    {
     "name": "stdout",
     "output_type": "stream",
     "text": [
      "\r",
      "pascal-voc.tgz       41%[=======>            ]   1.78G  20.2MB/s    eta 2m 10s "
     ]
    },
    {
     "name": "stdout",
     "output_type": "stream",
     "text": [
      "\r",
      "pascal-voc.tgz       41%[=======>            ]   1.79G  20.2MB/s    eta 2m 9s  "
     ]
    },
    {
     "name": "stdout",
     "output_type": "stream",
     "text": [
      "\r",
      "pascal-voc.tgz       41%[=======>            ]   1.79G  20.3MB/s    eta 2m 9s  "
     ]
    },
    {
     "name": "stdout",
     "output_type": "stream",
     "text": [
      "\r",
      "pascal-voc.tgz       41%[=======>            ]   1.79G  20.3MB/s    eta 2m 9s  "
     ]
    },
    {
     "name": "stdout",
     "output_type": "stream",
     "text": [
      "\r",
      "pascal-voc.tgz       41%[=======>            ]   1.80G  20.3MB/s    eta 2m 9s  "
     ]
    },
    {
     "name": "stdout",
     "output_type": "stream",
     "text": [
      "\r",
      "pascal-voc.tgz       41%[=======>            ]   1.80G  20.3MB/s    eta 2m 9s  "
     ]
    },
    {
     "name": "stdout",
     "output_type": "stream",
     "text": [
      "\r",
      "pascal-voc.tgz       41%[=======>            ]   1.81G  20.3MB/s    eta 2m 8s  "
     ]
    },
    {
     "name": "stdout",
     "output_type": "stream",
     "text": [
      "\r",
      "pascal-voc.tgz       41%[=======>            ]   1.81G  20.3MB/s    eta 2m 8s  "
     ]
    },
    {
     "name": "stdout",
     "output_type": "stream",
     "text": [
      "\r",
      "pascal-voc.tgz       42%[=======>            ]   1.81G  20.3MB/s    eta 2m 8s  "
     ]
    },
    {
     "name": "stdout",
     "output_type": "stream",
     "text": [
      "\r",
      "pascal-voc.tgz       42%[=======>            ]   1.82G  20.2MB/s    eta 2m 8s  "
     ]
    },
    {
     "name": "stdout",
     "output_type": "stream",
     "text": [
      "\r",
      "pascal-voc.tgz       42%[=======>            ]   1.82G  19.9MB/s    eta 2m 8s  "
     ]
    },
    {
     "name": "stdout",
     "output_type": "stream",
     "text": [
      "\r",
      "pascal-voc.tgz       42%[=======>            ]   1.83G  19.8MB/s    eta 2m 7s  "
     ]
    },
    {
     "name": "stdout",
     "output_type": "stream",
     "text": [
      "\r",
      "pascal-voc.tgz       42%[=======>            ]   1.83G  19.8MB/s    eta 2m 7s  "
     ]
    },
    {
     "name": "stdout",
     "output_type": "stream",
     "text": [
      "\r",
      "pascal-voc.tgz       42%[=======>            ]   1.83G  19.8MB/s    eta 2m 7s  "
     ]
    },
    {
     "name": "stdout",
     "output_type": "stream",
     "text": [
      "\r",
      "pascal-voc.tgz       42%[=======>            ]   1.84G  19.9MB/s    eta 2m 7s  "
     ]
    },
    {
     "name": "stdout",
     "output_type": "stream",
     "text": [
      "\r",
      "pascal-voc.tgz       42%[=======>            ]   1.84G  19.9MB/s    eta 2m 7s  "
     ]
    },
    {
     "name": "stdout",
     "output_type": "stream",
     "text": [
      "\r",
      "pascal-voc.tgz       42%[=======>            ]   1.85G  19.9MB/s    eta 2m 6s  "
     ]
    },
    {
     "name": "stdout",
     "output_type": "stream",
     "text": [
      "\r",
      "pascal-voc.tgz       42%[=======>            ]   1.85G  19.8MB/s    eta 2m 6s  "
     ]
    },
    {
     "name": "stdout",
     "output_type": "stream",
     "text": [
      "\r",
      "pascal-voc.tgz       42%[=======>            ]   1.86G  19.9MB/s    eta 2m 6s  "
     ]
    },
    {
     "name": "stdout",
     "output_type": "stream",
     "text": [
      "\r",
      "pascal-voc.tgz       43%[=======>            ]   1.86G  19.8MB/s    eta 2m 6s  "
     ]
    },
    {
     "name": "stdout",
     "output_type": "stream",
     "text": [
      "\r",
      "pascal-voc.tgz       43%[=======>            ]   1.87G  19.8MB/s    eta 2m 6s  "
     ]
    },
    {
     "name": "stdout",
     "output_type": "stream",
     "text": [
      "\r",
      "pascal-voc.tgz       43%[=======>            ]   1.87G  19.9MB/s    eta 2m 4s  "
     ]
    },
    {
     "name": "stdout",
     "output_type": "stream",
     "text": [
      "\r",
      "pascal-voc.tgz       43%[=======>            ]   1.87G  19.9MB/s    eta 2m 4s  "
     ]
    },
    {
     "name": "stdout",
     "output_type": "stream",
     "text": [
      "\r",
      "pascal-voc.tgz       43%[=======>            ]   1.88G  19.9MB/s    eta 2m 4s  "
     ]
    },
    {
     "name": "stdout",
     "output_type": "stream",
     "text": [
      "\r",
      "pascal-voc.tgz       43%[=======>            ]   1.88G  19.8MB/s    eta 2m 4s  "
     ]
    },
    {
     "name": "stdout",
     "output_type": "stream",
     "text": [
      "\r",
      "pascal-voc.tgz       43%[=======>            ]   1.89G  20.7MB/s    eta 2m 4s  "
     ]
    },
    {
     "name": "stdout",
     "output_type": "stream",
     "text": [
      "\r",
      "pascal-voc.tgz       43%[=======>            ]   1.89G  20.3MB/s    eta 2m 3s  "
     ]
    },
    {
     "name": "stdout",
     "output_type": "stream",
     "text": [
      "\r",
      "pascal-voc.tgz       43%[=======>            ]   1.90G  20.3MB/s    eta 2m 3s  "
     ]
    },
    {
     "name": "stdout",
     "output_type": "stream",
     "text": [
      "\r",
      "pascal-voc.tgz       43%[=======>            ]   1.90G  20.2MB/s    eta 2m 3s  "
     ]
    },
    {
     "name": "stdout",
     "output_type": "stream",
     "text": [
      "\r",
      "pascal-voc.tgz       44%[=======>            ]   1.90G  20.2MB/s    eta 2m 3s  "
     ]
    },
    {
     "name": "stdout",
     "output_type": "stream",
     "text": [
      "\r",
      "pascal-voc.tgz       44%[=======>            ]   1.91G  20.4MB/s    eta 2m 3s  "
     ]
    },
    {
     "name": "stdout",
     "output_type": "stream",
     "text": [
      "\r",
      "pascal-voc.tgz       44%[=======>            ]   1.91G  20.2MB/s    eta 2m 2s  "
     ]
    },
    {
     "name": "stdout",
     "output_type": "stream",
     "text": [
      "\r",
      "pascal-voc.tgz       44%[=======>            ]   1.92G  20.2MB/s    eta 2m 2s  "
     ]
    },
    {
     "name": "stdout",
     "output_type": "stream",
     "text": [
      "\r",
      "pascal-voc.tgz       44%[=======>            ]   1.92G  20.4MB/s    eta 2m 2s  "
     ]
    },
    {
     "name": "stdout",
     "output_type": "stream",
     "text": [
      "\r",
      "pascal-voc.tgz       44%[=======>            ]   1.93G  20.3MB/s    eta 2m 2s  "
     ]
    },
    {
     "name": "stdout",
     "output_type": "stream",
     "text": [
      "\r",
      "pascal-voc.tgz       44%[=======>            ]   1.93G  20.3MB/s    eta 2m 2s  "
     ]
    },
    {
     "name": "stdout",
     "output_type": "stream",
     "text": [
      "\r",
      "pascal-voc.tgz       44%[=======>            ]   1.93G  20.4MB/s    eta 2m 1s  "
     ]
    },
    {
     "name": "stdout",
     "output_type": "stream",
     "text": [
      "\r",
      "pascal-voc.tgz       44%[=======>            ]   1.94G  20.3MB/s    eta 2m 1s  "
     ]
    },
    {
     "name": "stdout",
     "output_type": "stream",
     "text": [
      "\r",
      "pascal-voc.tgz       44%[=======>            ]   1.94G  20.2MB/s    eta 2m 1s  "
     ]
    },
    {
     "name": "stdout",
     "output_type": "stream",
     "text": [
      "\r",
      "pascal-voc.tgz       45%[========>           ]   1.95G  20.3MB/s    eta 2m 1s  "
     ]
    },
    {
     "name": "stdout",
     "output_type": "stream",
     "text": [
      "\r",
      "pascal-voc.tgz       45%[========>           ]   1.95G  20.3MB/s    eta 2m 1s  "
     ]
    },
    {
     "name": "stdout",
     "output_type": "stream",
     "text": [
      "\r",
      "pascal-voc.tgz       45%[========>           ]   1.96G  20.1MB/s    eta 2m 0s  "
     ]
    },
    {
     "name": "stdout",
     "output_type": "stream",
     "text": [
      "\r",
      "pascal-voc.tgz       45%[========>           ]   1.96G  20.2MB/s    eta 2m 0s  "
     ]
    },
    {
     "name": "stdout",
     "output_type": "stream",
     "text": [
      "\r",
      "pascal-voc.tgz       45%[========>           ]   1.96G  20.3MB/s    eta 2m 0s  "
     ]
    },
    {
     "name": "stdout",
     "output_type": "stream",
     "text": [
      "\r",
      "pascal-voc.tgz       45%[========>           ]   1.97G  20.3MB/s    eta 2m 0s  "
     ]
    },
    {
     "name": "stdout",
     "output_type": "stream",
     "text": [
      "\r",
      "pascal-voc.tgz       45%[========>           ]   1.97G  20.2MB/s    eta 2m 0s  "
     ]
    },
    {
     "name": "stdout",
     "output_type": "stream",
     "text": [
      "\r",
      "pascal-voc.tgz       45%[========>           ]   1.98G  20.4MB/s    eta 1m 59s "
     ]
    },
    {
     "name": "stdout",
     "output_type": "stream",
     "text": [
      "\r",
      "pascal-voc.tgz       45%[========>           ]   1.98G  20.4MB/s    eta 1m 59s "
     ]
    },
    {
     "name": "stdout",
     "output_type": "stream",
     "text": [
      "\r",
      "pascal-voc.tgz       45%[========>           ]   1.99G  20.4MB/s    eta 1m 59s "
     ]
    },
    {
     "name": "stdout",
     "output_type": "stream",
     "text": [
      "\r",
      "pascal-voc.tgz       46%[========>           ]   1.99G  20.3MB/s    eta 1m 59s "
     ]
    },
    {
     "name": "stdout",
     "output_type": "stream",
     "text": [
      "\r",
      "pascal-voc.tgz       46%[========>           ]   1.99G  20.4MB/s    eta 1m 59s "
     ]
    },
    {
     "name": "stdout",
     "output_type": "stream",
     "text": [
      "\r",
      "pascal-voc.tgz       46%[========>           ]   2.00G  20.4MB/s    eta 1m 58s "
     ]
    },
    {
     "name": "stdout",
     "output_type": "stream",
     "text": [
      "\r",
      "pascal-voc.tgz       46%[========>           ]   2.00G  20.2MB/s    eta 1m 58s "
     ]
    },
    {
     "name": "stdout",
     "output_type": "stream",
     "text": [
      "\r",
      "pascal-voc.tgz       46%[========>           ]   2.01G  20.3MB/s    eta 1m 58s "
     ]
    },
    {
     "name": "stdout",
     "output_type": "stream",
     "text": [
      "\r",
      "pascal-voc.tgz       46%[========>           ]   2.01G  20.5MB/s    eta 1m 58s "
     ]
    },
    {
     "name": "stdout",
     "output_type": "stream",
     "text": [
      "\r",
      "pascal-voc.tgz       46%[========>           ]   2.02G  20.4MB/s    eta 1m 58s "
     ]
    },
    {
     "name": "stdout",
     "output_type": "stream",
     "text": [
      "\r",
      "pascal-voc.tgz       46%[========>           ]   2.02G  20.2MB/s    eta 1m 57s "
     ]
    },
    {
     "name": "stdout",
     "output_type": "stream",
     "text": [
      "\r",
      "pascal-voc.tgz       46%[========>           ]   2.02G  20.4MB/s    eta 1m 57s "
     ]
    },
    {
     "name": "stdout",
     "output_type": "stream",
     "text": [
      "\r",
      "pascal-voc.tgz       46%[========>           ]   2.03G  20.4MB/s    eta 1m 57s "
     ]
    },
    {
     "name": "stdout",
     "output_type": "stream",
     "text": [
      "\r",
      "pascal-voc.tgz       47%[========>           ]   2.03G  20.4MB/s    eta 1m 57s "
     ]
    },
    {
     "name": "stdout",
     "output_type": "stream",
     "text": [
      "\r",
      "pascal-voc.tgz       47%[========>           ]   2.04G  20.3MB/s    eta 1m 57s "
     ]
    },
    {
     "name": "stdout",
     "output_type": "stream",
     "text": [
      "\r",
      "pascal-voc.tgz       47%[========>           ]   2.04G  20.4MB/s    eta 1m 56s "
     ]
    },
    {
     "name": "stdout",
     "output_type": "stream",
     "text": [
      "\r",
      "pascal-voc.tgz       47%[========>           ]   2.04G  20.2MB/s    eta 1m 56s "
     ]
    },
    {
     "name": "stdout",
     "output_type": "stream",
     "text": [
      "\r",
      "pascal-voc.tgz       47%[========>           ]   2.05G  20.3MB/s    eta 1m 56s "
     ]
    },
    {
     "name": "stdout",
     "output_type": "stream",
     "text": [
      "\r",
      "pascal-voc.tgz       47%[========>           ]   2.05G  20.3MB/s    eta 1m 56s "
     ]
    },
    {
     "name": "stdout",
     "output_type": "stream",
     "text": [
      "\r",
      "pascal-voc.tgz       47%[========>           ]   2.06G  20.2MB/s    eta 1m 56s "
     ]
    },
    {
     "name": "stdout",
     "output_type": "stream",
     "text": [
      "\r",
      "pascal-voc.tgz       47%[========>           ]   2.06G  20.3MB/s    eta 1m 55s "
     ]
    },
    {
     "name": "stdout",
     "output_type": "stream",
     "text": [
      "\r",
      "pascal-voc.tgz       47%[========>           ]   2.07G  20.3MB/s    eta 1m 55s "
     ]
    },
    {
     "name": "stdout",
     "output_type": "stream",
     "text": [
      "\r",
      "pascal-voc.tgz       47%[========>           ]   2.07G  20.3MB/s    eta 1m 55s "
     ]
    },
    {
     "name": "stdout",
     "output_type": "stream",
     "text": [
      "\r",
      "pascal-voc.tgz       48%[========>           ]   2.07G  20.2MB/s    eta 1m 55s "
     ]
    },
    {
     "name": "stdout",
     "output_type": "stream",
     "text": [
      "\r",
      "pascal-voc.tgz       48%[========>           ]   2.08G  20.1MB/s    eta 1m 55s "
     ]
    },
    {
     "name": "stdout",
     "output_type": "stream",
     "text": [
      "\r",
      "pascal-voc.tgz       48%[========>           ]   2.08G  20.4MB/s    eta 1m 54s "
     ]
    },
    {
     "name": "stdout",
     "output_type": "stream",
     "text": [
      "\r",
      "pascal-voc.tgz       48%[========>           ]   2.09G  20.4MB/s    eta 1m 54s "
     ]
    },
    {
     "name": "stdout",
     "output_type": "stream",
     "text": [
      "\r",
      "pascal-voc.tgz       48%[========>           ]   2.09G  20.3MB/s    eta 1m 54s "
     ]
    },
    {
     "name": "stdout",
     "output_type": "stream",
     "text": [
      "\r",
      "pascal-voc.tgz       48%[========>           ]   2.09G  20.3MB/s    eta 1m 54s "
     ]
    },
    {
     "name": "stdout",
     "output_type": "stream",
     "text": [
      "\r",
      "pascal-voc.tgz       48%[========>           ]   2.10G  20.2MB/s    eta 1m 54s "
     ]
    },
    {
     "name": "stdout",
     "output_type": "stream",
     "text": [
      "\r",
      "pascal-voc.tgz       48%[========>           ]   2.10G  20.2MB/s    eta 1m 52s "
     ]
    },
    {
     "name": "stdout",
     "output_type": "stream",
     "text": [
      "\r",
      "pascal-voc.tgz       48%[========>           ]   2.11G  20.2MB/s    eta 1m 52s "
     ]
    },
    {
     "name": "stdout",
     "output_type": "stream",
     "text": [
      "\r",
      "pascal-voc.tgz       48%[========>           ]   2.11G  20.3MB/s    eta 1m 52s "
     ]
    },
    {
     "name": "stdout",
     "output_type": "stream",
     "text": [
      "\r",
      "pascal-voc.tgz       48%[========>           ]   2.11G  20.4MB/s    eta 1m 52s "
     ]
    },
    {
     "name": "stdout",
     "output_type": "stream",
     "text": [
      "\r",
      "pascal-voc.tgz       49%[========>           ]   2.12G  20.4MB/s    eta 1m 52s "
     ]
    },
    {
     "name": "stdout",
     "output_type": "stream",
     "text": [
      "\r",
      "pascal-voc.tgz       49%[========>           ]   2.12G  20.5MB/s    eta 1m 51s "
     ]
    },
    {
     "name": "stdout",
     "output_type": "stream",
     "text": [
      "\r",
      "pascal-voc.tgz       49%[========>           ]   2.13G  20.2MB/s    eta 1m 51s "
     ]
    },
    {
     "name": "stdout",
     "output_type": "stream",
     "text": [
      "\r",
      "pascal-voc.tgz       49%[========>           ]   2.13G  20.1MB/s    eta 1m 51s "
     ]
    },
    {
     "name": "stdout",
     "output_type": "stream",
     "text": [
      "\r",
      "pascal-voc.tgz       49%[========>           ]   2.13G  20.2MB/s    eta 1m 51s "
     ]
    },
    {
     "name": "stdout",
     "output_type": "stream",
     "text": [
      "\r",
      "pascal-voc.tgz       49%[========>           ]   2.14G  20.3MB/s    eta 1m 51s "
     ]
    },
    {
     "name": "stdout",
     "output_type": "stream",
     "text": [
      "\r",
      "pascal-voc.tgz       49%[========>           ]   2.14G  20.4MB/s    eta 1m 50s "
     ]
    },
    {
     "name": "stdout",
     "output_type": "stream",
     "text": [
      "\r",
      "pascal-voc.tgz       49%[========>           ]   2.15G  20.5MB/s    eta 1m 50s "
     ]
    },
    {
     "name": "stdout",
     "output_type": "stream",
     "text": [
      "\r",
      "pascal-voc.tgz       49%[========>           ]   2.15G  20.4MB/s    eta 1m 50s "
     ]
    },
    {
     "name": "stdout",
     "output_type": "stream",
     "text": [
      "\r",
      "pascal-voc.tgz       49%[========>           ]   2.16G  20.1MB/s    eta 1m 50s "
     ]
    },
    {
     "name": "stdout",
     "output_type": "stream",
     "text": [
      "\r",
      "pascal-voc.tgz       49%[========>           ]   2.16G  20.2MB/s    eta 1m 50s "
     ]
    },
    {
     "name": "stdout",
     "output_type": "stream",
     "text": [
      "\r",
      "pascal-voc.tgz       50%[=========>          ]   2.16G  20.2MB/s    eta 1m 49s "
     ]
    },
    {
     "name": "stdout",
     "output_type": "stream",
     "text": [
      "\r",
      "pascal-voc.tgz       50%[=========>          ]   2.17G  20.3MB/s    eta 1m 49s "
     ]
    },
    {
     "name": "stdout",
     "output_type": "stream",
     "text": [
      "\r",
      "pascal-voc.tgz       50%[=========>          ]   2.17G  20.3MB/s    eta 1m 49s "
     ]
    },
    {
     "name": "stdout",
     "output_type": "stream",
     "text": [
      "\r",
      "pascal-voc.tgz       50%[=========>          ]   2.18G  20.2MB/s    eta 1m 49s "
     ]
    },
    {
     "name": "stdout",
     "output_type": "stream",
     "text": [
      "\r",
      "pascal-voc.tgz       50%[=========>          ]   2.18G  20.1MB/s    eta 1m 49s "
     ]
    },
    {
     "name": "stdout",
     "output_type": "stream",
     "text": [
      "\r",
      "pascal-voc.tgz       50%[=========>          ]   2.18G  20.2MB/s    eta 1m 48s "
     ]
    },
    {
     "name": "stdout",
     "output_type": "stream",
     "text": [
      "\r",
      "pascal-voc.tgz       50%[=========>          ]   2.19G  20.3MB/s    eta 1m 48s "
     ]
    },
    {
     "name": "stdout",
     "output_type": "stream",
     "text": [
      "\r",
      "pascal-voc.tgz       50%[=========>          ]   2.19G  20.3MB/s    eta 1m 48s "
     ]
    },
    {
     "name": "stdout",
     "output_type": "stream",
     "text": [
      "\r",
      "pascal-voc.tgz       50%[=========>          ]   2.20G  20.2MB/s    eta 1m 48s "
     ]
    },
    {
     "name": "stdout",
     "output_type": "stream",
     "text": [
      "\r",
      "pascal-voc.tgz       50%[=========>          ]   2.20G  20.1MB/s    eta 1m 48s "
     ]
    },
    {
     "name": "stdout",
     "output_type": "stream",
     "text": [
      "\r",
      "pascal-voc.tgz       51%[=========>          ]   2.21G  20.1MB/s    eta 1m 47s "
     ]
    },
    {
     "name": "stdout",
     "output_type": "stream",
     "text": [
      "\r",
      "pascal-voc.tgz       51%[=========>          ]   2.21G  20.2MB/s    eta 1m 47s "
     ]
    },
    {
     "name": "stdout",
     "output_type": "stream",
     "text": [
      "\r",
      "pascal-voc.tgz       51%[=========>          ]   2.21G  20.3MB/s    eta 1m 47s "
     ]
    },
    {
     "name": "stdout",
     "output_type": "stream",
     "text": [
      "\r",
      "pascal-voc.tgz       51%[=========>          ]   2.22G  20.3MB/s    eta 1m 47s "
     ]
    },
    {
     "name": "stdout",
     "output_type": "stream",
     "text": [
      "\r",
      "pascal-voc.tgz       51%[=========>          ]   2.22G  20.1MB/s    eta 1m 47s "
     ]
    },
    {
     "name": "stdout",
     "output_type": "stream",
     "text": [
      "\r",
      "pascal-voc.tgz       51%[=========>          ]   2.23G  20.1MB/s    eta 1m 46s "
     ]
    },
    {
     "name": "stdout",
     "output_type": "stream",
     "text": [
      "\r",
      "pascal-voc.tgz       51%[=========>          ]   2.23G  20.1MB/s    eta 1m 46s "
     ]
    },
    {
     "name": "stdout",
     "output_type": "stream",
     "text": [
      "\r",
      "pascal-voc.tgz       51%[=========>          ]   2.24G  20.2MB/s    eta 1m 46s "
     ]
    },
    {
     "name": "stdout",
     "output_type": "stream",
     "text": [
      "\r",
      "pascal-voc.tgz       51%[=========>          ]   2.24G  20.3MB/s    eta 1m 46s "
     ]
    },
    {
     "name": "stdout",
     "output_type": "stream",
     "text": [
      "\r",
      "pascal-voc.tgz       51%[=========>          ]   2.25G  20.3MB/s    eta 1m 46s "
     ]
    },
    {
     "name": "stdout",
     "output_type": "stream",
     "text": [
      "\r",
      "pascal-voc.tgz       52%[=========>          ]   2.25G  20.3MB/s    eta 1m 45s "
     ]
    },
    {
     "name": "stdout",
     "output_type": "stream",
     "text": [
      "\r",
      "pascal-voc.tgz       52%[=========>          ]   2.25G  20.2MB/s    eta 1m 45s "
     ]
    },
    {
     "name": "stdout",
     "output_type": "stream",
     "text": [
      "\r",
      "pascal-voc.tgz       52%[=========>          ]   2.26G  20.2MB/s    eta 1m 45s "
     ]
    },
    {
     "name": "stdout",
     "output_type": "stream",
     "text": [
      "\r",
      "pascal-voc.tgz       52%[=========>          ]   2.26G  20.0MB/s    eta 1m 45s "
     ]
    },
    {
     "name": "stdout",
     "output_type": "stream",
     "text": [
      "\r",
      "pascal-voc.tgz       52%[=========>          ]   2.27G  20.3MB/s    eta 1m 45s "
     ]
    },
    {
     "name": "stdout",
     "output_type": "stream",
     "text": [
      "\r",
      "pascal-voc.tgz       52%[=========>          ]   2.27G  20.3MB/s    eta 1m 44s "
     ]
    },
    {
     "name": "stdout",
     "output_type": "stream",
     "text": [
      "\r",
      "pascal-voc.tgz       52%[=========>          ]   2.27G  20.4MB/s    eta 1m 44s "
     ]
    },
    {
     "name": "stdout",
     "output_type": "stream",
     "text": [
      "\r",
      "pascal-voc.tgz       52%[=========>          ]   2.28G  20.2MB/s    eta 1m 44s "
     ]
    },
    {
     "name": "stdout",
     "output_type": "stream",
     "text": [
      "\r",
      "pascal-voc.tgz       52%[=========>          ]   2.28G  20.1MB/s    eta 1m 44s "
     ]
    },
    {
     "name": "stdout",
     "output_type": "stream",
     "text": [
      "\r",
      "pascal-voc.tgz       52%[=========>          ]   2.29G  20.2MB/s    eta 1m 44s "
     ]
    },
    {
     "name": "stdout",
     "output_type": "stream",
     "text": [
      "\r",
      "pascal-voc.tgz       53%[=========>          ]   2.29G  20.3MB/s    eta 1m 43s "
     ]
    },
    {
     "name": "stdout",
     "output_type": "stream",
     "text": [
      "\r",
      "pascal-voc.tgz       53%[=========>          ]   2.29G  19.6MB/s    eta 1m 43s "
     ]
    },
    {
     "name": "stdout",
     "output_type": "stream",
     "text": [
      "\r",
      "pascal-voc.tgz       53%[=========>          ]   2.30G  19.1MB/s    eta 1m 43s "
     ]
    },
    {
     "name": "stdout",
     "output_type": "stream",
     "text": [
      "\r",
      "pascal-voc.tgz       53%[=========>          ]   2.30G  19.1MB/s    eta 1m 43s "
     ]
    },
    {
     "name": "stdout",
     "output_type": "stream",
     "text": [
      "\r",
      "pascal-voc.tgz       53%[=========>          ]   2.30G  19.2MB/s    eta 1m 43s "
     ]
    },
    {
     "name": "stdout",
     "output_type": "stream",
     "text": [
      "\r",
      "pascal-voc.tgz       53%[=========>          ]   2.31G  19.3MB/s    eta 1m 42s "
     ]
    },
    {
     "name": "stdout",
     "output_type": "stream",
     "text": [
      "\r",
      "pascal-voc.tgz       53%[=========>          ]   2.31G  19.3MB/s    eta 1m 42s "
     ]
    },
    {
     "name": "stdout",
     "output_type": "stream",
     "text": [
      "\r",
      "pascal-voc.tgz       53%[=========>          ]   2.32G  19.4MB/s    eta 1m 42s "
     ]
    },
    {
     "name": "stdout",
     "output_type": "stream",
     "text": [
      "\r",
      "pascal-voc.tgz       53%[=========>          ]   2.32G  19.3MB/s    eta 1m 42s "
     ]
    },
    {
     "name": "stdout",
     "output_type": "stream",
     "text": [
      "\r",
      "pascal-voc.tgz       53%[=========>          ]   2.33G  19.3MB/s    eta 1m 42s "
     ]
    },
    {
     "name": "stdout",
     "output_type": "stream",
     "text": [
      "\r",
      "pascal-voc.tgz       53%[=========>          ]   2.33G  19.4MB/s    eta 1m 41s "
     ]
    },
    {
     "name": "stdout",
     "output_type": "stream",
     "text": [
      "\r",
      "pascal-voc.tgz       54%[=========>          ]   2.33G  19.5MB/s    eta 1m 41s "
     ]
    },
    {
     "name": "stdout",
     "output_type": "stream",
     "text": [
      "\r",
      "pascal-voc.tgz       54%[=========>          ]   2.34G  19.6MB/s    eta 1m 41s "
     ]
    },
    {
     "name": "stdout",
     "output_type": "stream",
     "text": [
      "\r",
      "pascal-voc.tgz       54%[=========>          ]   2.34G  19.2MB/s    eta 1m 41s "
     ]
    },
    {
     "name": "stdout",
     "output_type": "stream",
     "text": [
      "\r",
      "pascal-voc.tgz       54%[=========>          ]   2.35G  18.9MB/s    eta 1m 41s "
     ]
    },
    {
     "name": "stdout",
     "output_type": "stream",
     "text": [
      "\r",
      "pascal-voc.tgz       54%[=========>          ]   2.35G  18.3MB/s    eta 1m 40s "
     ]
    },
    {
     "name": "stdout",
     "output_type": "stream",
     "text": [
      "\r",
      "pascal-voc.tgz       54%[=========>          ]   2.35G  17.6MB/s    eta 1m 40s "
     ]
    },
    {
     "name": "stdout",
     "output_type": "stream",
     "text": [
      "\r",
      "pascal-voc.tgz       54%[=========>          ]   2.35G  17.4MB/s    eta 1m 40s "
     ]
    },
    {
     "name": "stdout",
     "output_type": "stream",
     "text": [
      "\r",
      "pascal-voc.tgz       54%[=========>          ]   2.35G  16.7MB/s    eta 1m 40s "
     ]
    },
    {
     "name": "stdout",
     "output_type": "stream",
     "text": [
      "\r",
      "pascal-voc.tgz       54%[=========>          ]   2.36G  16.5MB/s    eta 1m 40s "
     ]
    },
    {
     "name": "stdout",
     "output_type": "stream",
     "text": [
      "\r",
      "pascal-voc.tgz       54%[=========>          ]   2.36G  15.3MB/s    eta 1m 40s "
     ]
    },
    {
     "name": "stdout",
     "output_type": "stream",
     "text": [
      "\r",
      "pascal-voc.tgz       54%[=========>          ]   2.36G  14.8MB/s    eta 1m 40s "
     ]
    },
    {
     "name": "stdout",
     "output_type": "stream",
     "text": [
      "\r",
      "pascal-voc.tgz       54%[=========>          ]   2.36G  14.2MB/s    eta 1m 40s "
     ]
    },
    {
     "name": "stdout",
     "output_type": "stream",
     "text": [
      "\r",
      "pascal-voc.tgz       54%[=========>          ]   2.36G  13.5MB/s    eta 1m 40s "
     ]
    },
    {
     "name": "stdout",
     "output_type": "stream",
     "text": [
      "\r",
      "pascal-voc.tgz       54%[=========>          ]   2.36G  12.6MB/s    eta 1m 40s "
     ]
    },
    {
     "name": "stdout",
     "output_type": "stream",
     "text": [
      "\r",
      "pascal-voc.tgz       54%[=========>          ]   2.37G  11.9MB/s    eta 1m 40s "
     ]
    },
    {
     "name": "stdout",
     "output_type": "stream",
     "text": [
      "\r",
      "pascal-voc.tgz       54%[=========>          ]   2.37G  11.0MB/s    eta 1m 40s "
     ]
    },
    {
     "name": "stdout",
     "output_type": "stream",
     "text": [
      "\r",
      "pascal-voc.tgz       54%[=========>          ]   2.37G  10.1MB/s    eta 1m 40s "
     ]
    },
    {
     "name": "stdout",
     "output_type": "stream",
     "text": [
      "\r",
      "pascal-voc.tgz       54%[=========>          ]   2.37G  9.29MB/s    eta 1m 40s "
     ]
    },
    {
     "name": "stdout",
     "output_type": "stream",
     "text": [
      "\r",
      "pascal-voc.tgz       54%[=========>          ]   2.37G  8.21MB/s    eta 1m 40s "
     ]
    },
    {
     "name": "stdout",
     "output_type": "stream",
     "text": [
      "\r",
      "pascal-voc.tgz       54%[=========>          ]   2.37G  7.67MB/s    eta 1m 41s "
     ]
    },
    {
     "name": "stdout",
     "output_type": "stream",
     "text": [
      "\r",
      "pascal-voc.tgz       54%[=========>          ]   2.37G  7.37MB/s    eta 1m 41s "
     ]
    },
    {
     "name": "stdout",
     "output_type": "stream",
     "text": [
      "\r",
      "pascal-voc.tgz       54%[=========>          ]   2.38G  7.09MB/s    eta 1m 41s "
     ]
    },
    {
     "name": "stdout",
     "output_type": "stream",
     "text": [
      "\r",
      "pascal-voc.tgz       55%[==========>         ]   2.38G  6.80MB/s    eta 1m 41s "
     ]
    },
    {
     "name": "stdout",
     "output_type": "stream",
     "text": [
      "\r",
      "pascal-voc.tgz       55%[==========>         ]   2.38G  6.76MB/s    eta 1m 41s "
     ]
    },
    {
     "name": "stdout",
     "output_type": "stream",
     "text": [
      "\r",
      "pascal-voc.tgz       55%[==========>         ]   2.38G  6.45MB/s    eta 1m 41s "
     ]
    },
    {
     "name": "stdout",
     "output_type": "stream",
     "text": [
      "\r",
      "pascal-voc.tgz       55%[==========>         ]   2.38G  6.38MB/s    eta 1m 41s "
     ]
    },
    {
     "name": "stdout",
     "output_type": "stream",
     "text": [
      "\r",
      "pascal-voc.tgz       55%[==========>         ]   2.38G  6.15MB/s    eta 1m 41s "
     ]
    },
    {
     "name": "stdout",
     "output_type": "stream",
     "text": [
      "\r",
      "pascal-voc.tgz       55%[==========>         ]   2.38G  5.85MB/s    eta 1m 41s "
     ]
    },
    {
     "name": "stdout",
     "output_type": "stream",
     "text": [
      "\r",
      "pascal-voc.tgz       55%[==========>         ]   2.38G  5.54MB/s    eta 1m 41s "
     ]
    },
    {
     "name": "stdout",
     "output_type": "stream",
     "text": [
      "\r",
      "pascal-voc.tgz       55%[==========>         ]   2.38G  5.29MB/s    eta 1m 42s "
     ]
    },
    {
     "name": "stdout",
     "output_type": "stream",
     "text": [
      "\r",
      "pascal-voc.tgz       55%[==========>         ]   2.38G  4.97MB/s    eta 1m 42s "
     ]
    },
    {
     "name": "stdout",
     "output_type": "stream",
     "text": [
      "\r",
      "pascal-voc.tgz       55%[==========>         ]   2.38G  4.62MB/s    eta 1m 42s "
     ]
    },
    {
     "name": "stdout",
     "output_type": "stream",
     "text": [
      "\r",
      "pascal-voc.tgz       55%[==========>         ]   2.38G  4.39MB/s    eta 1m 42s "
     ]
    },
    {
     "name": "stdout",
     "output_type": "stream",
     "text": [
      "\r",
      "pascal-voc.tgz       55%[==========>         ]   2.39G  4.23MB/s    eta 1m 42s "
     ]
    },
    {
     "name": "stdout",
     "output_type": "stream",
     "text": [
      "\r",
      "pascal-voc.tgz       55%[==========>         ]   2.39G  4.20MB/s    eta 1m 42s "
     ]
    },
    {
     "name": "stdout",
     "output_type": "stream",
     "text": [
      "\r",
      "pascal-voc.tgz       55%[==========>         ]   2.39G  3.92MB/s    eta 1m 42s "
     ]
    },
    {
     "name": "stdout",
     "output_type": "stream",
     "text": [
      "\r",
      "pascal-voc.tgz       55%[==========>         ]   2.39G  3.98MB/s    eta 1m 42s "
     ]
    },
    {
     "name": "stdout",
     "output_type": "stream",
     "text": [
      "\r",
      "pascal-voc.tgz       55%[==========>         ]   2.39G  3.72MB/s    eta 1m 42s "
     ]
    },
    {
     "name": "stdout",
     "output_type": "stream",
     "text": [
      "\r",
      "pascal-voc.tgz       55%[==========>         ]   2.39G  3.60MB/s    eta 1m 42s "
     ]
    },
    {
     "name": "stdout",
     "output_type": "stream",
     "text": [
      "\r",
      "pascal-voc.tgz       55%[==========>         ]   2.39G  3.46MB/s    eta 1m 43s "
     ]
    },
    {
     "name": "stdout",
     "output_type": "stream",
     "text": [
      "\r",
      "pascal-voc.tgz       55%[==========>         ]   2.39G  3.33MB/s    eta 1m 43s "
     ]
    },
    {
     "name": "stdout",
     "output_type": "stream",
     "text": [
      "\r",
      "pascal-voc.tgz       55%[==========>         ]   2.39G  3.23MB/s    eta 1m 43s "
     ]
    },
    {
     "name": "stdout",
     "output_type": "stream",
     "text": [
      "\r",
      "pascal-voc.tgz       55%[==========>         ]   2.39G  3.22MB/s    eta 1m 43s "
     ]
    },
    {
     "name": "stdout",
     "output_type": "stream",
     "text": [
      "\r",
      "pascal-voc.tgz       55%[==========>         ]   2.39G  3.19MB/s    eta 1m 43s "
     ]
    },
    {
     "name": "stdout",
     "output_type": "stream",
     "text": [
      "\r",
      "pascal-voc.tgz       55%[==========>         ]   2.39G  3.15MB/s    eta 1m 43s "
     ]
    },
    {
     "name": "stdout",
     "output_type": "stream",
     "text": [
      "\r",
      "pascal-voc.tgz       55%[==========>         ]   2.39G  3.08MB/s    eta 1m 43s "
     ]
    },
    {
     "name": "stdout",
     "output_type": "stream",
     "text": [
      "\r",
      "pascal-voc.tgz       55%[==========>         ]   2.39G  3.13MB/s    eta 1m 43s "
     ]
    },
    {
     "name": "stdout",
     "output_type": "stream",
     "text": [
      "\r",
      "pascal-voc.tgz       55%[==========>         ]   2.39G  3.15MB/s    eta 1m 43s "
     ]
    },
    {
     "name": "stdout",
     "output_type": "stream",
     "text": [
      "\r",
      "pascal-voc.tgz       55%[==========>         ]   2.40G  3.22MB/s    eta 1m 43s "
     ]
    },
    {
     "name": "stdout",
     "output_type": "stream",
     "text": [
      "\r",
      "pascal-voc.tgz       55%[==========>         ]   2.40G  3.22MB/s    eta 1m 44s "
     ]
    },
    {
     "name": "stdout",
     "output_type": "stream",
     "text": [
      "\r",
      "pascal-voc.tgz       55%[==========>         ]   2.40G  3.22MB/s    eta 1m 44s "
     ]
    },
    {
     "name": "stdout",
     "output_type": "stream",
     "text": [
      "\r",
      "pascal-voc.tgz       55%[==========>         ]   2.40G  3.25MB/s    eta 1m 44s "
     ]
    },
    {
     "name": "stdout",
     "output_type": "stream",
     "text": [
      "\r",
      "pascal-voc.tgz       55%[==========>         ]   2.40G  3.29MB/s    eta 1m 44s "
     ]
    },
    {
     "name": "stdout",
     "output_type": "stream",
     "text": [
      "\r",
      "pascal-voc.tgz       55%[==========>         ]   2.40G  3.30MB/s    eta 1m 44s "
     ]
    },
    {
     "name": "stdout",
     "output_type": "stream",
     "text": [
      "\r",
      "pascal-voc.tgz       55%[==========>         ]   2.40G  3.26MB/s    eta 1m 44s "
     ]
    },
    {
     "name": "stdout",
     "output_type": "stream",
     "text": [
      "\r",
      "pascal-voc.tgz       55%[==========>         ]   2.40G  3.28MB/s    eta 1m 44s "
     ]
    },
    {
     "name": "stdout",
     "output_type": "stream",
     "text": [
      "\r",
      "pascal-voc.tgz       55%[==========>         ]   2.40G  3.31MB/s    eta 1m 44s "
     ]
    },
    {
     "name": "stdout",
     "output_type": "stream",
     "text": [
      "\r",
      "pascal-voc.tgz       55%[==========>         ]   2.40G  3.33MB/s    eta 1m 44s "
     ]
    },
    {
     "name": "stdout",
     "output_type": "stream",
     "text": [
      "\r",
      "pascal-voc.tgz       55%[==========>         ]   2.40G  3.33MB/s    eta 1m 44s "
     ]
    },
    {
     "name": "stdout",
     "output_type": "stream",
     "text": [
      "\r",
      "pascal-voc.tgz       55%[==========>         ]   2.40G  3.33MB/s    eta 1m 45s "
     ]
    },
    {
     "name": "stdout",
     "output_type": "stream",
     "text": [
      "\r",
      "pascal-voc.tgz       55%[==========>         ]   2.40G  3.37MB/s    eta 1m 45s "
     ]
    },
    {
     "name": "stdout",
     "output_type": "stream",
     "text": [
      "\r",
      "pascal-voc.tgz       55%[==========>         ]   2.40G  3.38MB/s    eta 1m 45s "
     ]
    },
    {
     "name": "stdout",
     "output_type": "stream",
     "text": [
      "\r",
      "pascal-voc.tgz       55%[==========>         ]   2.41G  3.40MB/s    eta 1m 45s "
     ]
    },
    {
     "name": "stdout",
     "output_type": "stream",
     "text": [
      "\r",
      "pascal-voc.tgz       55%[==========>         ]   2.41G  3.42MB/s    eta 1m 45s "
     ]
    },
    {
     "name": "stdout",
     "output_type": "stream",
     "text": [
      "\r",
      "pascal-voc.tgz       55%[==========>         ]   2.41G  3.43MB/s    eta 1m 45s "
     ]
    },
    {
     "name": "stdout",
     "output_type": "stream",
     "text": [
      "\r",
      "pascal-voc.tgz       55%[==========>         ]   2.41G  3.48MB/s    eta 1m 45s "
     ]
    },
    {
     "name": "stdout",
     "output_type": "stream",
     "text": [
      "\r",
      "pascal-voc.tgz       55%[==========>         ]   2.41G  3.51MB/s    eta 1m 45s "
     ]
    },
    {
     "name": "stdout",
     "output_type": "stream",
     "text": [
      "\r",
      "pascal-voc.tgz       55%[==========>         ]   2.41G  3.54MB/s    eta 1m 45s "
     ]
    },
    {
     "name": "stdout",
     "output_type": "stream",
     "text": [
      "\r",
      "pascal-voc.tgz       55%[==========>         ]   2.41G  3.55MB/s    eta 1m 45s "
     ]
    },
    {
     "name": "stdout",
     "output_type": "stream",
     "text": [
      "\r",
      "pascal-voc.tgz       55%[==========>         ]   2.41G  3.57MB/s    eta 1m 46s "
     ]
    },
    {
     "name": "stdout",
     "output_type": "stream",
     "text": [
      "\r",
      "pascal-voc.tgz       55%[==========>         ]   2.41G  3.64MB/s    eta 1m 46s "
     ]
    },
    {
     "name": "stdout",
     "output_type": "stream",
     "text": [
      "\r",
      "pascal-voc.tgz       55%[==========>         ]   2.41G  3.66MB/s    eta 1m 46s "
     ]
    },
    {
     "name": "stdout",
     "output_type": "stream",
     "text": [
      "\r",
      "pascal-voc.tgz       55%[==========>         ]   2.41G  3.67MB/s    eta 1m 46s "
     ]
    },
    {
     "name": "stdout",
     "output_type": "stream",
     "text": [
      "\r",
      "pascal-voc.tgz       55%[==========>         ]   2.41G  3.74MB/s    eta 1m 46s "
     ]
    },
    {
     "name": "stdout",
     "output_type": "stream",
     "text": [
      "\r",
      "pascal-voc.tgz       55%[==========>         ]   2.42G  3.79MB/s    eta 1m 46s "
     ]
    },
    {
     "name": "stdout",
     "output_type": "stream",
     "text": [
      "\r",
      "pascal-voc.tgz       55%[==========>         ]   2.42G  3.82MB/s    eta 1m 46s "
     ]
    },
    {
     "name": "stdout",
     "output_type": "stream",
     "text": [
      "\r",
      "pascal-voc.tgz       55%[==========>         ]   2.42G  3.91MB/s    eta 1m 46s "
     ]
    },
    {
     "name": "stdout",
     "output_type": "stream",
     "text": [
      "\r",
      "pascal-voc.tgz       55%[==========>         ]   2.42G  4.00MB/s    eta 1m 46s "
     ]
    },
    {
     "name": "stdout",
     "output_type": "stream",
     "text": [
      "\r",
      "pascal-voc.tgz       55%[==========>         ]   2.42G  4.03MB/s    eta 1m 46s "
     ]
    },
    {
     "name": "stdout",
     "output_type": "stream",
     "text": [
      "\r",
      "pascal-voc.tgz       56%[==========>         ]   2.42G  4.09MB/s    eta 1m 46s "
     ]
    },
    {
     "name": "stdout",
     "output_type": "stream",
     "text": [
      "\r",
      "pascal-voc.tgz       56%[==========>         ]   2.42G  4.19MB/s    eta 1m 46s "
     ]
    },
    {
     "name": "stdout",
     "output_type": "stream",
     "text": [
      "\r",
      "pascal-voc.tgz       56%[==========>         ]   2.42G  4.30MB/s    eta 1m 46s "
     ]
    },
    {
     "name": "stdout",
     "output_type": "stream",
     "text": [
      "\r",
      "pascal-voc.tgz       56%[==========>         ]   2.42G  4.45MB/s    eta 1m 46s "
     ]
    },
    {
     "name": "stdout",
     "output_type": "stream",
     "text": [
      "\r",
      "pascal-voc.tgz       56%[==========>         ]   2.42G  4.56MB/s    eta 1m 46s "
     ]
    },
    {
     "name": "stdout",
     "output_type": "stream",
     "text": [
      "\r",
      "pascal-voc.tgz       56%[==========>         ]   2.42G  4.67MB/s    eta 1m 47s "
     ]
    },
    {
     "name": "stdout",
     "output_type": "stream",
     "text": [
      "\r",
      "pascal-voc.tgz       56%[==========>         ]   2.43G  4.88MB/s    eta 1m 47s "
     ]
    },
    {
     "name": "stdout",
     "output_type": "stream",
     "text": [
      "\r",
      "pascal-voc.tgz       56%[==========>         ]   2.43G  5.06MB/s    eta 1m 47s "
     ]
    },
    {
     "name": "stdout",
     "output_type": "stream",
     "text": [
      "\r",
      "pascal-voc.tgz       56%[==========>         ]   2.43G  5.16MB/s    eta 1m 47s "
     ]
    },
    {
     "name": "stdout",
     "output_type": "stream",
     "text": [
      "\r",
      "pascal-voc.tgz       56%[==========>         ]   2.43G  5.38MB/s    eta 1m 47s "
     ]
    },
    {
     "name": "stdout",
     "output_type": "stream",
     "text": [
      "\r",
      "pascal-voc.tgz       56%[==========>         ]   2.43G  5.59MB/s    eta 1m 47s "
     ]
    },
    {
     "name": "stdout",
     "output_type": "stream",
     "text": [
      "\r",
      "pascal-voc.tgz       56%[==========>         ]   2.43G  5.79MB/s    eta 1m 47s "
     ]
    },
    {
     "name": "stdout",
     "output_type": "stream",
     "text": [
      "\r",
      "pascal-voc.tgz       56%[==========>         ]   2.44G  6.08MB/s    eta 1m 47s "
     ]
    },
    {
     "name": "stdout",
     "output_type": "stream",
     "text": [
      "\r",
      "pascal-voc.tgz       56%[==========>         ]   2.44G  6.30MB/s    eta 1m 47s "
     ]
    },
    {
     "name": "stdout",
     "output_type": "stream",
     "text": [
      "\r",
      "pascal-voc.tgz       56%[==========>         ]   2.44G  6.47MB/s    eta 1m 47s "
     ]
    },
    {
     "name": "stdout",
     "output_type": "stream",
     "text": [
      "\r",
      "pascal-voc.tgz       56%[==========>         ]   2.44G  6.80MB/s    eta 1m 47s "
     ]
    },
    {
     "name": "stdout",
     "output_type": "stream",
     "text": [
      "\r",
      "pascal-voc.tgz       56%[==========>         ]   2.44G  7.09MB/s    eta 1m 47s "
     ]
    },
    {
     "name": "stdout",
     "output_type": "stream",
     "text": [
      "\r",
      "pascal-voc.tgz       56%[==========>         ]   2.44G  7.38MB/s    eta 1m 47s "
     ]
    },
    {
     "name": "stdout",
     "output_type": "stream",
     "text": [
      "\r",
      "pascal-voc.tgz       56%[==========>         ]   2.45G  7.72MB/s    eta 1m 47s "
     ]
    },
    {
     "name": "stdout",
     "output_type": "stream",
     "text": [
      "\r",
      "pascal-voc.tgz       56%[==========>         ]   2.45G  8.02MB/s    eta 1m 47s "
     ]
    },
    {
     "name": "stdout",
     "output_type": "stream",
     "text": [
      "\r",
      "pascal-voc.tgz       56%[==========>         ]   2.45G  8.54MB/s    eta 1m 47s "
     ]
    },
    {
     "name": "stdout",
     "output_type": "stream",
     "text": [
      "\r",
      "pascal-voc.tgz       56%[==========>         ]   2.45G  8.79MB/s    eta 1m 47s "
     ]
    },
    {
     "name": "stdout",
     "output_type": "stream",
     "text": [
      "\r",
      "pascal-voc.tgz       56%[==========>         ]   2.46G  9.12MB/s    eta 1m 47s "
     ]
    },
    {
     "name": "stdout",
     "output_type": "stream",
     "text": [
      "\r",
      "pascal-voc.tgz       56%[==========>         ]   2.46G  9.48MB/s    eta 1m 47s "
     ]
    },
    {
     "name": "stdout",
     "output_type": "stream",
     "text": [
      "\r",
      "pascal-voc.tgz       56%[==========>         ]   2.46G  9.95MB/s    eta 1m 47s "
     ]
    },
    {
     "name": "stdout",
     "output_type": "stream",
     "text": [
      "\r",
      "pascal-voc.tgz       57%[==========>         ]   2.46G  10.4MB/s    eta 1m 46s "
     ]
    },
    {
     "name": "stdout",
     "output_type": "stream",
     "text": [
      "\r",
      "pascal-voc.tgz       57%[==========>         ]   2.47G  11.0MB/s    eta 1m 46s "
     ]
    },
    {
     "name": "stdout",
     "output_type": "stream",
     "text": [
      "\r",
      "pascal-voc.tgz       57%[==========>         ]   2.47G  11.4MB/s    eta 1m 46s "
     ]
    },
    {
     "name": "stdout",
     "output_type": "stream",
     "text": [
      "\r",
      "pascal-voc.tgz       57%[==========>         ]   2.47G  11.8MB/s    eta 1m 46s "
     ]
    },
    {
     "name": "stdout",
     "output_type": "stream",
     "text": [
      "\r",
      "pascal-voc.tgz       57%[==========>         ]   2.48G  12.2MB/s    eta 1m 46s "
     ]
    },
    {
     "name": "stdout",
     "output_type": "stream",
     "text": [
      "\r",
      "pascal-voc.tgz       57%[==========>         ]   2.48G  12.8MB/s    eta 1m 45s "
     ]
    },
    {
     "name": "stdout",
     "output_type": "stream",
     "text": [
      "\r",
      "pascal-voc.tgz       57%[==========>         ]   2.48G  13.4MB/s    eta 1m 45s "
     ]
    },
    {
     "name": "stdout",
     "output_type": "stream",
     "text": [
      "\r",
      "pascal-voc.tgz       57%[==========>         ]   2.49G  14.2MB/s    eta 1m 45s "
     ]
    },
    {
     "name": "stdout",
     "output_type": "stream",
     "text": [
      "\r",
      "pascal-voc.tgz       57%[==========>         ]   2.49G  14.8MB/s    eta 1m 45s "
     ]
    },
    {
     "name": "stdout",
     "output_type": "stream",
     "text": [
      "\r",
      "pascal-voc.tgz       57%[==========>         ]   2.50G  15.3MB/s    eta 1m 45s "
     ]
    },
    {
     "name": "stdout",
     "output_type": "stream",
     "text": [
      "\r",
      "pascal-voc.tgz       57%[==========>         ]   2.50G  16.1MB/s    eta 1m 44s "
     ]
    },
    {
     "name": "stdout",
     "output_type": "stream",
     "text": [
      "\r",
      "pascal-voc.tgz       57%[==========>         ]   2.50G  15.9MB/s    eta 1m 44s "
     ]
    },
    {
     "name": "stdout",
     "output_type": "stream",
     "text": [
      "\r",
      "pascal-voc.tgz       57%[==========>         ]   2.51G  16.2MB/s    eta 1m 44s "
     ]
    },
    {
     "name": "stdout",
     "output_type": "stream",
     "text": [
      "\r",
      "pascal-voc.tgz       58%[==========>         ]   2.51G  16.3MB/s    eta 1m 44s "
     ]
    },
    {
     "name": "stdout",
     "output_type": "stream",
     "text": [
      "\r",
      "pascal-voc.tgz       58%[==========>         ]   2.51G  16.5MB/s    eta 1m 44s "
     ]
    },
    {
     "name": "stdout",
     "output_type": "stream",
     "text": [
      "\r",
      "pascal-voc.tgz       58%[==========>         ]   2.52G  16.6MB/s    eta 1m 43s "
     ]
    },
    {
     "name": "stdout",
     "output_type": "stream",
     "text": [
      "\r",
      "pascal-voc.tgz       58%[==========>         ]   2.52G  16.7MB/s    eta 1m 43s "
     ]
    },
    {
     "name": "stdout",
     "output_type": "stream",
     "text": [
      "\r",
      "pascal-voc.tgz       58%[==========>         ]   2.52G  16.8MB/s    eta 1m 43s "
     ]
    },
    {
     "name": "stdout",
     "output_type": "stream",
     "text": [
      "\r",
      "pascal-voc.tgz       58%[==========>         ]   2.53G  17.0MB/s    eta 1m 43s "
     ]
    },
    {
     "name": "stdout",
     "output_type": "stream",
     "text": [
      "\r",
      "pascal-voc.tgz       58%[==========>         ]   2.53G  17.1MB/s    eta 1m 43s "
     ]
    },
    {
     "name": "stdout",
     "output_type": "stream",
     "text": [
      "\r",
      "pascal-voc.tgz       58%[==========>         ]   2.53G  17.3MB/s    eta 1m 42s "
     ]
    },
    {
     "name": "stdout",
     "output_type": "stream",
     "text": [
      "\r",
      "pascal-voc.tgz       58%[==========>         ]   2.54G  17.4MB/s    eta 1m 42s "
     ]
    },
    {
     "name": "stdout",
     "output_type": "stream",
     "text": [
      "\r",
      "pascal-voc.tgz       58%[==========>         ]   2.54G  17.3MB/s    eta 1m 42s "
     ]
    },
    {
     "name": "stdout",
     "output_type": "stream",
     "text": [
      "\r",
      "pascal-voc.tgz       58%[==========>         ]   2.55G  17.4MB/s    eta 1m 42s "
     ]
    },
    {
     "name": "stdout",
     "output_type": "stream",
     "text": [
      "\r",
      "pascal-voc.tgz       59%[==========>         ]   2.55G  17.3MB/s    eta 1m 42s "
     ]
    },
    {
     "name": "stdout",
     "output_type": "stream",
     "text": [
      "\r",
      "pascal-voc.tgz       59%[==========>         ]   2.55G  17.0MB/s    eta 1m 41s "
     ]
    },
    {
     "name": "stdout",
     "output_type": "stream",
     "text": [
      "\r",
      "pascal-voc.tgz       59%[==========>         ]   2.55G  16.5MB/s    eta 1m 41s "
     ]
    },
    {
     "name": "stdout",
     "output_type": "stream",
     "text": [
      "\r",
      "pascal-voc.tgz       59%[==========>         ]   2.56G  15.9MB/s    eta 1m 41s "
     ]
    },
    {
     "name": "stdout",
     "output_type": "stream",
     "text": [
      "\r",
      "pascal-voc.tgz       59%[==========>         ]   2.56G  15.3MB/s    eta 1m 41s "
     ]
    },
    {
     "name": "stdout",
     "output_type": "stream",
     "text": [
      "\r",
      "pascal-voc.tgz       59%[==========>         ]   2.56G  15.2MB/s    eta 1m 41s "
     ]
    },
    {
     "name": "stdout",
     "output_type": "stream",
     "text": [
      "\r",
      "pascal-voc.tgz       59%[==========>         ]   2.56G  14.7MB/s    eta 1m 41s "
     ]
    },
    {
     "name": "stdout",
     "output_type": "stream",
     "text": [
      "\r",
      "pascal-voc.tgz       59%[==========>         ]   2.56G  13.8MB/s    eta 1m 41s "
     ]
    },
    {
     "name": "stdout",
     "output_type": "stream",
     "text": [
      "\r",
      "pascal-voc.tgz       59%[==========>         ]   2.57G  13.5MB/s    eta 1m 41s "
     ]
    },
    {
     "name": "stdout",
     "output_type": "stream",
     "text": [
      "\r",
      "pascal-voc.tgz       59%[==========>         ]   2.57G  12.8MB/s    eta 1m 41s "
     ]
    },
    {
     "name": "stdout",
     "output_type": "stream",
     "text": [
      "\r",
      "pascal-voc.tgz       59%[==========>         ]   2.57G  12.3MB/s    eta 1m 41s "
     ]
    },
    {
     "name": "stdout",
     "output_type": "stream",
     "text": [
      "\r",
      "pascal-voc.tgz       59%[==========>         ]   2.57G  11.5MB/s    eta 1m 41s "
     ]
    },
    {
     "name": "stdout",
     "output_type": "stream",
     "text": [
      "\r",
      "pascal-voc.tgz       59%[==========>         ]   2.57G  11.0MB/s    eta 1m 41s "
     ]
    },
    {
     "name": "stdout",
     "output_type": "stream",
     "text": [
      "\r",
      "pascal-voc.tgz       59%[==========>         ]   2.57G  10.4MB/s    eta 1m 41s "
     ]
    },
    {
     "name": "stdout",
     "output_type": "stream",
     "text": [
      "\r",
      "pascal-voc.tgz       59%[==========>         ]   2.58G  9.58MB/s    eta 1m 41s "
     ]
    },
    {
     "name": "stdout",
     "output_type": "stream",
     "text": [
      "\r",
      "pascal-voc.tgz       59%[==========>         ]   2.58G  8.90MB/s    eta 1m 41s "
     ]
    },
    {
     "name": "stdout",
     "output_type": "stream",
     "text": [
      "\r",
      "pascal-voc.tgz       59%[==========>         ]   2.58G  8.47MB/s    eta 1m 41s "
     ]
    },
    {
     "name": "stdout",
     "output_type": "stream",
     "text": [
      "\r",
      "pascal-voc.tgz       59%[==========>         ]   2.58G  7.81MB/s    eta 1m 41s "
     ]
    },
    {
     "name": "stdout",
     "output_type": "stream",
     "text": [
      "\r",
      "pascal-voc.tgz       59%[==========>         ]   2.58G  7.91MB/s    eta 1m 41s "
     ]
    },
    {
     "name": "stdout",
     "output_type": "stream",
     "text": [
      "\r",
      "pascal-voc.tgz       59%[==========>         ]   2.58G  7.82MB/s    eta 1m 41s "
     ]
    },
    {
     "name": "stdout",
     "output_type": "stream",
     "text": [
      "\r",
      "pascal-voc.tgz       59%[==========>         ]   2.58G  7.78MB/s    eta 1m 41s "
     ]
    },
    {
     "name": "stdout",
     "output_type": "stream",
     "text": [
      "\r",
      "pascal-voc.tgz       59%[==========>         ]   2.59G  7.81MB/s    eta 1m 41s "
     ]
    },
    {
     "name": "stdout",
     "output_type": "stream",
     "text": [
      "\r",
      "pascal-voc.tgz       59%[==========>         ]   2.59G  7.70MB/s    eta 1m 41s "
     ]
    },
    {
     "name": "stdout",
     "output_type": "stream",
     "text": [
      "\r",
      "pascal-voc.tgz       59%[==========>         ]   2.59G  7.80MB/s    eta 1m 41s "
     ]
    },
    {
     "name": "stdout",
     "output_type": "stream",
     "text": [
      "\r",
      "pascal-voc.tgz       59%[==========>         ]   2.59G  7.64MB/s    eta 1m 41s "
     ]
    },
    {
     "name": "stdout",
     "output_type": "stream",
     "text": [
      "\r",
      "pascal-voc.tgz       60%[===========>        ]   2.59G  7.63MB/s    eta 1m 41s "
     ]
    },
    {
     "name": "stdout",
     "output_type": "stream",
     "text": [
      "\r",
      "pascal-voc.tgz       60%[===========>        ]   2.59G  7.55MB/s    eta 1m 41s "
     ]
    },
    {
     "name": "stdout",
     "output_type": "stream",
     "text": [
      "\r",
      "pascal-voc.tgz       60%[===========>        ]   2.60G  7.42MB/s    eta 1m 41s "
     ]
    },
    {
     "name": "stdout",
     "output_type": "stream",
     "text": [
      "\r",
      "pascal-voc.tgz       60%[===========>        ]   2.60G  7.40MB/s    eta 1m 41s "
     ]
    },
    {
     "name": "stdout",
     "output_type": "stream",
     "text": [
      "\r",
      "pascal-voc.tgz       60%[===========>        ]   2.60G  7.26MB/s    eta 1m 41s "
     ]
    },
    {
     "name": "stdout",
     "output_type": "stream",
     "text": [
      "\r",
      "pascal-voc.tgz       60%[===========>        ]   2.60G  7.21MB/s    eta 1m 41s "
     ]
    },
    {
     "name": "stdout",
     "output_type": "stream",
     "text": [
      "\r",
      "pascal-voc.tgz       60%[===========>        ]   2.60G  7.13MB/s    eta 1m 41s "
     ]
    },
    {
     "name": "stdout",
     "output_type": "stream",
     "text": [
      "\r",
      "pascal-voc.tgz       60%[===========>        ]   2.60G  7.07MB/s    eta 1m 41s "
     ]
    },
    {
     "name": "stdout",
     "output_type": "stream",
     "text": [
      "\r",
      "pascal-voc.tgz       60%[===========>        ]   2.60G  6.99MB/s    eta 1m 41s "
     ]
    },
    {
     "name": "stdout",
     "output_type": "stream",
     "text": [
      "\r",
      "pascal-voc.tgz       60%[===========>        ]   2.60G  6.79MB/s    eta 1m 41s "
     ]
    },
    {
     "name": "stdout",
     "output_type": "stream",
     "text": [
      "\r",
      "pascal-voc.tgz       60%[===========>        ]   2.61G  6.80MB/s    eta 1m 41s "
     ]
    },
    {
     "name": "stdout",
     "output_type": "stream",
     "text": [
      "\r",
      "pascal-voc.tgz       60%[===========>        ]   2.61G  6.62MB/s    eta 1m 41s "
     ]
    },
    {
     "name": "stdout",
     "output_type": "stream",
     "text": [
      "\r",
      "pascal-voc.tgz       60%[===========>        ]   2.61G  6.58MB/s    eta 1m 41s "
     ]
    },
    {
     "name": "stdout",
     "output_type": "stream",
     "text": [
      "\r",
      "pascal-voc.tgz       60%[===========>        ]   2.61G  6.59MB/s    eta 1m 41s "
     ]
    },
    {
     "name": "stdout",
     "output_type": "stream",
     "text": [
      "\r",
      "pascal-voc.tgz       60%[===========>        ]   2.61G  6.61MB/s    eta 1m 41s "
     ]
    },
    {
     "name": "stdout",
     "output_type": "stream",
     "text": [
      "\r",
      "pascal-voc.tgz       60%[===========>        ]   2.61G  6.69MB/s    eta 1m 41s "
     ]
    },
    {
     "name": "stdout",
     "output_type": "stream",
     "text": [
      "\r",
      "pascal-voc.tgz       60%[===========>        ]   2.62G  6.81MB/s    eta 1m 41s "
     ]
    },
    {
     "name": "stdout",
     "output_type": "stream",
     "text": [
      "\r",
      "pascal-voc.tgz       60%[===========>        ]   2.62G  6.77MB/s    eta 1m 41s "
     ]
    },
    {
     "name": "stdout",
     "output_type": "stream",
     "text": [
      "\r",
      "pascal-voc.tgz       60%[===========>        ]   2.62G  6.83MB/s    eta 1m 41s "
     ]
    },
    {
     "name": "stdout",
     "output_type": "stream",
     "text": [
      "\r",
      "pascal-voc.tgz       60%[===========>        ]   2.62G  6.89MB/s    eta 1m 41s "
     ]
    },
    {
     "name": "stdout",
     "output_type": "stream",
     "text": [
      "\r",
      "pascal-voc.tgz       60%[===========>        ]   2.62G  6.92MB/s    eta 1m 41s "
     ]
    },
    {
     "name": "stdout",
     "output_type": "stream",
     "text": [
      "\r",
      "pascal-voc.tgz       60%[===========>        ]   2.62G  6.92MB/s    eta 1m 41s "
     ]
    },
    {
     "name": "stdout",
     "output_type": "stream",
     "text": [
      "\r",
      "pascal-voc.tgz       60%[===========>        ]   2.62G  6.85MB/s    eta 1m 41s "
     ]
    },
    {
     "name": "stdout",
     "output_type": "stream",
     "text": [
      "\r",
      "pascal-voc.tgz       60%[===========>        ]   2.62G  6.93MB/s    eta 1m 41s "
     ]
    },
    {
     "name": "stdout",
     "output_type": "stream",
     "text": [
      "\r",
      "pascal-voc.tgz       60%[===========>        ]   2.63G  6.99MB/s    eta 1m 41s "
     ]
    },
    {
     "name": "stdout",
     "output_type": "stream",
     "text": [
      "\r",
      "pascal-voc.tgz       60%[===========>        ]   2.63G  7.00MB/s    eta 1m 41s "
     ]
    },
    {
     "name": "stdout",
     "output_type": "stream",
     "text": [
      "\r",
      "pascal-voc.tgz       60%[===========>        ]   2.63G  6.90MB/s    eta 1m 41s "
     ]
    },
    {
     "name": "stdout",
     "output_type": "stream",
     "text": [
      "\r",
      "pascal-voc.tgz       60%[===========>        ]   2.63G  6.96MB/s    eta 1m 41s "
     ]
    },
    {
     "name": "stdout",
     "output_type": "stream",
     "text": [
      "\r",
      "pascal-voc.tgz       60%[===========>        ]   2.63G  7.00MB/s    eta 1m 41s "
     ]
    },
    {
     "name": "stdout",
     "output_type": "stream",
     "text": [
      "\r",
      "pascal-voc.tgz       60%[===========>        ]   2.63G  7.04MB/s    eta 1m 41s "
     ]
    },
    {
     "name": "stdout",
     "output_type": "stream",
     "text": [
      "\r",
      "pascal-voc.tgz       60%[===========>        ]   2.63G  7.05MB/s    eta 1m 41s "
     ]
    },
    {
     "name": "stdout",
     "output_type": "stream",
     "text": [
      "\r",
      "pascal-voc.tgz       61%[===========>        ]   2.64G  6.98MB/s    eta 1m 41s "
     ]
    },
    {
     "name": "stdout",
     "output_type": "stream",
     "text": [
      "\r",
      "pascal-voc.tgz       61%[===========>        ]   2.64G  7.01MB/s    eta 1m 41s "
     ]
    },
    {
     "name": "stdout",
     "output_type": "stream",
     "text": [
      "\r",
      "pascal-voc.tgz       61%[===========>        ]   2.64G  7.04MB/s    eta 1m 41s "
     ]
    },
    {
     "name": "stdout",
     "output_type": "stream",
     "text": [
      "\r",
      "pascal-voc.tgz       61%[===========>        ]   2.64G  7.04MB/s    eta 1m 41s "
     ]
    },
    {
     "name": "stdout",
     "output_type": "stream",
     "text": [
      "\r",
      "pascal-voc.tgz       61%[===========>        ]   2.64G  7.04MB/s    eta 1m 41s "
     ]
    },
    {
     "name": "stdout",
     "output_type": "stream",
     "text": [
      "\r",
      "pascal-voc.tgz       61%[===========>        ]   2.64G  7.06MB/s    eta 1m 41s "
     ]
    },
    {
     "name": "stdout",
     "output_type": "stream",
     "text": [
      "\r",
      "pascal-voc.tgz       61%[===========>        ]   2.65G  7.02MB/s    eta 1m 41s "
     ]
    },
    {
     "name": "stdout",
     "output_type": "stream",
     "text": [
      "\r",
      "pascal-voc.tgz       61%[===========>        ]   2.65G  7.08MB/s    eta 1m 41s "
     ]
    },
    {
     "name": "stdout",
     "output_type": "stream",
     "text": [
      "\r",
      "pascal-voc.tgz       61%[===========>        ]   2.65G  7.11MB/s    eta 1m 41s "
     ]
    },
    {
     "name": "stdout",
     "output_type": "stream",
     "text": [
      "\r",
      "pascal-voc.tgz       61%[===========>        ]   2.65G  7.14MB/s    eta 1m 41s "
     ]
    },
    {
     "name": "stdout",
     "output_type": "stream",
     "text": [
      "\r",
      "pascal-voc.tgz       61%[===========>        ]   2.65G  7.16MB/s    eta 1m 41s "
     ]
    },
    {
     "name": "stdout",
     "output_type": "stream",
     "text": [
      "\r",
      "pascal-voc.tgz       61%[===========>        ]   2.65G  7.13MB/s    eta 1m 41s "
     ]
    },
    {
     "name": "stdout",
     "output_type": "stream",
     "text": [
      "\r",
      "pascal-voc.tgz       61%[===========>        ]   2.65G  7.21MB/s    eta 1m 41s "
     ]
    },
    {
     "name": "stdout",
     "output_type": "stream",
     "text": [
      "\r",
      "pascal-voc.tgz       61%[===========>        ]   2.66G  7.27MB/s    eta 1m 41s "
     ]
    },
    {
     "name": "stdout",
     "output_type": "stream",
     "text": [
      "\r",
      "pascal-voc.tgz       61%[===========>        ]   2.66G  7.25MB/s    eta 1m 41s "
     ]
    },
    {
     "name": "stdout",
     "output_type": "stream",
     "text": [
      "\r",
      "pascal-voc.tgz       61%[===========>        ]   2.66G  7.36MB/s    eta 1m 41s "
     ]
    },
    {
     "name": "stdout",
     "output_type": "stream",
     "text": [
      "\r",
      "pascal-voc.tgz       61%[===========>        ]   2.66G  7.36MB/s    eta 1m 41s "
     ]
    },
    {
     "name": "stdout",
     "output_type": "stream",
     "text": [
      "\r",
      "pascal-voc.tgz       61%[===========>        ]   2.66G  7.42MB/s    eta 1m 41s "
     ]
    },
    {
     "name": "stdout",
     "output_type": "stream",
     "text": [
      "\r",
      "pascal-voc.tgz       61%[===========>        ]   2.66G  7.53MB/s    eta 1m 41s "
     ]
    },
    {
     "name": "stdout",
     "output_type": "stream",
     "text": [
      "\r",
      "pascal-voc.tgz       61%[===========>        ]   2.67G  7.54MB/s    eta 1m 41s "
     ]
    },
    {
     "name": "stdout",
     "output_type": "stream",
     "text": [
      "\r",
      "pascal-voc.tgz       61%[===========>        ]   2.67G  7.64MB/s    eta 1m 40s "
     ]
    },
    {
     "name": "stdout",
     "output_type": "stream",
     "text": [
      "\r",
      "pascal-voc.tgz       61%[===========>        ]   2.67G  7.73MB/s    eta 1m 40s "
     ]
    },
    {
     "name": "stdout",
     "output_type": "stream",
     "text": [
      "\r",
      "pascal-voc.tgz       61%[===========>        ]   2.67G  7.82MB/s    eta 1m 40s "
     ]
    },
    {
     "name": "stdout",
     "output_type": "stream",
     "text": [
      "\r",
      "pascal-voc.tgz       61%[===========>        ]   2.67G  7.96MB/s    eta 1m 40s "
     ]
    },
    {
     "name": "stdout",
     "output_type": "stream",
     "text": [
      "\r",
      "pascal-voc.tgz       61%[===========>        ]   2.67G  8.04MB/s    eta 1m 40s "
     ]
    },
    {
     "name": "stdout",
     "output_type": "stream",
     "text": [
      "\r",
      "pascal-voc.tgz       61%[===========>        ]   2.68G  8.19MB/s    eta 1m 40s "
     ]
    },
    {
     "name": "stdout",
     "output_type": "stream",
     "text": [
      "\r",
      "pascal-voc.tgz       61%[===========>        ]   2.68G  8.27MB/s    eta 1m 40s "
     ]
    },
    {
     "name": "stdout",
     "output_type": "stream",
     "text": [
      "\r",
      "pascal-voc.tgz       62%[===========>        ]   2.68G  8.42MB/s    eta 1m 40s "
     ]
    },
    {
     "name": "stdout",
     "output_type": "stream",
     "text": [
      "\r",
      "pascal-voc.tgz       62%[===========>        ]   2.68G  8.65MB/s    eta 1m 40s "
     ]
    },
    {
     "name": "stdout",
     "output_type": "stream",
     "text": [
      "\r",
      "pascal-voc.tgz       62%[===========>        ]   2.68G  8.79MB/s    eta 1m 40s "
     ]
    },
    {
     "name": "stdout",
     "output_type": "stream",
     "text": [
      "\r",
      "pascal-voc.tgz       62%[===========>        ]   2.69G  8.93MB/s    eta 1m 40s "
     ]
    },
    {
     "name": "stdout",
     "output_type": "stream",
     "text": [
      "\r",
      "pascal-voc.tgz       62%[===========>        ]   2.69G  9.13MB/s    eta 1m 40s "
     ]
    },
    {
     "name": "stdout",
     "output_type": "stream",
     "text": [
      "\r",
      "pascal-voc.tgz       62%[===========>        ]   2.69G  9.34MB/s    eta 1m 40s "
     ]
    },
    {
     "name": "stdout",
     "output_type": "stream",
     "text": [
      "\r",
      "pascal-voc.tgz       62%[===========>        ]   2.69G  9.56MB/s    eta 1m 40s "
     ]
    },
    {
     "name": "stdout",
     "output_type": "stream",
     "text": [
      "\r",
      "pascal-voc.tgz       62%[===========>        ]   2.70G  9.78MB/s    eta 1m 40s "
     ]
    },
    {
     "name": "stdout",
     "output_type": "stream",
     "text": [
      "\r",
      "pascal-voc.tgz       62%[===========>        ]   2.70G  10.0MB/s    eta 99s    "
     ]
    },
    {
     "name": "stdout",
     "output_type": "stream",
     "text": [
      "\r",
      "pascal-voc.tgz       62%[===========>        ]   2.70G  10.2MB/s    eta 99s    "
     ]
    },
    {
     "name": "stdout",
     "output_type": "stream",
     "text": [
      "\r",
      "pascal-voc.tgz       62%[===========>        ]   2.70G  10.4MB/s    eta 99s    "
     ]
    },
    {
     "name": "stdout",
     "output_type": "stream",
     "text": [
      "\r",
      "pascal-voc.tgz       62%[===========>        ]   2.71G  10.9MB/s    eta 99s    "
     ]
    },
    {
     "name": "stdout",
     "output_type": "stream",
     "text": [
      "\r",
      "pascal-voc.tgz       62%[===========>        ]   2.71G  11.1MB/s    eta 99s    "
     ]
    },
    {
     "name": "stdout",
     "output_type": "stream",
     "text": [
      "\r",
      "pascal-voc.tgz       62%[===========>        ]   2.71G  11.4MB/s    eta 99s    "
     ]
    },
    {
     "name": "stdout",
     "output_type": "stream",
     "text": [
      "\r",
      "pascal-voc.tgz       62%[===========>        ]   2.71G  11.7MB/s    eta 99s    "
     ]
    },
    {
     "name": "stdout",
     "output_type": "stream",
     "text": [
      "\r",
      "pascal-voc.tgz       62%[===========>        ]   2.72G  12.1MB/s    eta 99s    "
     ]
    },
    {
     "name": "stdout",
     "output_type": "stream",
     "text": [
      "\r",
      "pascal-voc.tgz       62%[===========>        ]   2.72G  12.4MB/s    eta 99s    "
     ]
    },
    {
     "name": "stdout",
     "output_type": "stream",
     "text": [
      "\r",
      "pascal-voc.tgz       63%[===========>        ]   2.72G  12.9MB/s    eta 99s    "
     ]
    },
    {
     "name": "stdout",
     "output_type": "stream",
     "text": [
      "\r",
      "pascal-voc.tgz       63%[===========>        ]   2.73G  13.3MB/s    eta 98s    "
     ]
    },
    {
     "name": "stdout",
     "output_type": "stream",
     "text": [
      "\r",
      "pascal-voc.tgz       63%[===========>        ]   2.73G  13.5MB/s    eta 98s    "
     ]
    },
    {
     "name": "stdout",
     "output_type": "stream",
     "text": [
      "\r",
      "pascal-voc.tgz       63%[===========>        ]   2.73G  14.1MB/s    eta 98s    "
     ]
    },
    {
     "name": "stdout",
     "output_type": "stream",
     "text": [
      "\r",
      "pascal-voc.tgz       63%[===========>        ]   2.74G  14.5MB/s    eta 98s    "
     ]
    },
    {
     "name": "stdout",
     "output_type": "stream",
     "text": [
      "\r",
      "pascal-voc.tgz       63%[===========>        ]   2.74G  14.9MB/s    eta 98s    "
     ]
    },
    {
     "name": "stdout",
     "output_type": "stream",
     "text": [
      "\r",
      "pascal-voc.tgz       63%[===========>        ]   2.74G  15.5MB/s    eta 97s    "
     ]
    },
    {
     "name": "stdout",
     "output_type": "stream",
     "text": [
      "\r",
      "pascal-voc.tgz       63%[===========>        ]   2.75G  15.9MB/s    eta 97s    "
     ]
    },
    {
     "name": "stdout",
     "output_type": "stream",
     "text": [
      "\r",
      "pascal-voc.tgz       63%[===========>        ]   2.75G  16.4MB/s    eta 97s    "
     ]
    },
    {
     "name": "stdout",
     "output_type": "stream",
     "text": [
      "\r",
      "pascal-voc.tgz       63%[===========>        ]   2.76G  16.9MB/s    eta 97s    "
     ]
    },
    {
     "name": "stdout",
     "output_type": "stream",
     "text": [
      "\r",
      "pascal-voc.tgz       63%[===========>        ]   2.76G  17.5MB/s    eta 97s    "
     ]
    },
    {
     "name": "stdout",
     "output_type": "stream",
     "text": [
      "\r",
      "pascal-voc.tgz       63%[===========>        ]   2.76G  17.7MB/s    eta 95s    "
     ]
    },
    {
     "name": "stdout",
     "output_type": "stream",
     "text": [
      "\r",
      "pascal-voc.tgz       64%[===========>        ]   2.77G  18.1MB/s    eta 95s    "
     ]
    },
    {
     "name": "stdout",
     "output_type": "stream",
     "text": [
      "\r",
      "pascal-voc.tgz       64%[===========>        ]   2.77G  18.7MB/s    eta 95s    "
     ]
    },
    {
     "name": "stdout",
     "output_type": "stream",
     "text": [
      "\r",
      "pascal-voc.tgz       64%[===========>        ]   2.78G  19.1MB/s    eta 95s    "
     ]
    },
    {
     "name": "stdout",
     "output_type": "stream",
     "text": [
      "\r",
      "pascal-voc.tgz       64%[===========>        ]   2.78G  19.4MB/s    eta 95s    "
     ]
    },
    {
     "name": "stdout",
     "output_type": "stream",
     "text": [
      "\r",
      "pascal-voc.tgz       64%[===========>        ]   2.79G  19.6MB/s    eta 94s    "
     ]
    },
    {
     "name": "stdout",
     "output_type": "stream",
     "text": [
      "\r",
      "pascal-voc.tgz       64%[===========>        ]   2.79G  19.7MB/s    eta 94s    "
     ]
    },
    {
     "name": "stdout",
     "output_type": "stream",
     "text": [
      "\r",
      "pascal-voc.tgz       64%[===========>        ]   2.79G  20.0MB/s    eta 94s    "
     ]
    },
    {
     "name": "stdout",
     "output_type": "stream",
     "text": [
      "\r",
      "pascal-voc.tgz       64%[===========>        ]   2.80G  20.4MB/s    eta 94s    "
     ]
    },
    {
     "name": "stdout",
     "output_type": "stream",
     "text": [
      "\r",
      "pascal-voc.tgz       64%[===========>        ]   2.80G  20.6MB/s    eta 94s    "
     ]
    },
    {
     "name": "stdout",
     "output_type": "stream",
     "text": [
      "\r",
      "pascal-voc.tgz       64%[===========>        ]   2.81G  20.6MB/s    eta 92s    "
     ]
    },
    {
     "name": "stdout",
     "output_type": "stream",
     "text": [
      "\r",
      "pascal-voc.tgz       65%[============>       ]   2.81G  20.6MB/s    eta 92s    "
     ]
    },
    {
     "name": "stdout",
     "output_type": "stream",
     "text": [
      "\r",
      "pascal-voc.tgz       65%[============>       ]   2.81G  20.5MB/s    eta 92s    "
     ]
    },
    {
     "name": "stdout",
     "output_type": "stream",
     "text": [
      "\r",
      "pascal-voc.tgz       65%[============>       ]   2.82G  20.7MB/s    eta 92s    "
     ]
    },
    {
     "name": "stdout",
     "output_type": "stream",
     "text": [
      "\r",
      "pascal-voc.tgz       65%[============>       ]   2.82G  20.8MB/s    eta 92s    "
     ]
    },
    {
     "name": "stdout",
     "output_type": "stream",
     "text": [
      "\r",
      "pascal-voc.tgz       65%[============>       ]   2.83G  20.7MB/s    eta 91s    "
     ]
    },
    {
     "name": "stdout",
     "output_type": "stream",
     "text": [
      "\r",
      "pascal-voc.tgz       65%[============>       ]   2.83G  20.2MB/s    eta 91s    "
     ]
    },
    {
     "name": "stdout",
     "output_type": "stream",
     "text": [
      "\r",
      "pascal-voc.tgz       65%[============>       ]   2.83G  19.8MB/s    eta 91s    "
     ]
    },
    {
     "name": "stdout",
     "output_type": "stream",
     "text": [
      "\r",
      "pascal-voc.tgz       65%[============>       ]   2.83G  19.5MB/s    eta 91s    "
     ]
    },
    {
     "name": "stdout",
     "output_type": "stream",
     "text": [
      "\r",
      "pascal-voc.tgz       65%[============>       ]   2.84G  19.1MB/s    eta 91s    "
     ]
    },
    {
     "name": "stdout",
     "output_type": "stream",
     "text": [
      "\r",
      "pascal-voc.tgz       65%[============>       ]   2.84G  18.8MB/s    eta 90s    "
     ]
    },
    {
     "name": "stdout",
     "output_type": "stream",
     "text": [
      "\r",
      "pascal-voc.tgz       65%[============>       ]   2.84G  18.6MB/s    eta 90s    "
     ]
    },
    {
     "name": "stdout",
     "output_type": "stream",
     "text": [
      "\r",
      "pascal-voc.tgz       65%[============>       ]   2.85G  18.4MB/s    eta 90s    "
     ]
    },
    {
     "name": "stdout",
     "output_type": "stream",
     "text": [
      "\r",
      "pascal-voc.tgz       66%[============>       ]   2.85G  18.3MB/s    eta 90s    "
     ]
    },
    {
     "name": "stdout",
     "output_type": "stream",
     "text": [
      "\r",
      "pascal-voc.tgz       66%[============>       ]   2.86G  18.1MB/s    eta 90s    "
     ]
    },
    {
     "name": "stdout",
     "output_type": "stream",
     "text": [
      "\r",
      "pascal-voc.tgz       66%[============>       ]   2.86G  17.8MB/s    eta 89s    "
     ]
    },
    {
     "name": "stdout",
     "output_type": "stream",
     "text": [
      "\r",
      "pascal-voc.tgz       66%[============>       ]   2.86G  17.7MB/s    eta 89s    "
     ]
    },
    {
     "name": "stdout",
     "output_type": "stream",
     "text": [
      "\r",
      "pascal-voc.tgz       66%[============>       ]   2.87G  17.6MB/s    eta 89s    "
     ]
    },
    {
     "name": "stdout",
     "output_type": "stream",
     "text": [
      "\r",
      "pascal-voc.tgz       66%[============>       ]   2.87G  17.6MB/s    eta 89s    "
     ]
    },
    {
     "name": "stdout",
     "output_type": "stream",
     "text": [
      "\r",
      "pascal-voc.tgz       66%[============>       ]   2.88G  17.5MB/s    eta 89s    "
     ]
    },
    {
     "name": "stdout",
     "output_type": "stream",
     "text": [
      "\r",
      "pascal-voc.tgz       66%[============>       ]   2.88G  17.4MB/s    eta 88s    "
     ]
    },
    {
     "name": "stdout",
     "output_type": "stream",
     "text": [
      "\r",
      "pascal-voc.tgz       66%[============>       ]   2.88G  17.4MB/s    eta 88s    "
     ]
    },
    {
     "name": "stdout",
     "output_type": "stream",
     "text": [
      "\r",
      "pascal-voc.tgz       66%[============>       ]   2.89G  17.1MB/s    eta 88s    "
     ]
    },
    {
     "name": "stdout",
     "output_type": "stream",
     "text": [
      "\r",
      "pascal-voc.tgz       66%[============>       ]   2.89G  17.7MB/s    eta 88s    "
     ]
    },
    {
     "name": "stdout",
     "output_type": "stream",
     "text": [
      "\r",
      "pascal-voc.tgz       67%[============>       ]   2.90G  18.1MB/s    eta 88s    "
     ]
    },
    {
     "name": "stdout",
     "output_type": "stream",
     "text": [
      "\r",
      "pascal-voc.tgz       67%[============>       ]   2.90G  18.3MB/s    eta 86s    "
     ]
    },
    {
     "name": "stdout",
     "output_type": "stream",
     "text": [
      "\r",
      "pascal-voc.tgz       67%[============>       ]   2.91G  18.7MB/s    eta 86s    "
     ]
    },
    {
     "name": "stdout",
     "output_type": "stream",
     "text": [
      "\r",
      "pascal-voc.tgz       67%[============>       ]   2.91G  18.7MB/s    eta 86s    "
     ]
    },
    {
     "name": "stdout",
     "output_type": "stream",
     "text": [
      "\r",
      "pascal-voc.tgz       67%[============>       ]   2.91G  19.0MB/s    eta 86s    "
     ]
    },
    {
     "name": "stdout",
     "output_type": "stream",
     "text": [
      "\r",
      "pascal-voc.tgz       67%[============>       ]   2.92G  19.4MB/s    eta 86s    "
     ]
    },
    {
     "name": "stdout",
     "output_type": "stream",
     "text": [
      "\r",
      "pascal-voc.tgz       67%[============>       ]   2.92G  19.4MB/s    eta 85s    "
     ]
    },
    {
     "name": "stdout",
     "output_type": "stream",
     "text": [
      "\r",
      "pascal-voc.tgz       67%[============>       ]   2.93G  19.7MB/s    eta 85s    "
     ]
    },
    {
     "name": "stdout",
     "output_type": "stream",
     "text": [
      "\r",
      "pascal-voc.tgz       67%[============>       ]   2.93G  19.6MB/s    eta 85s    "
     ]
    },
    {
     "name": "stdout",
     "output_type": "stream",
     "text": [
      "\r",
      "pascal-voc.tgz       67%[============>       ]   2.94G  20.0MB/s    eta 85s    "
     ]
    },
    {
     "name": "stdout",
     "output_type": "stream",
     "text": [
      "\r",
      "pascal-voc.tgz       68%[============>       ]   2.94G  19.9MB/s    eta 85s    "
     ]
    },
    {
     "name": "stdout",
     "output_type": "stream",
     "text": [
      "\r",
      "pascal-voc.tgz       68%[============>       ]   2.95G  20.3MB/s    eta 83s    "
     ]
    },
    {
     "name": "stdout",
     "output_type": "stream",
     "text": [
      "\r",
      "pascal-voc.tgz       68%[============>       ]   2.95G  20.4MB/s    eta 83s    "
     ]
    },
    {
     "name": "stdout",
     "output_type": "stream",
     "text": [
      "\r",
      "pascal-voc.tgz       68%[============>       ]   2.95G  20.3MB/s    eta 83s    "
     ]
    },
    {
     "name": "stdout",
     "output_type": "stream",
     "text": [
      "\r",
      "pascal-voc.tgz       68%[============>       ]   2.96G  20.5MB/s    eta 83s    "
     ]
    },
    {
     "name": "stdout",
     "output_type": "stream",
     "text": [
      "\r",
      "pascal-voc.tgz       68%[============>       ]   2.96G  20.6MB/s    eta 83s    "
     ]
    },
    {
     "name": "stdout",
     "output_type": "stream",
     "text": [
      "\r",
      "pascal-voc.tgz       68%[============>       ]   2.97G  20.6MB/s    eta 82s    "
     ]
    },
    {
     "name": "stdout",
     "output_type": "stream",
     "text": [
      "\r",
      "pascal-voc.tgz       68%[============>       ]   2.97G  20.6MB/s    eta 82s    "
     ]
    },
    {
     "name": "stdout",
     "output_type": "stream",
     "text": [
      "\r",
      "pascal-voc.tgz       68%[============>       ]   2.98G  20.4MB/s    eta 82s    "
     ]
    },
    {
     "name": "stdout",
     "output_type": "stream",
     "text": [
      "\r",
      "pascal-voc.tgz       68%[============>       ]   2.98G  20.7MB/s    eta 82s    "
     ]
    },
    {
     "name": "stdout",
     "output_type": "stream",
     "text": [
      "\r",
      "pascal-voc.tgz       69%[============>       ]   2.98G  20.7MB/s    eta 82s    "
     ]
    },
    {
     "name": "stdout",
     "output_type": "stream",
     "text": [
      "\r",
      "pascal-voc.tgz       69%[============>       ]   2.99G  20.5MB/s    eta 81s    "
     ]
    },
    {
     "name": "stdout",
     "output_type": "stream",
     "text": [
      "\r",
      "pascal-voc.tgz       69%[============>       ]   2.99G  20.7MB/s    eta 81s    "
     ]
    },
    {
     "name": "stdout",
     "output_type": "stream",
     "text": [
      "\r",
      "pascal-voc.tgz       69%[============>       ]   3.00G  20.7MB/s    eta 81s    "
     ]
    },
    {
     "name": "stdout",
     "output_type": "stream",
     "text": [
      "\r",
      "pascal-voc.tgz       69%[============>       ]   3.00G  20.5MB/s    eta 81s    "
     ]
    },
    {
     "name": "stdout",
     "output_type": "stream",
     "text": [
      "\r",
      "pascal-voc.tgz       69%[============>       ]   3.01G  20.7MB/s    eta 81s    "
     ]
    },
    {
     "name": "stdout",
     "output_type": "stream",
     "text": [
      "\r",
      "pascal-voc.tgz       69%[============>       ]   3.01G  20.7MB/s    eta 79s    "
     ]
    },
    {
     "name": "stdout",
     "output_type": "stream",
     "text": [
      "\r",
      "pascal-voc.tgz       69%[============>       ]   3.02G  20.5MB/s    eta 79s    "
     ]
    },
    {
     "name": "stdout",
     "output_type": "stream",
     "text": [
      "\r",
      "pascal-voc.tgz       69%[============>       ]   3.02G  20.7MB/s    eta 79s    "
     ]
    },
    {
     "name": "stdout",
     "output_type": "stream",
     "text": [
      "\r",
      "pascal-voc.tgz       69%[============>       ]   3.02G  20.7MB/s    eta 79s    "
     ]
    },
    {
     "name": "stdout",
     "output_type": "stream",
     "text": [
      "\r",
      "pascal-voc.tgz       70%[=============>      ]   3.03G  20.5MB/s    eta 79s    "
     ]
    },
    {
     "name": "stdout",
     "output_type": "stream",
     "text": [
      "\r",
      "pascal-voc.tgz       70%[=============>      ]   3.03G  20.5MB/s    eta 78s    "
     ]
    },
    {
     "name": "stdout",
     "output_type": "stream",
     "text": [
      "\r",
      "pascal-voc.tgz       70%[=============>      ]   3.04G  20.7MB/s    eta 78s    "
     ]
    },
    {
     "name": "stdout",
     "output_type": "stream",
     "text": [
      "\r",
      "pascal-voc.tgz       70%[=============>      ]   3.04G  20.6MB/s    eta 78s    "
     ]
    },
    {
     "name": "stdout",
     "output_type": "stream",
     "text": [
      "\r",
      "pascal-voc.tgz       70%[=============>      ]   3.05G  20.4MB/s    eta 78s    "
     ]
    },
    {
     "name": "stdout",
     "output_type": "stream",
     "text": [
      "\r",
      "pascal-voc.tgz       70%[=============>      ]   3.05G  20.7MB/s    eta 78s    "
     ]
    },
    {
     "name": "stdout",
     "output_type": "stream",
     "text": [
      "\r",
      "pascal-voc.tgz       70%[=============>      ]   3.05G  20.7MB/s    eta 76s    "
     ]
    },
    {
     "name": "stdout",
     "output_type": "stream",
     "text": [
      "\r",
      "pascal-voc.tgz       70%[=============>      ]   3.06G  20.6MB/s    eta 76s    "
     ]
    },
    {
     "name": "stdout",
     "output_type": "stream",
     "text": [
      "\r",
      "pascal-voc.tgz       70%[=============>      ]   3.06G  20.0MB/s    eta 76s    "
     ]
    },
    {
     "name": "stdout",
     "output_type": "stream",
     "text": [
      "\r",
      "pascal-voc.tgz       71%[=============>      ]   3.07G  20.5MB/s    eta 76s    "
     ]
    },
    {
     "name": "stdout",
     "output_type": "stream",
     "text": [
      "\r",
      "pascal-voc.tgz       71%[=============>      ]   3.07G  20.5MB/s    eta 76s    "
     ]
    },
    {
     "name": "stdout",
     "output_type": "stream",
     "text": [
      "\r",
      "pascal-voc.tgz       71%[=============>      ]   3.08G  20.3MB/s    eta 75s    "
     ]
    },
    {
     "name": "stdout",
     "output_type": "stream",
     "text": [
      "\r",
      "pascal-voc.tgz       71%[=============>      ]   3.08G  20.3MB/s    eta 75s    "
     ]
    },
    {
     "name": "stdout",
     "output_type": "stream",
     "text": [
      "\r",
      "pascal-voc.tgz       71%[=============>      ]   3.08G  20.6MB/s    eta 75s    "
     ]
    },
    {
     "name": "stdout",
     "output_type": "stream",
     "text": [
      "\r",
      "pascal-voc.tgz       71%[=============>      ]   3.09G  20.4MB/s    eta 75s    "
     ]
    },
    {
     "name": "stdout",
     "output_type": "stream",
     "text": [
      "\r",
      "pascal-voc.tgz       71%[=============>      ]   3.09G  20.4MB/s    eta 75s    "
     ]
    },
    {
     "name": "stdout",
     "output_type": "stream",
     "text": [
      "\r",
      "pascal-voc.tgz       71%[=============>      ]   3.10G  20.3MB/s    eta 73s    "
     ]
    },
    {
     "name": "stdout",
     "output_type": "stream",
     "text": [
      "\r",
      "pascal-voc.tgz       71%[=============>      ]   3.10G  20.5MB/s    eta 73s    "
     ]
    },
    {
     "name": "stdout",
     "output_type": "stream",
     "text": [
      "\r",
      "pascal-voc.tgz       71%[=============>      ]   3.11G  20.5MB/s    eta 73s    "
     ]
    },
    {
     "name": "stdout",
     "output_type": "stream",
     "text": [
      "\r",
      "pascal-voc.tgz       72%[=============>      ]   3.11G  20.4MB/s    eta 73s    "
     ]
    },
    {
     "name": "stdout",
     "output_type": "stream",
     "text": [
      "\r",
      "pascal-voc.tgz       72%[=============>      ]   3.12G  20.4MB/s    eta 73s    "
     ]
    },
    {
     "name": "stdout",
     "output_type": "stream",
     "text": [
      "\r",
      "pascal-voc.tgz       72%[=============>      ]   3.12G  20.6MB/s    eta 72s    "
     ]
    },
    {
     "name": "stdout",
     "output_type": "stream",
     "text": [
      "\r",
      "pascal-voc.tgz       72%[=============>      ]   3.12G  20.5MB/s    eta 72s    "
     ]
    },
    {
     "name": "stdout",
     "output_type": "stream",
     "text": [
      "\r",
      "pascal-voc.tgz       72%[=============>      ]   3.13G  20.5MB/s    eta 72s    "
     ]
    },
    {
     "name": "stdout",
     "output_type": "stream",
     "text": [
      "\r",
      "pascal-voc.tgz       72%[=============>      ]   3.13G  20.7MB/s    eta 72s    "
     ]
    },
    {
     "name": "stdout",
     "output_type": "stream",
     "text": [
      "\r",
      "pascal-voc.tgz       72%[=============>      ]   3.14G  20.6MB/s    eta 72s    "
     ]
    },
    {
     "name": "stdout",
     "output_type": "stream",
     "text": [
      "\r",
      "pascal-voc.tgz       72%[=============>      ]   3.14G  20.6MB/s    eta 71s    "
     ]
    },
    {
     "name": "stdout",
     "output_type": "stream",
     "text": [
      "\r",
      "pascal-voc.tgz       72%[=============>      ]   3.15G  20.8MB/s    eta 71s    "
     ]
    },
    {
     "name": "stdout",
     "output_type": "stream",
     "text": [
      "\r",
      "pascal-voc.tgz       72%[=============>      ]   3.15G  20.5MB/s    eta 71s    "
     ]
    },
    {
     "name": "stdout",
     "output_type": "stream",
     "text": [
      "\r",
      "pascal-voc.tgz       73%[=============>      ]   3.16G  20.5MB/s    eta 71s    "
     ]
    },
    {
     "name": "stdout",
     "output_type": "stream",
     "text": [
      "\r",
      "pascal-voc.tgz       73%[=============>      ]   3.16G  20.8MB/s    eta 71s    "
     ]
    },
    {
     "name": "stdout",
     "output_type": "stream",
     "text": [
      "\r",
      "pascal-voc.tgz       73%[=============>      ]   3.17G  20.5MB/s    eta 69s    "
     ]
    },
    {
     "name": "stdout",
     "output_type": "stream",
     "text": [
      "\r",
      "pascal-voc.tgz       73%[=============>      ]   3.17G  20.5MB/s    eta 69s    "
     ]
    },
    {
     "name": "stdout",
     "output_type": "stream",
     "text": [
      "\r",
      "pascal-voc.tgz       73%[=============>      ]   3.17G  20.8MB/s    eta 69s    "
     ]
    },
    {
     "name": "stdout",
     "output_type": "stream",
     "text": [
      "\r",
      "pascal-voc.tgz       73%[=============>      ]   3.18G  20.6MB/s    eta 69s    "
     ]
    },
    {
     "name": "stdout",
     "output_type": "stream",
     "text": [
      "\r",
      "pascal-voc.tgz       73%[=============>      ]   3.18G  20.8MB/s    eta 69s    "
     ]
    },
    {
     "name": "stdout",
     "output_type": "stream",
     "text": [
      "\r",
      "pascal-voc.tgz       73%[=============>      ]   3.19G  20.6MB/s    eta 68s    "
     ]
    },
    {
     "name": "stdout",
     "output_type": "stream",
     "text": [
      "\r",
      "pascal-voc.tgz       73%[=============>      ]   3.19G  20.5MB/s    eta 68s    "
     ]
    },
    {
     "name": "stdout",
     "output_type": "stream",
     "text": [
      "\r",
      "pascal-voc.tgz       73%[=============>      ]   3.20G  20.6MB/s    eta 68s    "
     ]
    },
    {
     "name": "stdout",
     "output_type": "stream",
     "text": [
      "\r",
      "pascal-voc.tgz       74%[=============>      ]   3.20G  20.6MB/s    eta 68s    "
     ]
    },
    {
     "name": "stdout",
     "output_type": "stream",
     "text": [
      "\r",
      "pascal-voc.tgz       74%[=============>      ]   3.21G  20.8MB/s    eta 68s    "
     ]
    },
    {
     "name": "stdout",
     "output_type": "stream",
     "text": [
      "\r",
      "pascal-voc.tgz       74%[=============>      ]   3.21G  20.6MB/s    eta 66s    "
     ]
    },
    {
     "name": "stdout",
     "output_type": "stream",
     "text": [
      "\r",
      "pascal-voc.tgz       74%[=============>      ]   3.21G  20.8MB/s    eta 66s    "
     ]
    },
    {
     "name": "stdout",
     "output_type": "stream",
     "text": [
      "\r",
      "pascal-voc.tgz       74%[=============>      ]   3.22G  20.6MB/s    eta 66s    "
     ]
    },
    {
     "name": "stdout",
     "output_type": "stream",
     "text": [
      "\r",
      "pascal-voc.tgz       74%[=============>      ]   3.22G  20.8MB/s    eta 66s    "
     ]
    },
    {
     "name": "stdout",
     "output_type": "stream",
     "text": [
      "\r",
      "pascal-voc.tgz       74%[=============>      ]   3.23G  20.6MB/s    eta 66s    "
     ]
    },
    {
     "name": "stdout",
     "output_type": "stream",
     "text": [
      "\r",
      "pascal-voc.tgz       74%[=============>      ]   3.23G  20.8MB/s    eta 65s    "
     ]
    },
    {
     "name": "stdout",
     "output_type": "stream",
     "text": [
      "\r",
      "pascal-voc.tgz       74%[=============>      ]   3.24G  20.6MB/s    eta 65s    "
     ]
    },
    {
     "name": "stdout",
     "output_type": "stream",
     "text": [
      "\r",
      "pascal-voc.tgz       74%[=============>      ]   3.24G  20.6MB/s    eta 65s    "
     ]
    },
    {
     "name": "stdout",
     "output_type": "stream",
     "text": [
      "\r",
      "pascal-voc.tgz       75%[==============>     ]   3.25G  20.7MB/s    eta 65s    "
     ]
    },
    {
     "name": "stdout",
     "output_type": "stream",
     "text": [
      "\r",
      "pascal-voc.tgz       75%[==============>     ]   3.25G  20.6MB/s    eta 65s    "
     ]
    },
    {
     "name": "stdout",
     "output_type": "stream",
     "text": [
      "\r",
      "pascal-voc.tgz       75%[==============>     ]   3.25G  20.4MB/s    eta 64s    "
     ]
    },
    {
     "name": "stdout",
     "output_type": "stream",
     "text": [
      "\r",
      "pascal-voc.tgz       75%[==============>     ]   3.26G  20.6MB/s    eta 64s    "
     ]
    },
    {
     "name": "stdout",
     "output_type": "stream",
     "text": [
      "\r",
      "pascal-voc.tgz       75%[==============>     ]   3.26G  20.6MB/s    eta 64s    "
     ]
    },
    {
     "name": "stdout",
     "output_type": "stream",
     "text": [
      "\r",
      "pascal-voc.tgz       75%[==============>     ]   3.27G  20.6MB/s    eta 64s    "
     ]
    },
    {
     "name": "stdout",
     "output_type": "stream",
     "text": [
      "\r",
      "pascal-voc.tgz       75%[==============>     ]   3.27G  20.6MB/s    eta 64s    "
     ]
    },
    {
     "name": "stdout",
     "output_type": "stream",
     "text": [
      "\r",
      "pascal-voc.tgz       75%[==============>     ]   3.28G  20.7MB/s    eta 62s    "
     ]
    },
    {
     "name": "stdout",
     "output_type": "stream",
     "text": [
      "\r",
      "pascal-voc.tgz       75%[==============>     ]   3.28G  20.6MB/s    eta 62s    "
     ]
    },
    {
     "name": "stdout",
     "output_type": "stream",
     "text": [
      "\r",
      "pascal-voc.tgz       76%[==============>     ]   3.28G  20.5MB/s    eta 62s    "
     ]
    },
    {
     "name": "stdout",
     "output_type": "stream",
     "text": [
      "\r",
      "pascal-voc.tgz       76%[==============>     ]   3.29G  20.7MB/s    eta 62s    "
     ]
    },
    {
     "name": "stdout",
     "output_type": "stream",
     "text": [
      "\r",
      "pascal-voc.tgz       76%[==============>     ]   3.29G  20.7MB/s    eta 62s    "
     ]
    },
    {
     "name": "stdout",
     "output_type": "stream",
     "text": [
      "\r",
      "pascal-voc.tgz       76%[==============>     ]   3.30G  20.7MB/s    eta 61s    "
     ]
    },
    {
     "name": "stdout",
     "output_type": "stream",
     "text": [
      "\r",
      "pascal-voc.tgz       76%[==============>     ]   3.30G  20.7MB/s    eta 61s    "
     ]
    },
    {
     "name": "stdout",
     "output_type": "stream",
     "text": [
      "\r",
      "pascal-voc.tgz       76%[==============>     ]   3.31G  20.7MB/s    eta 61s    "
     ]
    },
    {
     "name": "stdout",
     "output_type": "stream",
     "text": [
      "\r",
      "pascal-voc.tgz       76%[==============>     ]   3.31G  20.5MB/s    eta 61s    "
     ]
    },
    {
     "name": "stdout",
     "output_type": "stream",
     "text": [
      "\r",
      "pascal-voc.tgz       76%[==============>     ]   3.32G  20.7MB/s    eta 61s    "
     ]
    },
    {
     "name": "stdout",
     "output_type": "stream",
     "text": [
      "\r",
      "pascal-voc.tgz       76%[==============>     ]   3.32G  20.7MB/s    eta 59s    "
     ]
    },
    {
     "name": "stdout",
     "output_type": "stream",
     "text": [
      "\r",
      "pascal-voc.tgz       76%[==============>     ]   3.32G  20.5MB/s    eta 59s    "
     ]
    },
    {
     "name": "stdout",
     "output_type": "stream",
     "text": [
      "\r",
      "pascal-voc.tgz       77%[==============>     ]   3.33G  20.6MB/s    eta 59s    "
     ]
    },
    {
     "name": "stdout",
     "output_type": "stream",
     "text": [
      "\r",
      "pascal-voc.tgz       77%[==============>     ]   3.33G  20.6MB/s    eta 59s    "
     ]
    },
    {
     "name": "stdout",
     "output_type": "stream",
     "text": [
      "\r",
      "pascal-voc.tgz       77%[==============>     ]   3.34G  20.7MB/s    eta 59s    "
     ]
    },
    {
     "name": "stdout",
     "output_type": "stream",
     "text": [
      "\r",
      "pascal-voc.tgz       77%[==============>     ]   3.34G  20.7MB/s    eta 58s    "
     ]
    },
    {
     "name": "stdout",
     "output_type": "stream",
     "text": [
      "\r",
      "pascal-voc.tgz       77%[==============>     ]   3.35G  20.8MB/s    eta 58s    "
     ]
    },
    {
     "name": "stdout",
     "output_type": "stream",
     "text": [
      "\r",
      "pascal-voc.tgz       77%[==============>     ]   3.35G  20.7MB/s    eta 58s    "
     ]
    },
    {
     "name": "stdout",
     "output_type": "stream",
     "text": [
      "\r",
      "pascal-voc.tgz       77%[==============>     ]   3.36G  20.8MB/s    eta 58s    "
     ]
    },
    {
     "name": "stdout",
     "output_type": "stream",
     "text": [
      "\r",
      "pascal-voc.tgz       77%[==============>     ]   3.36G  20.5MB/s    eta 58s    "
     ]
    },
    {
     "name": "stdout",
     "output_type": "stream",
     "text": [
      "\r",
      "pascal-voc.tgz       77%[==============>     ]   3.36G  20.7MB/s    eta 57s    "
     ]
    },
    {
     "name": "stdout",
     "output_type": "stream",
     "text": [
      "\r",
      "pascal-voc.tgz       77%[==============>     ]   3.37G  20.8MB/s    eta 57s    "
     ]
    },
    {
     "name": "stdout",
     "output_type": "stream",
     "text": [
      "\r",
      "pascal-voc.tgz       78%[==============>     ]   3.37G  20.7MB/s    eta 57s    "
     ]
    },
    {
     "name": "stdout",
     "output_type": "stream",
     "text": [
      "\r",
      "pascal-voc.tgz       78%[==============>     ]   3.38G  20.7MB/s    eta 57s    "
     ]
    },
    {
     "name": "stdout",
     "output_type": "stream",
     "text": [
      "\r",
      "pascal-voc.tgz       78%[==============>     ]   3.38G  20.8MB/s    eta 57s    "
     ]
    },
    {
     "name": "stdout",
     "output_type": "stream",
     "text": [
      "\r",
      "pascal-voc.tgz       78%[==============>     ]   3.39G  20.7MB/s    eta 55s    "
     ]
    },
    {
     "name": "stdout",
     "output_type": "stream",
     "text": [
      "\r",
      "pascal-voc.tgz       78%[==============>     ]   3.39G  20.3MB/s    eta 55s    "
     ]
    },
    {
     "name": "stdout",
     "output_type": "stream",
     "text": [
      "\r",
      "pascal-voc.tgz       78%[==============>     ]   3.39G  19.9MB/s    eta 55s    "
     ]
    },
    {
     "name": "stdout",
     "output_type": "stream",
     "text": [
      "\r",
      "pascal-voc.tgz       78%[==============>     ]   3.40G  19.4MB/s    eta 55s    "
     ]
    },
    {
     "name": "stdout",
     "output_type": "stream",
     "text": [
      "\r",
      "pascal-voc.tgz       78%[==============>     ]   3.40G  19.1MB/s    eta 55s    "
     ]
    },
    {
     "name": "stdout",
     "output_type": "stream",
     "text": [
      "\r",
      "pascal-voc.tgz       78%[==============>     ]   3.40G  18.9MB/s    eta 54s    "
     ]
    },
    {
     "name": "stdout",
     "output_type": "stream",
     "text": [
      "\r",
      "pascal-voc.tgz       78%[==============>     ]   3.41G  18.5MB/s    eta 54s    "
     ]
    },
    {
     "name": "stdout",
     "output_type": "stream",
     "text": [
      "\r",
      "pascal-voc.tgz       78%[==============>     ]   3.41G  18.0MB/s    eta 54s    "
     ]
    },
    {
     "name": "stdout",
     "output_type": "stream",
     "text": [
      "\r",
      "pascal-voc.tgz       78%[==============>     ]   3.41G  17.8MB/s    eta 54s    "
     ]
    },
    {
     "name": "stdout",
     "output_type": "stream",
     "text": [
      "\r",
      "pascal-voc.tgz       79%[==============>     ]   3.42G  17.6MB/s    eta 54s    "
     ]
    },
    {
     "name": "stdout",
     "output_type": "stream",
     "text": [
      "\r",
      "pascal-voc.tgz       79%[==============>     ]   3.42G  17.3MB/s    eta 53s    "
     ]
    },
    {
     "name": "stdout",
     "output_type": "stream",
     "text": [
      "\r",
      "pascal-voc.tgz       79%[==============>     ]   3.42G  16.9MB/s    eta 53s    "
     ]
    },
    {
     "name": "stdout",
     "output_type": "stream",
     "text": [
      "\r",
      "pascal-voc.tgz       79%[==============>     ]   3.43G  16.7MB/s    eta 53s    "
     ]
    },
    {
     "name": "stdout",
     "output_type": "stream",
     "text": [
      "\r",
      "pascal-voc.tgz       79%[==============>     ]   3.43G  16.5MB/s    eta 53s    "
     ]
    },
    {
     "name": "stdout",
     "output_type": "stream",
     "text": [
      "\r",
      "pascal-voc.tgz       79%[==============>     ]   3.43G  16.4MB/s    eta 53s    "
     ]
    },
    {
     "name": "stdout",
     "output_type": "stream",
     "text": [
      "\r",
      "pascal-voc.tgz       79%[==============>     ]   3.44G  16.2MB/s    eta 52s    "
     ]
    },
    {
     "name": "stdout",
     "output_type": "stream",
     "text": [
      "\r",
      "pascal-voc.tgz       79%[==============>     ]   3.44G  15.7MB/s    eta 52s    "
     ]
    },
    {
     "name": "stdout",
     "output_type": "stream",
     "text": [
      "\r",
      "pascal-voc.tgz       79%[==============>     ]   3.44G  16.0MB/s    eta 52s    "
     ]
    },
    {
     "name": "stdout",
     "output_type": "stream",
     "text": [
      "\r",
      "pascal-voc.tgz       79%[==============>     ]   3.45G  16.1MB/s    eta 52s    "
     ]
    },
    {
     "name": "stdout",
     "output_type": "stream",
     "text": [
      "\r",
      "pascal-voc.tgz       79%[==============>     ]   3.45G  16.2MB/s    eta 52s    "
     ]
    },
    {
     "name": "stdout",
     "output_type": "stream",
     "text": [
      "\r",
      "pascal-voc.tgz       79%[==============>     ]   3.46G  16.5MB/s    eta 51s    "
     ]
    },
    {
     "name": "stdout",
     "output_type": "stream",
     "text": [
      "\r",
      "pascal-voc.tgz       80%[===============>    ]   3.46G  16.7MB/s    eta 51s    "
     ]
    },
    {
     "name": "stdout",
     "output_type": "stream",
     "text": [
      "\r",
      "pascal-voc.tgz       80%[===============>    ]   3.46G  16.7MB/s    eta 51s    "
     ]
    },
    {
     "name": "stdout",
     "output_type": "stream",
     "text": [
      "\r",
      "pascal-voc.tgz       80%[===============>    ]   3.47G  16.9MB/s    eta 51s    "
     ]
    },
    {
     "name": "stdout",
     "output_type": "stream",
     "text": [
      "\r",
      "pascal-voc.tgz       80%[===============>    ]   3.47G  16.9MB/s    eta 51s    "
     ]
    },
    {
     "name": "stdout",
     "output_type": "stream",
     "text": [
      "\r",
      "pascal-voc.tgz       80%[===============>    ]   3.47G  17.1MB/s    eta 50s    "
     ]
    },
    {
     "name": "stdout",
     "output_type": "stream",
     "text": [
      "\r",
      "pascal-voc.tgz       80%[===============>    ]   3.48G  17.1MB/s    eta 50s    "
     ]
    },
    {
     "name": "stdout",
     "output_type": "stream",
     "text": [
      "\r",
      "pascal-voc.tgz       80%[===============>    ]   3.48G  16.9MB/s    eta 50s    "
     ]
    },
    {
     "name": "stdout",
     "output_type": "stream",
     "text": [
      "\r",
      "pascal-voc.tgz       80%[===============>    ]   3.49G  17.3MB/s    eta 50s    "
     ]
    },
    {
     "name": "stdout",
     "output_type": "stream",
     "text": [
      "\r",
      "pascal-voc.tgz       80%[===============>    ]   3.49G  17.3MB/s    eta 50s    "
     ]
    },
    {
     "name": "stdout",
     "output_type": "stream",
     "text": [
      "\r",
      "pascal-voc.tgz       80%[===============>    ]   3.49G  17.2MB/s    eta 49s    "
     ]
    },
    {
     "name": "stdout",
     "output_type": "stream",
     "text": [
      "\r",
      "pascal-voc.tgz       80%[===============>    ]   3.50G  17.5MB/s    eta 49s    "
     ]
    },
    {
     "name": "stdout",
     "output_type": "stream",
     "text": [
      "\r",
      "pascal-voc.tgz       81%[===============>    ]   3.50G  17.5MB/s    eta 49s    "
     ]
    },
    {
     "name": "stdout",
     "output_type": "stream",
     "text": [
      "\r",
      "pascal-voc.tgz       81%[===============>    ]   3.50G  17.3MB/s    eta 49s    "
     ]
    },
    {
     "name": "stdout",
     "output_type": "stream",
     "text": [
      "\r",
      "pascal-voc.tgz       81%[===============>    ]   3.51G  17.6MB/s    eta 49s    "
     ]
    },
    {
     "name": "stdout",
     "output_type": "stream",
     "text": [
      "\r",
      "pascal-voc.tgz       81%[===============>    ]   3.51G  17.6MB/s    eta 48s    "
     ]
    },
    {
     "name": "stdout",
     "output_type": "stream",
     "text": [
      "\r",
      "pascal-voc.tgz       81%[===============>    ]   3.52G  17.4MB/s    eta 48s    "
     ]
    },
    {
     "name": "stdout",
     "output_type": "stream",
     "text": [
      "\r",
      "pascal-voc.tgz       81%[===============>    ]   3.52G  17.7MB/s    eta 48s    "
     ]
    },
    {
     "name": "stdout",
     "output_type": "stream",
     "text": [
      "\r",
      "pascal-voc.tgz       81%[===============>    ]   3.52G  17.6MB/s    eta 48s    "
     ]
    },
    {
     "name": "stdout",
     "output_type": "stream",
     "text": [
      "\r",
      "pascal-voc.tgz       81%[===============>    ]   3.53G  17.4MB/s    eta 48s    "
     ]
    },
    {
     "name": "stdout",
     "output_type": "stream",
     "text": [
      "\r",
      "pascal-voc.tgz       81%[===============>    ]   3.53G  17.7MB/s    eta 47s    "
     ]
    },
    {
     "name": "stdout",
     "output_type": "stream",
     "text": [
      "\r",
      "pascal-voc.tgz       81%[===============>    ]   3.53G  17.7MB/s    eta 47s    "
     ]
    },
    {
     "name": "stdout",
     "output_type": "stream",
     "text": [
      "\r",
      "pascal-voc.tgz       81%[===============>    ]   3.54G  17.6MB/s    eta 47s    "
     ]
    },
    {
     "name": "stdout",
     "output_type": "stream",
     "text": [
      "\r",
      "pascal-voc.tgz       81%[===============>    ]   3.54G  17.7MB/s    eta 47s    "
     ]
    },
    {
     "name": "stdout",
     "output_type": "stream",
     "text": [
      "\r",
      "pascal-voc.tgz       82%[===============>    ]   3.55G  17.7MB/s    eta 47s    "
     ]
    },
    {
     "name": "stdout",
     "output_type": "stream",
     "text": [
      "\r",
      "pascal-voc.tgz       82%[===============>    ]   3.55G  17.6MB/s    eta 46s    "
     ]
    },
    {
     "name": "stdout",
     "output_type": "stream",
     "text": [
      "\r",
      "pascal-voc.tgz       82%[===============>    ]   3.55G  17.7MB/s    eta 46s    "
     ]
    },
    {
     "name": "stdout",
     "output_type": "stream",
     "text": [
      "\r",
      "pascal-voc.tgz       82%[===============>    ]   3.56G  17.7MB/s    eta 46s    "
     ]
    },
    {
     "name": "stdout",
     "output_type": "stream",
     "text": [
      "\r",
      "pascal-voc.tgz       82%[===============>    ]   3.56G  17.5MB/s    eta 46s    "
     ]
    },
    {
     "name": "stdout",
     "output_type": "stream",
     "text": [
      "\r",
      "pascal-voc.tgz       82%[===============>    ]   3.56G  17.6MB/s    eta 46s    "
     ]
    },
    {
     "name": "stdout",
     "output_type": "stream",
     "text": [
      "\r",
      "pascal-voc.tgz       82%[===============>    ]   3.57G  17.7MB/s    eta 45s    "
     ]
    },
    {
     "name": "stdout",
     "output_type": "stream",
     "text": [
      "\r",
      "pascal-voc.tgz       82%[===============>    ]   3.57G  17.6MB/s    eta 45s    "
     ]
    },
    {
     "name": "stdout",
     "output_type": "stream",
     "text": [
      "\r",
      "pascal-voc.tgz       82%[===============>    ]   3.58G  17.5MB/s    eta 45s    "
     ]
    },
    {
     "name": "stdout",
     "output_type": "stream",
     "text": [
      "\r",
      "pascal-voc.tgz       82%[===============>    ]   3.58G  17.8MB/s    eta 45s    "
     ]
    },
    {
     "name": "stdout",
     "output_type": "stream",
     "text": [
      "\r",
      "pascal-voc.tgz       82%[===============>    ]   3.58G  17.8MB/s    eta 45s    "
     ]
    },
    {
     "name": "stdout",
     "output_type": "stream",
     "text": [
      "\r",
      "pascal-voc.tgz       83%[===============>    ]   3.59G  17.7MB/s    eta 43s    "
     ]
    },
    {
     "name": "stdout",
     "output_type": "stream",
     "text": [
      "\r",
      "pascal-voc.tgz       83%[===============>    ]   3.59G  17.7MB/s    eta 43s    "
     ]
    },
    {
     "name": "stdout",
     "output_type": "stream",
     "text": [
      "\r",
      "pascal-voc.tgz       83%[===============>    ]   3.60G  17.9MB/s    eta 43s    "
     ]
    },
    {
     "name": "stdout",
     "output_type": "stream",
     "text": [
      "\r",
      "pascal-voc.tgz       83%[===============>    ]   3.60G  17.8MB/s    eta 43s    "
     ]
    },
    {
     "name": "stdout",
     "output_type": "stream",
     "text": [
      "\r",
      "pascal-voc.tgz       83%[===============>    ]   3.60G  17.8MB/s    eta 43s    "
     ]
    },
    {
     "name": "stdout",
     "output_type": "stream",
     "text": [
      "\r",
      "pascal-voc.tgz       83%[===============>    ]   3.61G  17.9MB/s    eta 42s    "
     ]
    },
    {
     "name": "stdout",
     "output_type": "stream",
     "text": [
      "\r",
      "pascal-voc.tgz       83%[===============>    ]   3.61G  18.2MB/s    eta 42s    "
     ]
    },
    {
     "name": "stdout",
     "output_type": "stream",
     "text": [
      "\r",
      "pascal-voc.tgz       83%[===============>    ]   3.62G  18.3MB/s    eta 42s    "
     ]
    },
    {
     "name": "stdout",
     "output_type": "stream",
     "text": [
      "\r",
      "pascal-voc.tgz       83%[===============>    ]   3.62G  18.3MB/s    eta 42s    "
     ]
    },
    {
     "name": "stdout",
     "output_type": "stream",
     "text": [
      "\r",
      "pascal-voc.tgz       83%[===============>    ]   3.62G  18.5MB/s    eta 42s    "
     ]
    },
    {
     "name": "stdout",
     "output_type": "stream",
     "text": [
      "\r",
      "pascal-voc.tgz       83%[===============>    ]   3.63G  18.5MB/s    eta 41s    "
     ]
    },
    {
     "name": "stdout",
     "output_type": "stream",
     "text": [
      "\r",
      "pascal-voc.tgz       84%[===============>    ]   3.63G  18.6MB/s    eta 41s    "
     ]
    },
    {
     "name": "stdout",
     "output_type": "stream",
     "text": [
      "\r",
      "pascal-voc.tgz       84%[===============>    ]   3.63G  18.6MB/s    eta 41s    "
     ]
    },
    {
     "name": "stdout",
     "output_type": "stream",
     "text": [
      "\r",
      "pascal-voc.tgz       84%[===============>    ]   3.64G  18.8MB/s    eta 41s    "
     ]
    },
    {
     "name": "stdout",
     "output_type": "stream",
     "text": [
      "\r",
      "pascal-voc.tgz       84%[===============>    ]   3.64G  18.3MB/s    eta 41s    "
     ]
    },
    {
     "name": "stdout",
     "output_type": "stream",
     "text": [
      "\r",
      "pascal-voc.tgz       84%[===============>    ]   3.65G  18.7MB/s    eta 40s    "
     ]
    },
    {
     "name": "stdout",
     "output_type": "stream",
     "text": [
      "\r",
      "pascal-voc.tgz       84%[===============>    ]   3.65G  18.9MB/s    eta 40s    "
     ]
    },
    {
     "name": "stdout",
     "output_type": "stream",
     "text": [
      "\r",
      "pascal-voc.tgz       84%[===============>    ]   3.66G  18.8MB/s    eta 40s    "
     ]
    },
    {
     "name": "stdout",
     "output_type": "stream",
     "text": [
      "\r",
      "pascal-voc.tgz       84%[===============>    ]   3.66G  19.1MB/s    eta 40s    "
     ]
    },
    {
     "name": "stdout",
     "output_type": "stream",
     "text": [
      "\r",
      "pascal-voc.tgz       84%[===============>    ]   3.66G  10.6MB/s    eta 39s    "
     ]
    },
    {
     "name": "stdout",
     "output_type": "stream",
     "text": [
      "\r",
      "pascal-voc.tgz       84%[===============>    ]   3.67G  10.9MB/s    eta 39s    "
     ]
    },
    {
     "name": "stdout",
     "output_type": "stream",
     "text": [
      "\r",
      "pascal-voc.tgz       84%[===============>    ]   3.67G  11.0MB/s    eta 39s    "
     ]
    },
    {
     "name": "stdout",
     "output_type": "stream",
     "text": [
      "\r",
      "pascal-voc.tgz       85%[================>   ]   3.68G  11.1MB/s    eta 39s    "
     ]
    },
    {
     "name": "stdout",
     "output_type": "stream",
     "text": [
      "\r",
      "pascal-voc.tgz       85%[================>   ]   3.68G  11.3MB/s    eta 39s    "
     ]
    },
    {
     "name": "stdout",
     "output_type": "stream",
     "text": [
      "\r",
      "pascal-voc.tgz       85%[================>   ]   3.69G  11.5MB/s    eta 38s    "
     ]
    },
    {
     "name": "stdout",
     "output_type": "stream",
     "text": [
      "\r",
      "pascal-voc.tgz       85%[================>   ]   3.69G  11.5MB/s    eta 38s    "
     ]
    },
    {
     "name": "stdout",
     "output_type": "stream",
     "text": [
      "\r",
      "pascal-voc.tgz       85%[================>   ]   3.69G  11.6MB/s    eta 38s    "
     ]
    },
    {
     "name": "stdout",
     "output_type": "stream",
     "text": [
      "\r",
      "pascal-voc.tgz       85%[================>   ]   3.70G  11.7MB/s    eta 38s    "
     ]
    },
    {
     "name": "stdout",
     "output_type": "stream",
     "text": [
      "\r",
      "pascal-voc.tgz       85%[================>   ]   3.70G  11.8MB/s    eta 38s    "
     ]
    },
    {
     "name": "stdout",
     "output_type": "stream",
     "text": [
      "\r",
      "pascal-voc.tgz       85%[================>   ]   3.71G  11.9MB/s    eta 37s    "
     ]
    },
    {
     "name": "stdout",
     "output_type": "stream",
     "text": [
      "\r",
      "pascal-voc.tgz       85%[================>   ]   3.71G  12.2MB/s    eta 37s    "
     ]
    },
    {
     "name": "stdout",
     "output_type": "stream",
     "text": [
      "\r",
      "pascal-voc.tgz       86%[================>   ]   3.72G  12.0MB/s    eta 37s    "
     ]
    },
    {
     "name": "stdout",
     "output_type": "stream",
     "text": [
      "\r",
      "pascal-voc.tgz       86%[================>   ]   3.72G  12.2MB/s    eta 37s    "
     ]
    },
    {
     "name": "stdout",
     "output_type": "stream",
     "text": [
      "\r",
      "pascal-voc.tgz       86%[================>   ]   3.73G  12.0MB/s    eta 37s    "
     ]
    },
    {
     "name": "stdout",
     "output_type": "stream",
     "text": [
      "\r",
      "pascal-voc.tgz       86%[================>   ]   3.73G  12.0MB/s    eta 35s    "
     ]
    },
    {
     "name": "stdout",
     "output_type": "stream",
     "text": [
      "\r",
      "pascal-voc.tgz       86%[================>   ]   3.73G  12.2MB/s    eta 35s    "
     ]
    },
    {
     "name": "stdout",
     "output_type": "stream",
     "text": [
      "\r",
      "pascal-voc.tgz       86%[================>   ]   3.74G  21.0MB/s    eta 35s    "
     ]
    },
    {
     "name": "stdout",
     "output_type": "stream",
     "text": [
      "\r",
      "pascal-voc.tgz       86%[================>   ]   3.74G  20.7MB/s    eta 35s    "
     ]
    },
    {
     "name": "stdout",
     "output_type": "stream",
     "text": [
      "\r",
      "pascal-voc.tgz       86%[================>   ]   3.75G  20.8MB/s    eta 35s    "
     ]
    },
    {
     "name": "stdout",
     "output_type": "stream",
     "text": [
      "\r",
      "pascal-voc.tgz       86%[================>   ]   3.75G  20.5MB/s    eta 34s    "
     ]
    },
    {
     "name": "stdout",
     "output_type": "stream",
     "text": [
      "\r",
      "pascal-voc.tgz       86%[================>   ]   3.76G  20.8MB/s    eta 34s    "
     ]
    },
    {
     "name": "stdout",
     "output_type": "stream",
     "text": [
      "\r",
      "pascal-voc.tgz       87%[================>   ]   3.76G  20.6MB/s    eta 34s    "
     ]
    },
    {
     "name": "stdout",
     "output_type": "stream",
     "text": [
      "\r",
      "pascal-voc.tgz       87%[================>   ]   3.77G  20.6MB/s    eta 34s    "
     ]
    },
    {
     "name": "stdout",
     "output_type": "stream",
     "text": [
      "\r",
      "pascal-voc.tgz       87%[================>   ]   3.77G  20.8MB/s    eta 34s    "
     ]
    },
    {
     "name": "stdout",
     "output_type": "stream",
     "text": [
      "\r",
      "pascal-voc.tgz       87%[================>   ]   3.77G  20.6MB/s    eta 33s    "
     ]
    },
    {
     "name": "stdout",
     "output_type": "stream",
     "text": [
      "\r",
      "pascal-voc.tgz       87%[================>   ]   3.78G  20.8MB/s    eta 33s    "
     ]
    },
    {
     "name": "stdout",
     "output_type": "stream",
     "text": [
      "\r",
      "pascal-voc.tgz       87%[================>   ]   3.78G  20.6MB/s    eta 33s    "
     ]
    },
    {
     "name": "stdout",
     "output_type": "stream",
     "text": [
      "\r",
      "pascal-voc.tgz       87%[================>   ]   3.79G  20.8MB/s    eta 33s    "
     ]
    },
    {
     "name": "stdout",
     "output_type": "stream",
     "text": [
      "\r",
      "pascal-voc.tgz       87%[================>   ]   3.79G  20.6MB/s    eta 33s    "
     ]
    },
    {
     "name": "stdout",
     "output_type": "stream",
     "text": [
      "\r",
      "pascal-voc.tgz       87%[================>   ]   3.80G  20.8MB/s    eta 31s    "
     ]
    },
    {
     "name": "stdout",
     "output_type": "stream",
     "text": [
      "\r",
      "pascal-voc.tgz       87%[================>   ]   3.80G  20.6MB/s    eta 31s    "
     ]
    },
    {
     "name": "stdout",
     "output_type": "stream",
     "text": [
      "\r",
      "pascal-voc.tgz       88%[================>   ]   3.81G  20.8MB/s    eta 31s    "
     ]
    },
    {
     "name": "stdout",
     "output_type": "stream",
     "text": [
      "\r",
      "pascal-voc.tgz       88%[================>   ]   3.81G  20.7MB/s    eta 31s    "
     ]
    },
    {
     "name": "stdout",
     "output_type": "stream",
     "text": [
      "\r",
      "pascal-voc.tgz       88%[================>   ]   3.81G  20.7MB/s    eta 31s    "
     ]
    },
    {
     "name": "stdout",
     "output_type": "stream",
     "text": [
      "\r",
      "pascal-voc.tgz       88%[================>   ]   3.82G  20.4MB/s    eta 30s    "
     ]
    },
    {
     "name": "stdout",
     "output_type": "stream",
     "text": [
      "\r",
      "pascal-voc.tgz       88%[================>   ]   3.82G  20.8MB/s    eta 30s    "
     ]
    },
    {
     "name": "stdout",
     "output_type": "stream",
     "text": [
      "\r",
      "pascal-voc.tgz       88%[================>   ]   3.83G  20.8MB/s    eta 30s    "
     ]
    },
    {
     "name": "stdout",
     "output_type": "stream",
     "text": [
      "\r",
      "pascal-voc.tgz       88%[================>   ]   3.83G  20.7MB/s    eta 30s    "
     ]
    },
    {
     "name": "stdout",
     "output_type": "stream",
     "text": [
      "\r",
      "pascal-voc.tgz       88%[================>   ]   3.84G  20.5MB/s    eta 30s    "
     ]
    },
    {
     "name": "stdout",
     "output_type": "stream",
     "text": [
      "\r",
      "pascal-voc.tgz       88%[================>   ]   3.84G  20.8MB/s    eta 28s    "
     ]
    },
    {
     "name": "stdout",
     "output_type": "stream",
     "text": [
      "\r",
      "pascal-voc.tgz       88%[================>   ]   3.84G  20.8MB/s    eta 28s    "
     ]
    },
    {
     "name": "stdout",
     "output_type": "stream",
     "text": [
      "\r",
      "pascal-voc.tgz       89%[================>   ]   3.85G  20.6MB/s    eta 28s    "
     ]
    },
    {
     "name": "stdout",
     "output_type": "stream",
     "text": [
      "\r",
      "pascal-voc.tgz       89%[================>   ]   3.85G  20.5MB/s    eta 28s    "
     ]
    },
    {
     "name": "stdout",
     "output_type": "stream",
     "text": [
      "\r",
      "pascal-voc.tgz       89%[================>   ]   3.86G  20.7MB/s    eta 28s    "
     ]
    },
    {
     "name": "stdout",
     "output_type": "stream",
     "text": [
      "\r",
      "pascal-voc.tgz       89%[================>   ]   3.86G  20.5MB/s    eta 27s    "
     ]
    },
    {
     "name": "stdout",
     "output_type": "stream",
     "text": [
      "\r",
      "pascal-voc.tgz       89%[================>   ]   3.87G  20.8MB/s    eta 27s    "
     ]
    },
    {
     "name": "stdout",
     "output_type": "stream",
     "text": [
      "\r",
      "pascal-voc.tgz       89%[================>   ]   3.87G  20.4MB/s    eta 27s    "
     ]
    },
    {
     "name": "stdout",
     "output_type": "stream",
     "text": [
      "\r",
      "pascal-voc.tgz       89%[================>   ]   3.88G  20.8MB/s    eta 27s    "
     ]
    },
    {
     "name": "stdout",
     "output_type": "stream",
     "text": [
      "\r",
      "pascal-voc.tgz       89%[================>   ]   3.88G  20.7MB/s    eta 27s    "
     ]
    },
    {
     "name": "stdout",
     "output_type": "stream",
     "text": [
      "\r",
      "pascal-voc.tgz       89%[================>   ]   3.88G  20.8MB/s    eta 26s    "
     ]
    },
    {
     "name": "stdout",
     "output_type": "stream",
     "text": [
      "\r",
      "pascal-voc.tgz       90%[=================>  ]   3.89G  20.6MB/s    eta 26s    "
     ]
    },
    {
     "name": "stdout",
     "output_type": "stream",
     "text": [
      "\r",
      "pascal-voc.tgz       90%[=================>  ]   3.89G  20.5MB/s    eta 26s    "
     ]
    },
    {
     "name": "stdout",
     "output_type": "stream",
     "text": [
      "\r",
      "pascal-voc.tgz       90%[=================>  ]   3.90G  20.7MB/s    eta 26s    "
     ]
    },
    {
     "name": "stdout",
     "output_type": "stream",
     "text": [
      "\r",
      "pascal-voc.tgz       90%[=================>  ]   3.90G  20.6MB/s    eta 26s    "
     ]
    },
    {
     "name": "stdout",
     "output_type": "stream",
     "text": [
      "\r",
      "pascal-voc.tgz       90%[=================>  ]   3.91G  20.8MB/s    eta 24s    "
     ]
    },
    {
     "name": "stdout",
     "output_type": "stream",
     "text": [
      "\r",
      "pascal-voc.tgz       90%[=================>  ]   3.91G  20.6MB/s    eta 24s    "
     ]
    },
    {
     "name": "stdout",
     "output_type": "stream",
     "text": [
      "\r",
      "pascal-voc.tgz       90%[=================>  ]   3.92G  20.8MB/s    eta 24s    "
     ]
    },
    {
     "name": "stdout",
     "output_type": "stream",
     "text": [
      "\r",
      "pascal-voc.tgz       90%[=================>  ]   3.92G  20.8MB/s    eta 24s    "
     ]
    },
    {
     "name": "stdout",
     "output_type": "stream",
     "text": [
      "\r",
      "pascal-voc.tgz       90%[=================>  ]   3.92G  20.6MB/s    eta 24s    "
     ]
    },
    {
     "name": "stdout",
     "output_type": "stream",
     "text": [
      "\r",
      "pascal-voc.tgz       90%[=================>  ]   3.93G  20.8MB/s    eta 23s    "
     ]
    },
    {
     "name": "stdout",
     "output_type": "stream",
     "text": [
      "\r",
      "pascal-voc.tgz       91%[=================>  ]   3.93G  20.7MB/s    eta 23s    "
     ]
    },
    {
     "name": "stdout",
     "output_type": "stream",
     "text": [
      "\r",
      "pascal-voc.tgz       91%[=================>  ]   3.94G  20.5MB/s    eta 23s    "
     ]
    },
    {
     "name": "stdout",
     "output_type": "stream",
     "text": [
      "\r",
      "pascal-voc.tgz       91%[=================>  ]   3.94G  20.8MB/s    eta 23s    "
     ]
    },
    {
     "name": "stdout",
     "output_type": "stream",
     "text": [
      "\r",
      "pascal-voc.tgz       91%[=================>  ]   3.95G  20.7MB/s    eta 23s    "
     ]
    },
    {
     "name": "stdout",
     "output_type": "stream",
     "text": [
      "\r",
      "pascal-voc.tgz       91%[=================>  ]   3.95G  20.6MB/s    eta 22s    "
     ]
    },
    {
     "name": "stdout",
     "output_type": "stream",
     "text": [
      "\r",
      "pascal-voc.tgz       91%[=================>  ]   3.96G  20.8MB/s    eta 22s    "
     ]
    },
    {
     "name": "stdout",
     "output_type": "stream",
     "text": [
      "\r",
      "pascal-voc.tgz       91%[=================>  ]   3.96G  20.7MB/s    eta 22s    "
     ]
    },
    {
     "name": "stdout",
     "output_type": "stream",
     "text": [
      "\r",
      "pascal-voc.tgz       91%[=================>  ]   3.96G  20.6MB/s    eta 22s    "
     ]
    },
    {
     "name": "stdout",
     "output_type": "stream",
     "text": [
      "\r",
      "pascal-voc.tgz       91%[=================>  ]   3.97G  20.8MB/s    eta 22s    "
     ]
    },
    {
     "name": "stdout",
     "output_type": "stream",
     "text": [
      "\r",
      "pascal-voc.tgz       91%[=================>  ]   3.97G  20.7MB/s    eta 20s    "
     ]
    },
    {
     "name": "stdout",
     "output_type": "stream",
     "text": [
      "\r",
      "pascal-voc.tgz       92%[=================>  ]   3.98G  20.6MB/s    eta 20s    "
     ]
    },
    {
     "name": "stdout",
     "output_type": "stream",
     "text": [
      "\r",
      "pascal-voc.tgz       92%[=================>  ]   3.98G  20.8MB/s    eta 20s    "
     ]
    },
    {
     "name": "stdout",
     "output_type": "stream",
     "text": [
      "\r",
      "pascal-voc.tgz       92%[=================>  ]   3.99G  20.7MB/s    eta 20s    "
     ]
    },
    {
     "name": "stdout",
     "output_type": "stream",
     "text": [
      "\r",
      "pascal-voc.tgz       92%[=================>  ]   3.99G  20.5MB/s    eta 20s    "
     ]
    },
    {
     "name": "stdout",
     "output_type": "stream",
     "text": [
      "\r",
      "pascal-voc.tgz       92%[=================>  ]   4.00G  20.8MB/s    eta 19s    "
     ]
    },
    {
     "name": "stdout",
     "output_type": "stream",
     "text": [
      "\r",
      "pascal-voc.tgz       92%[=================>  ]   4.00G  20.7MB/s    eta 19s    "
     ]
    },
    {
     "name": "stdout",
     "output_type": "stream",
     "text": [
      "\r",
      "pascal-voc.tgz       92%[=================>  ]   4.00G  20.6MB/s    eta 19s    "
     ]
    },
    {
     "name": "stdout",
     "output_type": "stream",
     "text": [
      "\r",
      "pascal-voc.tgz       92%[=================>  ]   4.01G  20.8MB/s    eta 19s    "
     ]
    },
    {
     "name": "stdout",
     "output_type": "stream",
     "text": [
      "\r",
      "pascal-voc.tgz       92%[=================>  ]   4.01G  20.5MB/s    eta 19s    "
     ]
    },
    {
     "name": "stdout",
     "output_type": "stream",
     "text": [
      "\r",
      "pascal-voc.tgz       92%[=================>  ]   4.02G  20.8MB/s    eta 18s    "
     ]
    },
    {
     "name": "stdout",
     "output_type": "stream",
     "text": [
      "\r",
      "pascal-voc.tgz       93%[=================>  ]   4.02G  20.7MB/s    eta 18s    "
     ]
    },
    {
     "name": "stdout",
     "output_type": "stream",
     "text": [
      "\r",
      "pascal-voc.tgz       93%[=================>  ]   4.03G  20.8MB/s    eta 18s    "
     ]
    },
    {
     "name": "stdout",
     "output_type": "stream",
     "text": [
      "\r",
      "pascal-voc.tgz       93%[=================>  ]   4.03G  20.7MB/s    eta 18s    "
     ]
    },
    {
     "name": "stdout",
     "output_type": "stream",
     "text": [
      "\r",
      "pascal-voc.tgz       93%[=================>  ]   4.04G  20.7MB/s    eta 18s    "
     ]
    },
    {
     "name": "stdout",
     "output_type": "stream",
     "text": [
      "\r",
      "pascal-voc.tgz       93%[=================>  ]   4.04G  20.8MB/s    eta 16s    "
     ]
    },
    {
     "name": "stdout",
     "output_type": "stream",
     "text": [
      "\r",
      "pascal-voc.tgz       93%[=================>  ]   4.04G  20.8MB/s    eta 16s    "
     ]
    },
    {
     "name": "stdout",
     "output_type": "stream",
     "text": [
      "\r",
      "pascal-voc.tgz       93%[=================>  ]   4.05G  20.6MB/s    eta 16s    "
     ]
    },
    {
     "name": "stdout",
     "output_type": "stream",
     "text": [
      "\r",
      "pascal-voc.tgz       93%[=================>  ]   4.05G  20.8MB/s    eta 16s    "
     ]
    },
    {
     "name": "stdout",
     "output_type": "stream",
     "text": [
      "\r",
      "pascal-voc.tgz       93%[=================>  ]   4.06G  20.6MB/s    eta 16s    "
     ]
    },
    {
     "name": "stdout",
     "output_type": "stream",
     "text": [
      "\r",
      "pascal-voc.tgz       94%[=================>  ]   4.06G  20.5MB/s    eta 15s    "
     ]
    },
    {
     "name": "stdout",
     "output_type": "stream",
     "text": [
      "\r",
      "pascal-voc.tgz       94%[=================>  ]   4.07G  20.6MB/s    eta 15s    "
     ]
    },
    {
     "name": "stdout",
     "output_type": "stream",
     "text": [
      "\r",
      "pascal-voc.tgz       94%[=================>  ]   4.07G  20.5MB/s    eta 15s    "
     ]
    },
    {
     "name": "stdout",
     "output_type": "stream",
     "text": [
      "\r",
      "pascal-voc.tgz       94%[=================>  ]   4.08G  20.8MB/s    eta 15s    "
     ]
    },
    {
     "name": "stdout",
     "output_type": "stream",
     "text": [
      "\r",
      "pascal-voc.tgz       94%[=================>  ]   4.08G  20.6MB/s    eta 15s    "
     ]
    },
    {
     "name": "stdout",
     "output_type": "stream",
     "text": [
      "\r",
      "pascal-voc.tgz       94%[=================>  ]   4.08G  20.6MB/s    eta 14s    "
     ]
    },
    {
     "name": "stdout",
     "output_type": "stream",
     "text": [
      "\r",
      "pascal-voc.tgz       94%[=================>  ]   4.09G  20.7MB/s    eta 14s    "
     ]
    },
    {
     "name": "stdout",
     "output_type": "stream",
     "text": [
      "\r",
      "pascal-voc.tgz       94%[=================>  ]   4.09G  20.6MB/s    eta 14s    "
     ]
    },
    {
     "name": "stdout",
     "output_type": "stream",
     "text": [
      "\r",
      "pascal-voc.tgz       94%[=================>  ]   4.10G  20.6MB/s    eta 14s    "
     ]
    },
    {
     "name": "stdout",
     "output_type": "stream",
     "text": [
      "\r",
      "pascal-voc.tgz       94%[=================>  ]   4.10G  20.7MB/s    eta 14s    "
     ]
    },
    {
     "name": "stdout",
     "output_type": "stream",
     "text": [
      "\r",
      "pascal-voc.tgz       95%[==================> ]   4.11G  20.6MB/s    eta 13s    "
     ]
    },
    {
     "name": "stdout",
     "output_type": "stream",
     "text": [
      "\r",
      "pascal-voc.tgz       95%[==================> ]   4.11G  20.6MB/s    eta 13s    "
     ]
    },
    {
     "name": "stdout",
     "output_type": "stream",
     "text": [
      "\r",
      "pascal-voc.tgz       95%[==================> ]   4.12G  20.7MB/s    eta 13s    "
     ]
    },
    {
     "name": "stdout",
     "output_type": "stream",
     "text": [
      "\r",
      "pascal-voc.tgz       95%[==================> ]   4.12G  20.7MB/s    eta 13s    "
     ]
    },
    {
     "name": "stdout",
     "output_type": "stream",
     "text": [
      "\r",
      "pascal-voc.tgz       95%[==================> ]   4.12G  20.5MB/s    eta 13s    "
     ]
    },
    {
     "name": "stdout",
     "output_type": "stream",
     "text": [
      "\r",
      "pascal-voc.tgz       95%[==================> ]   4.13G  20.7MB/s    eta 11s    "
     ]
    },
    {
     "name": "stdout",
     "output_type": "stream",
     "text": [
      "\r",
      "pascal-voc.tgz       95%[==================> ]   4.13G  20.6MB/s    eta 11s    "
     ]
    },
    {
     "name": "stdout",
     "output_type": "stream",
     "text": [
      "\r",
      "pascal-voc.tgz       95%[==================> ]   4.14G  20.6MB/s    eta 11s    "
     ]
    },
    {
     "name": "stdout",
     "output_type": "stream",
     "text": [
      "\r",
      "pascal-voc.tgz       95%[==================> ]   4.14G  20.7MB/s    eta 11s    "
     ]
    },
    {
     "name": "stdout",
     "output_type": "stream",
     "text": [
      "\r",
      "pascal-voc.tgz       95%[==================> ]   4.15G  20.6MB/s    eta 11s    "
     ]
    },
    {
     "name": "stdout",
     "output_type": "stream",
     "text": [
      "\r",
      "pascal-voc.tgz       96%[==================> ]   4.15G  20.6MB/s    eta 10s    "
     ]
    },
    {
     "name": "stdout",
     "output_type": "stream",
     "text": [
      "\r",
      "pascal-voc.tgz       96%[==================> ]   4.16G  20.8MB/s    eta 10s    "
     ]
    },
    {
     "name": "stdout",
     "output_type": "stream",
     "text": [
      "\r",
      "pascal-voc.tgz       96%[==================> ]   4.16G  20.7MB/s    eta 10s    "
     ]
    },
    {
     "name": "stdout",
     "output_type": "stream",
     "text": [
      "\r",
      "pascal-voc.tgz       96%[==================> ]   4.16G  20.7MB/s    eta 10s    "
     ]
    },
    {
     "name": "stdout",
     "output_type": "stream",
     "text": [
      "\r",
      "pascal-voc.tgz       96%[==================> ]   4.17G  20.7MB/s    eta 10s    "
     ]
    },
    {
     "name": "stdout",
     "output_type": "stream",
     "text": [
      "\r",
      "pascal-voc.tgz       96%[==================> ]   4.17G  20.8MB/s    eta 9s     "
     ]
    },
    {
     "name": "stdout",
     "output_type": "stream",
     "text": [
      "\r",
      "pascal-voc.tgz       96%[==================> ]   4.18G  20.7MB/s    eta 9s     "
     ]
    },
    {
     "name": "stdout",
     "output_type": "stream",
     "text": [
      "\r",
      "pascal-voc.tgz       96%[==================> ]   4.18G  20.6MB/s    eta 9s     "
     ]
    },
    {
     "name": "stdout",
     "output_type": "stream",
     "text": [
      "\r",
      "pascal-voc.tgz       96%[==================> ]   4.19G  20.7MB/s    eta 9s     "
     ]
    },
    {
     "name": "stdout",
     "output_type": "stream",
     "text": [
      "\r",
      "pascal-voc.tgz       96%[==================> ]   4.19G  20.7MB/s    eta 9s     "
     ]
    },
    {
     "name": "stdout",
     "output_type": "stream",
     "text": [
      "\r",
      "pascal-voc.tgz       97%[==================> ]   4.20G  20.6MB/s    eta 7s     "
     ]
    },
    {
     "name": "stdout",
     "output_type": "stream",
     "text": [
      "\r",
      "pascal-voc.tgz       97%[==================> ]   4.20G  20.5MB/s    eta 7s     "
     ]
    },
    {
     "name": "stdout",
     "output_type": "stream",
     "text": [
      "\r",
      "pascal-voc.tgz       97%[==================> ]   4.20G  20.8MB/s    eta 7s     "
     ]
    },
    {
     "name": "stdout",
     "output_type": "stream",
     "text": [
      "\r",
      "pascal-voc.tgz       97%[==================> ]   4.21G  20.6MB/s    eta 7s     "
     ]
    },
    {
     "name": "stdout",
     "output_type": "stream",
     "text": [
      "\r",
      "pascal-voc.tgz       97%[==================> ]   4.21G  20.4MB/s    eta 7s     "
     ]
    },
    {
     "name": "stdout",
     "output_type": "stream",
     "text": [
      "\r",
      "pascal-voc.tgz       97%[==================> ]   4.22G  20.6MB/s    eta 6s     "
     ]
    },
    {
     "name": "stdout",
     "output_type": "stream",
     "text": [
      "\r",
      "pascal-voc.tgz       97%[==================> ]   4.22G  20.5MB/s    eta 6s     "
     ]
    },
    {
     "name": "stdout",
     "output_type": "stream",
     "text": [
      "\r",
      "pascal-voc.tgz       97%[==================> ]   4.23G  20.6MB/s    eta 6s     "
     ]
    },
    {
     "name": "stdout",
     "output_type": "stream",
     "text": [
      "\r",
      "pascal-voc.tgz       97%[==================> ]   4.23G  20.5MB/s    eta 6s     "
     ]
    },
    {
     "name": "stdout",
     "output_type": "stream",
     "text": [
      "\r",
      "pascal-voc.tgz       98%[==================> ]   4.24G  20.5MB/s    eta 6s     "
     ]
    },
    {
     "name": "stdout",
     "output_type": "stream",
     "text": [
      "\r",
      "pascal-voc.tgz       98%[==================> ]   4.24G  20.6MB/s    eta 5s     "
     ]
    },
    {
     "name": "stdout",
     "output_type": "stream",
     "text": [
      "\r",
      "pascal-voc.tgz       98%[==================> ]   4.25G  20.6MB/s    eta 5s     "
     ]
    },
    {
     "name": "stdout",
     "output_type": "stream",
     "text": [
      "\r",
      "pascal-voc.tgz       98%[==================> ]   4.25G  20.5MB/s    eta 5s     "
     ]
    },
    {
     "name": "stdout",
     "output_type": "stream",
     "text": [
      "\r",
      "pascal-voc.tgz       98%[==================> ]   4.25G  20.3MB/s    eta 5s     "
     ]
    },
    {
     "name": "stdout",
     "output_type": "stream",
     "text": [
      "\r",
      "pascal-voc.tgz       98%[==================> ]   4.26G  20.7MB/s    eta 5s     "
     ]
    },
    {
     "name": "stdout",
     "output_type": "stream",
     "text": [
      "\r",
      "pascal-voc.tgz       98%[==================> ]   4.26G  20.6MB/s    eta 3s     "
     ]
    },
    {
     "name": "stdout",
     "output_type": "stream",
     "text": [
      "\r",
      "pascal-voc.tgz       98%[==================> ]   4.27G  20.5MB/s    eta 3s     "
     ]
    },
    {
     "name": "stdout",
     "output_type": "stream",
     "text": [
      "\r",
      "pascal-voc.tgz       98%[==================> ]   4.27G  20.6MB/s    eta 3s     "
     ]
    },
    {
     "name": "stdout",
     "output_type": "stream",
     "text": [
      "\r",
      "pascal-voc.tgz       98%[==================> ]   4.28G  20.6MB/s    eta 3s     "
     ]
    },
    {
     "name": "stdout",
     "output_type": "stream",
     "text": [
      "\r",
      "pascal-voc.tgz       99%[==================> ]   4.28G  20.6MB/s    eta 3s     "
     ]
    },
    {
     "name": "stdout",
     "output_type": "stream",
     "text": [
      "\r",
      "pascal-voc.tgz       99%[==================> ]   4.29G  20.8MB/s    eta 2s     "
     ]
    },
    {
     "name": "stdout",
     "output_type": "stream",
     "text": [
      "\r",
      "pascal-voc.tgz       99%[==================> ]   4.29G  20.6MB/s    eta 2s     "
     ]
    },
    {
     "name": "stdout",
     "output_type": "stream",
     "text": [
      "\r",
      "pascal-voc.tgz       99%[==================> ]   4.29G  20.6MB/s    eta 2s     "
     ]
    },
    {
     "name": "stdout",
     "output_type": "stream",
     "text": [
      "\r",
      "pascal-voc.tgz       99%[==================> ]   4.30G  20.7MB/s    eta 2s     "
     ]
    },
    {
     "name": "stdout",
     "output_type": "stream",
     "text": [
      "\r",
      "pascal-voc.tgz       99%[==================> ]   4.30G  20.7MB/s    eta 2s     "
     ]
    },
    {
     "name": "stdout",
     "output_type": "stream",
     "text": [
      "\r",
      "pascal-voc.tgz       99%[==================> ]   4.31G  20.5MB/s    eta 1s     "
     ]
    },
    {
     "name": "stdout",
     "output_type": "stream",
     "text": [
      "\r",
      "pascal-voc.tgz       99%[==================> ]   4.31G  20.8MB/s    eta 1s     "
     ]
    },
    {
     "name": "stdout",
     "output_type": "stream",
     "text": [
      "\r",
      "pascal-voc.tgz       99%[==================> ]   4.32G  20.6MB/s    eta 1s     "
     ]
    },
    {
     "name": "stdout",
     "output_type": "stream",
     "text": [
      "\r",
      "pascal-voc.tgz       99%[==================> ]   4.32G  20.4MB/s    eta 1s     \r",
      "pascal-voc.tgz      100%[===================>]   4.32G  20.5MB/s    in 4m 12s  \r\n",
      "\r\n",
      "2021-06-21 00:14:49 (17.6 MB/s) - ‘/tmp/pascal-voc.tgz’ saved [4639722845/4639722845]\r\n",
      "\r\n"
     ]
    },
    {
     "name": "stdout",
     "output_type": "stream",
     "text": [
      "CPU times: user 4.89 s, sys: 1.25 s, total: 6.14 s\n",
      "Wall time: 4min 57s\n"
     ]
    }
   ],
   "source": [
    "%%time\n",
    "# Download and extract the datasets\n",
    "![ ! -f /tmp/pascal-voc.tgz ] && { wget -P /tmp https://s3.amazonaws.com/fast-ai-imagelocal/pascal-voc.tgz; }\n",
    "![ ! -d VOCdevkit ] && { tar -xf /tmp/pascal-voc.tgz; mv pascal-voc VOCdevkit; }"
   ]
  },
  {
   "cell_type": "markdown",
   "id": "e944d39e",
   "metadata": {
    "papermill": {
     "duration": 0.313026,
     "end_time": "2021-06-21T00:15:36.004111",
     "exception": false,
     "start_time": "2021-06-21T00:15:35.691085",
     "status": "completed"
    },
    "tags": []
   },
   "source": [
    "### Convert data into RecordIO\n",
    "[RecordIO](https://mxnet.incubator.apache.org/architecture/note_data_loading.html) is a highly efficient binary data format from [MXNet](https://mxnet.incubator.apache.org/). Using this format, dataset is simple to prepare and transfer to the instance that will run the training job. Please refer to [object_detection_recordio_format](https://github.com/awslabs/amazon-sagemaker-examples/blob/80333fd4632cf6d924d0b91c33bf80da3bdcf926/introduction_to_amazon_algorithms/object_detection_pascalvoc_coco/object_detection_recordio_format.ipynb) for more information about how to prepare RecordIO dataset"
   ]
  },
  {
   "cell_type": "code",
   "execution_count": 9,
   "id": "53b18dc0",
   "metadata": {
    "execution": {
     "iopub.execute_input": "2021-06-21T00:15:36.641012Z",
     "iopub.status.busy": "2021-06-21T00:15:36.637765Z",
     "iopub.status.idle": "2021-06-21T00:15:37.282155Z",
     "shell.execute_reply": "2021-06-21T00:15:37.281536Z"
    },
    "papermill": {
     "duration": 0.962307,
     "end_time": "2021-06-21T00:15:37.282277",
     "exception": false,
     "start_time": "2021-06-21T00:15:36.319970",
     "status": "completed"
    },
    "tags": []
   },
   "outputs": [
    {
     "name": "stdout",
     "output_type": "stream",
     "text": [
      "Traceback (most recent call last):\r\n",
      "  File \"tools/prepare_dataset.py\", line 31, in <module>\r\n",
      "    from pascal_voc import PascalVoc\r\n",
      "  File \"/opt/ml/processing/input/tools/pascal_voc.py\", line 23, in <module>\r\n",
      "    import cv2\r\n",
      "ModuleNotFoundError: No module named 'cv2'\r\n"
     ]
    },
    {
     "name": "stdout",
     "output_type": "stream",
     "text": [
      "Traceback (most recent call last):\r\n",
      "  File \"tools/prepare_dataset.py\", line 31, in <module>\r\n",
      "    from pascal_voc import PascalVoc\r\n",
      "  File \"/opt/ml/processing/input/tools/pascal_voc.py\", line 23, in <module>\r\n",
      "    import cv2\r\n",
      "ModuleNotFoundError: No module named 'cv2'\r\n"
     ]
    }
   ],
   "source": [
    "!python tools/prepare_dataset.py --dataset pascal --year 2007,2012 --set trainval --target VOCdevkit/train.lst\n",
    "!python tools/prepare_dataset.py --dataset pascal --year 2007 --set test --target VOCdevkit/val.lst --no-shuffle"
   ]
  },
  {
   "cell_type": "markdown",
   "id": "7a75dfe1",
   "metadata": {
    "papermill": {
     "duration": 0.313612,
     "end_time": "2021-06-21T00:15:37.912228",
     "exception": false,
     "start_time": "2021-06-21T00:15:37.598616",
     "status": "completed"
    },
    "tags": []
   },
   "source": [
    "### Upload data to S3\n",
    "Upload the data to the S3 bucket. "
   ]
  },
  {
   "cell_type": "markdown",
   "id": "a1753c86",
   "metadata": {
    "tags": [
     "papermill-error-cell-tag"
    ]
   },
   "source": [
    "<span id=\"papermill-error-cell\" style=\"color:red; font-family:Helvetica Neue, Helvetica, Arial, sans-serif; font-size:2em;\">Execution using papermill encountered an exception here and stopped:</span>"
   ]
  },
  {
   "cell_type": "code",
   "execution_count": 10,
   "id": "3c7a514f",
   "metadata": {
    "execution": {
     "iopub.execute_input": "2021-06-21T00:15:38.551286Z",
     "iopub.status.busy": "2021-06-21T00:15:38.550335Z",
     "iopub.status.idle": "2021-06-21T00:15:38.662211Z",
     "shell.execute_reply": "2021-06-21T00:15:38.661198Z"
    },
    "papermill": {
     "duration": 0.436487,
     "end_time": "2021-06-21T00:15:38.662471",
     "exception": true,
     "start_time": "2021-06-21T00:15:38.225984",
     "status": "failed"
    },
    "tags": []
   },
   "outputs": [
    {
     "ename": "FileNotFoundError",
     "evalue": "[Errno 2] No such file or directory: 'VOCdevkit/train.rec'",
     "output_type": "error",
     "traceback": [
      "\u001b[0;31m---------------------------------------------------------------------------\u001b[0m",
      "\u001b[0;31mFileNotFoundError\u001b[0m                         Traceback (most recent call last)",
      "\u001b[0;32m<ipython-input-10-1eb813ce8f95>\u001b[0m in \u001b[0;36m<module>\u001b[0;34m\u001b[0m\n\u001b[1;32m      1\u001b[0m \u001b[0;31m# Upload the RecordIO files to train and validation channels\u001b[0m\u001b[0;34m\u001b[0m\u001b[0;34m\u001b[0m\u001b[0;34m\u001b[0m\u001b[0m\n\u001b[0;32m----> 2\u001b[0;31m \u001b[0msess\u001b[0m\u001b[0;34m.\u001b[0m\u001b[0mupload_data\u001b[0m\u001b[0;34m(\u001b[0m\u001b[0mpath\u001b[0m\u001b[0;34m=\u001b[0m\u001b[0;34m\"VOCdevkit/train.rec\"\u001b[0m\u001b[0;34m,\u001b[0m \u001b[0mbucket\u001b[0m\u001b[0;34m=\u001b[0m\u001b[0mbucket\u001b[0m\u001b[0;34m,\u001b[0m \u001b[0mkey_prefix\u001b[0m\u001b[0;34m=\u001b[0m\u001b[0mtraining_data_sub_folder\u001b[0m\u001b[0;34m)\u001b[0m\u001b[0;34m\u001b[0m\u001b[0;34m\u001b[0m\u001b[0m\n\u001b[0m\u001b[1;32m      3\u001b[0m \u001b[0msess\u001b[0m\u001b[0;34m.\u001b[0m\u001b[0mupload_data\u001b[0m\u001b[0;34m(\u001b[0m\u001b[0mpath\u001b[0m\u001b[0;34m=\u001b[0m\u001b[0;34m\"VOCdevkit/train.idx\"\u001b[0m\u001b[0;34m,\u001b[0m \u001b[0mbucket\u001b[0m\u001b[0;34m=\u001b[0m\u001b[0mbucket\u001b[0m\u001b[0;34m,\u001b[0m \u001b[0mkey_prefix\u001b[0m\u001b[0;34m=\u001b[0m\u001b[0mtraining_data_sub_folder\u001b[0m\u001b[0;34m)\u001b[0m\u001b[0;34m\u001b[0m\u001b[0;34m\u001b[0m\u001b[0m\n\u001b[1;32m      4\u001b[0m \u001b[0;34m\u001b[0m\u001b[0m\n\u001b[1;32m      5\u001b[0m \u001b[0msess\u001b[0m\u001b[0;34m.\u001b[0m\u001b[0mupload_data\u001b[0m\u001b[0;34m(\u001b[0m\u001b[0mpath\u001b[0m\u001b[0;34m=\u001b[0m\u001b[0;34m\"VOCdevkit/val.rec\"\u001b[0m\u001b[0;34m,\u001b[0m \u001b[0mbucket\u001b[0m\u001b[0;34m=\u001b[0m\u001b[0mbucket\u001b[0m\u001b[0;34m,\u001b[0m \u001b[0mkey_prefix\u001b[0m\u001b[0;34m=\u001b[0m\u001b[0mvalidation_data_sub_folder\u001b[0m\u001b[0;34m)\u001b[0m\u001b[0;34m\u001b[0m\u001b[0;34m\u001b[0m\u001b[0m\n",
      "\u001b[0;32m/usr/local/lib/python3.7/site-packages/sagemaker/session.py\u001b[0m in \u001b[0;36mupload_data\u001b[0;34m(self, path, bucket, key_prefix, extra_args)\u001b[0m\n\u001b[1;32m    225\u001b[0m \u001b[0;34m\u001b[0m\u001b[0m\n\u001b[1;32m    226\u001b[0m         \u001b[0;32mfor\u001b[0m \u001b[0mlocal_path\u001b[0m\u001b[0;34m,\u001b[0m \u001b[0ms3_key\u001b[0m \u001b[0;32min\u001b[0m \u001b[0mfiles\u001b[0m\u001b[0;34m:\u001b[0m\u001b[0;34m\u001b[0m\u001b[0;34m\u001b[0m\u001b[0m\n\u001b[0;32m--> 227\u001b[0;31m             \u001b[0ms3\u001b[0m\u001b[0;34m.\u001b[0m\u001b[0mObject\u001b[0m\u001b[0;34m(\u001b[0m\u001b[0mbucket\u001b[0m\u001b[0;34m,\u001b[0m \u001b[0ms3_key\u001b[0m\u001b[0;34m)\u001b[0m\u001b[0;34m.\u001b[0m\u001b[0mupload_file\u001b[0m\u001b[0;34m(\u001b[0m\u001b[0mlocal_path\u001b[0m\u001b[0;34m,\u001b[0m \u001b[0mExtraArgs\u001b[0m\u001b[0;34m=\u001b[0m\u001b[0mextra_args\u001b[0m\u001b[0;34m)\u001b[0m\u001b[0;34m\u001b[0m\u001b[0;34m\u001b[0m\u001b[0m\n\u001b[0m\u001b[1;32m    228\u001b[0m \u001b[0;34m\u001b[0m\u001b[0m\n\u001b[1;32m    229\u001b[0m         \u001b[0ms3_uri\u001b[0m \u001b[0;34m=\u001b[0m \u001b[0;34m\"s3://{}/{}\"\u001b[0m\u001b[0;34m.\u001b[0m\u001b[0mformat\u001b[0m\u001b[0;34m(\u001b[0m\u001b[0mbucket\u001b[0m\u001b[0;34m,\u001b[0m \u001b[0mkey_prefix\u001b[0m\u001b[0;34m)\u001b[0m\u001b[0;34m\u001b[0m\u001b[0;34m\u001b[0m\u001b[0m\n",
      "\u001b[0;32m/usr/local/lib/python3.7/site-packages/boto3/s3/inject.py\u001b[0m in \u001b[0;36mobject_upload_file\u001b[0;34m(self, Filename, ExtraArgs, Callback, Config)\u001b[0m\n\u001b[1;32m    278\u001b[0m     return self.meta.client.upload_file(\n\u001b[1;32m    279\u001b[0m         \u001b[0mFilename\u001b[0m\u001b[0;34m=\u001b[0m\u001b[0mFilename\u001b[0m\u001b[0;34m,\u001b[0m \u001b[0mBucket\u001b[0m\u001b[0;34m=\u001b[0m\u001b[0mself\u001b[0m\u001b[0;34m.\u001b[0m\u001b[0mbucket_name\u001b[0m\u001b[0;34m,\u001b[0m \u001b[0mKey\u001b[0m\u001b[0;34m=\u001b[0m\u001b[0mself\u001b[0m\u001b[0;34m.\u001b[0m\u001b[0mkey\u001b[0m\u001b[0;34m,\u001b[0m\u001b[0;34m\u001b[0m\u001b[0;34m\u001b[0m\u001b[0m\n\u001b[0;32m--> 280\u001b[0;31m         ExtraArgs=ExtraArgs, Callback=Callback, Config=Config)\n\u001b[0m\u001b[1;32m    281\u001b[0m \u001b[0;34m\u001b[0m\u001b[0m\n\u001b[1;32m    282\u001b[0m \u001b[0;34m\u001b[0m\u001b[0m\n",
      "\u001b[0;32m/usr/local/lib/python3.7/site-packages/boto3/s3/inject.py\u001b[0m in \u001b[0;36mupload_file\u001b[0;34m(self, Filename, Bucket, Key, ExtraArgs, Callback, Config)\u001b[0m\n\u001b[1;32m    129\u001b[0m         return transfer.upload_file(\n\u001b[1;32m    130\u001b[0m             \u001b[0mfilename\u001b[0m\u001b[0;34m=\u001b[0m\u001b[0mFilename\u001b[0m\u001b[0;34m,\u001b[0m \u001b[0mbucket\u001b[0m\u001b[0;34m=\u001b[0m\u001b[0mBucket\u001b[0m\u001b[0;34m,\u001b[0m \u001b[0mkey\u001b[0m\u001b[0;34m=\u001b[0m\u001b[0mKey\u001b[0m\u001b[0;34m,\u001b[0m\u001b[0;34m\u001b[0m\u001b[0;34m\u001b[0m\u001b[0m\n\u001b[0;32m--> 131\u001b[0;31m             extra_args=ExtraArgs, callback=Callback)\n\u001b[0m\u001b[1;32m    132\u001b[0m \u001b[0;34m\u001b[0m\u001b[0m\n\u001b[1;32m    133\u001b[0m \u001b[0;34m\u001b[0m\u001b[0m\n",
      "\u001b[0;32m/usr/local/lib/python3.7/site-packages/boto3/s3/transfer.py\u001b[0m in \u001b[0;36mupload_file\u001b[0;34m(self, filename, bucket, key, callback, extra_args)\u001b[0m\n\u001b[1;32m    277\u001b[0m             filename, bucket, key, extra_args, subscribers)\n\u001b[1;32m    278\u001b[0m         \u001b[0;32mtry\u001b[0m\u001b[0;34m:\u001b[0m\u001b[0;34m\u001b[0m\u001b[0;34m\u001b[0m\u001b[0m\n\u001b[0;32m--> 279\u001b[0;31m             \u001b[0mfuture\u001b[0m\u001b[0;34m.\u001b[0m\u001b[0mresult\u001b[0m\u001b[0;34m(\u001b[0m\u001b[0;34m)\u001b[0m\u001b[0;34m\u001b[0m\u001b[0;34m\u001b[0m\u001b[0m\n\u001b[0m\u001b[1;32m    280\u001b[0m         \u001b[0;31m# If a client error was raised, add the backwards compatibility layer\u001b[0m\u001b[0;34m\u001b[0m\u001b[0;34m\u001b[0m\u001b[0;34m\u001b[0m\u001b[0m\n\u001b[1;32m    281\u001b[0m         \u001b[0;31m# that raises a S3UploadFailedError. These specific errors were only\u001b[0m\u001b[0;34m\u001b[0m\u001b[0;34m\u001b[0m\u001b[0;34m\u001b[0m\u001b[0m\n",
      "\u001b[0;32m/usr/local/lib/python3.7/site-packages/s3transfer/futures.py\u001b[0m in \u001b[0;36mresult\u001b[0;34m(self)\u001b[0m\n\u001b[1;32m    104\u001b[0m             \u001b[0;31m# however if a KeyboardInterrupt is raised we want want to exit\u001b[0m\u001b[0;34m\u001b[0m\u001b[0;34m\u001b[0m\u001b[0;34m\u001b[0m\u001b[0m\n\u001b[1;32m    105\u001b[0m             \u001b[0;31m# out of this and propogate the exception.\u001b[0m\u001b[0;34m\u001b[0m\u001b[0;34m\u001b[0m\u001b[0;34m\u001b[0m\u001b[0m\n\u001b[0;32m--> 106\u001b[0;31m             \u001b[0;32mreturn\u001b[0m \u001b[0mself\u001b[0m\u001b[0;34m.\u001b[0m\u001b[0m_coordinator\u001b[0m\u001b[0;34m.\u001b[0m\u001b[0mresult\u001b[0m\u001b[0;34m(\u001b[0m\u001b[0;34m)\u001b[0m\u001b[0;34m\u001b[0m\u001b[0;34m\u001b[0m\u001b[0m\n\u001b[0m\u001b[1;32m    107\u001b[0m         \u001b[0;32mexcept\u001b[0m \u001b[0mKeyboardInterrupt\u001b[0m \u001b[0;32mas\u001b[0m \u001b[0me\u001b[0m\u001b[0;34m:\u001b[0m\u001b[0;34m\u001b[0m\u001b[0;34m\u001b[0m\u001b[0m\n\u001b[1;32m    108\u001b[0m             \u001b[0mself\u001b[0m\u001b[0;34m.\u001b[0m\u001b[0mcancel\u001b[0m\u001b[0;34m(\u001b[0m\u001b[0;34m)\u001b[0m\u001b[0;34m\u001b[0m\u001b[0;34m\u001b[0m\u001b[0m\n",
      "\u001b[0;32m/usr/local/lib/python3.7/site-packages/s3transfer/futures.py\u001b[0m in \u001b[0;36mresult\u001b[0;34m(self)\u001b[0m\n\u001b[1;32m    263\u001b[0m         \u001b[0;31m# final result.\u001b[0m\u001b[0;34m\u001b[0m\u001b[0;34m\u001b[0m\u001b[0;34m\u001b[0m\u001b[0m\n\u001b[1;32m    264\u001b[0m         \u001b[0;32mif\u001b[0m \u001b[0mself\u001b[0m\u001b[0;34m.\u001b[0m\u001b[0m_exception\u001b[0m\u001b[0;34m:\u001b[0m\u001b[0;34m\u001b[0m\u001b[0;34m\u001b[0m\u001b[0m\n\u001b[0;32m--> 265\u001b[0;31m             \u001b[0;32mraise\u001b[0m \u001b[0mself\u001b[0m\u001b[0;34m.\u001b[0m\u001b[0m_exception\u001b[0m\u001b[0;34m\u001b[0m\u001b[0;34m\u001b[0m\u001b[0m\n\u001b[0m\u001b[1;32m    266\u001b[0m         \u001b[0;32mreturn\u001b[0m \u001b[0mself\u001b[0m\u001b[0;34m.\u001b[0m\u001b[0m_result\u001b[0m\u001b[0;34m\u001b[0m\u001b[0;34m\u001b[0m\u001b[0m\n\u001b[1;32m    267\u001b[0m \u001b[0;34m\u001b[0m\u001b[0m\n",
      "\u001b[0;32m/usr/local/lib/python3.7/site-packages/s3transfer/tasks.py\u001b[0m in \u001b[0;36m_main\u001b[0;34m(self, transfer_future, **kwargs)\u001b[0m\n\u001b[1;32m    253\u001b[0m             \u001b[0;31m# Call the submit method to start submitting tasks to execute the\u001b[0m\u001b[0;34m\u001b[0m\u001b[0;34m\u001b[0m\u001b[0;34m\u001b[0m\u001b[0m\n\u001b[1;32m    254\u001b[0m             \u001b[0;31m# transfer.\u001b[0m\u001b[0;34m\u001b[0m\u001b[0;34m\u001b[0m\u001b[0;34m\u001b[0m\u001b[0m\n\u001b[0;32m--> 255\u001b[0;31m             \u001b[0mself\u001b[0m\u001b[0;34m.\u001b[0m\u001b[0m_submit\u001b[0m\u001b[0;34m(\u001b[0m\u001b[0mtransfer_future\u001b[0m\u001b[0;34m=\u001b[0m\u001b[0mtransfer_future\u001b[0m\u001b[0;34m,\u001b[0m \u001b[0;34m**\u001b[0m\u001b[0mkwargs\u001b[0m\u001b[0;34m)\u001b[0m\u001b[0;34m\u001b[0m\u001b[0;34m\u001b[0m\u001b[0m\n\u001b[0m\u001b[1;32m    256\u001b[0m         \u001b[0;32mexcept\u001b[0m \u001b[0mBaseException\u001b[0m \u001b[0;32mas\u001b[0m \u001b[0me\u001b[0m\u001b[0;34m:\u001b[0m\u001b[0;34m\u001b[0m\u001b[0;34m\u001b[0m\u001b[0m\n\u001b[1;32m    257\u001b[0m             \u001b[0;31m# If there was an exception raised during the submission of task\u001b[0m\u001b[0;34m\u001b[0m\u001b[0;34m\u001b[0m\u001b[0;34m\u001b[0m\u001b[0m\n",
      "\u001b[0;32m/usr/local/lib/python3.7/site-packages/s3transfer/upload.py\u001b[0m in \u001b[0;36m_submit\u001b[0;34m(self, client, config, osutil, request_executor, transfer_future, bandwidth_limiter)\u001b[0m\n\u001b[1;32m    547\u001b[0m         \u001b[0;31m# Determine the size if it was not provided\u001b[0m\u001b[0;34m\u001b[0m\u001b[0;34m\u001b[0m\u001b[0;34m\u001b[0m\u001b[0m\n\u001b[1;32m    548\u001b[0m         \u001b[0;32mif\u001b[0m \u001b[0mtransfer_future\u001b[0m\u001b[0;34m.\u001b[0m\u001b[0mmeta\u001b[0m\u001b[0;34m.\u001b[0m\u001b[0msize\u001b[0m \u001b[0;32mis\u001b[0m \u001b[0;32mNone\u001b[0m\u001b[0;34m:\u001b[0m\u001b[0;34m\u001b[0m\u001b[0;34m\u001b[0m\u001b[0m\n\u001b[0;32m--> 549\u001b[0;31m             \u001b[0mupload_input_manager\u001b[0m\u001b[0;34m.\u001b[0m\u001b[0mprovide_transfer_size\u001b[0m\u001b[0;34m(\u001b[0m\u001b[0mtransfer_future\u001b[0m\u001b[0;34m)\u001b[0m\u001b[0;34m\u001b[0m\u001b[0;34m\u001b[0m\u001b[0m\n\u001b[0m\u001b[1;32m    550\u001b[0m \u001b[0;34m\u001b[0m\u001b[0m\n\u001b[1;32m    551\u001b[0m         \u001b[0;31m# Do a multipart upload if needed, otherwise do a regular put object.\u001b[0m\u001b[0;34m\u001b[0m\u001b[0;34m\u001b[0m\u001b[0;34m\u001b[0m\u001b[0m\n",
      "\u001b[0;32m/usr/local/lib/python3.7/site-packages/s3transfer/upload.py\u001b[0m in \u001b[0;36mprovide_transfer_size\u001b[0;34m(self, transfer_future)\u001b[0m\n\u001b[1;32m    235\u001b[0m         transfer_future.meta.provide_transfer_size(\n\u001b[1;32m    236\u001b[0m             self._osutil.get_file_size(\n\u001b[0;32m--> 237\u001b[0;31m                 transfer_future.meta.call_args.fileobj))\n\u001b[0m\u001b[1;32m    238\u001b[0m \u001b[0;34m\u001b[0m\u001b[0m\n\u001b[1;32m    239\u001b[0m     \u001b[0;32mdef\u001b[0m \u001b[0mrequires_multipart_upload\u001b[0m\u001b[0;34m(\u001b[0m\u001b[0mself\u001b[0m\u001b[0;34m,\u001b[0m \u001b[0mtransfer_future\u001b[0m\u001b[0;34m,\u001b[0m \u001b[0mconfig\u001b[0m\u001b[0;34m)\u001b[0m\u001b[0;34m:\u001b[0m\u001b[0;34m\u001b[0m\u001b[0;34m\u001b[0m\u001b[0m\n",
      "\u001b[0;32m/usr/local/lib/python3.7/site-packages/s3transfer/utils.py\u001b[0m in \u001b[0;36mget_file_size\u001b[0;34m(self, filename)\u001b[0m\n\u001b[1;32m    243\u001b[0m \u001b[0;34m\u001b[0m\u001b[0m\n\u001b[1;32m    244\u001b[0m     \u001b[0;32mdef\u001b[0m \u001b[0mget_file_size\u001b[0m\u001b[0;34m(\u001b[0m\u001b[0mself\u001b[0m\u001b[0;34m,\u001b[0m \u001b[0mfilename\u001b[0m\u001b[0;34m)\u001b[0m\u001b[0;34m:\u001b[0m\u001b[0;34m\u001b[0m\u001b[0;34m\u001b[0m\u001b[0m\n\u001b[0;32m--> 245\u001b[0;31m         \u001b[0;32mreturn\u001b[0m \u001b[0mos\u001b[0m\u001b[0;34m.\u001b[0m\u001b[0mpath\u001b[0m\u001b[0;34m.\u001b[0m\u001b[0mgetsize\u001b[0m\u001b[0;34m(\u001b[0m\u001b[0mfilename\u001b[0m\u001b[0;34m)\u001b[0m\u001b[0;34m\u001b[0m\u001b[0;34m\u001b[0m\u001b[0m\n\u001b[0m\u001b[1;32m    246\u001b[0m \u001b[0;34m\u001b[0m\u001b[0m\n\u001b[1;32m    247\u001b[0m     \u001b[0;32mdef\u001b[0m \u001b[0mopen_file_chunk_reader\u001b[0m\u001b[0;34m(\u001b[0m\u001b[0mself\u001b[0m\u001b[0;34m,\u001b[0m \u001b[0mfilename\u001b[0m\u001b[0;34m,\u001b[0m \u001b[0mstart_byte\u001b[0m\u001b[0;34m,\u001b[0m \u001b[0msize\u001b[0m\u001b[0;34m,\u001b[0m \u001b[0mcallbacks\u001b[0m\u001b[0;34m)\u001b[0m\u001b[0;34m:\u001b[0m\u001b[0;34m\u001b[0m\u001b[0;34m\u001b[0m\u001b[0m\n",
      "\u001b[0;32m/usr/local/lib/python3.7/genericpath.py\u001b[0m in \u001b[0;36mgetsize\u001b[0;34m(filename)\u001b[0m\n\u001b[1;32m     48\u001b[0m \u001b[0;32mdef\u001b[0m \u001b[0mgetsize\u001b[0m\u001b[0;34m(\u001b[0m\u001b[0mfilename\u001b[0m\u001b[0;34m)\u001b[0m\u001b[0;34m:\u001b[0m\u001b[0;34m\u001b[0m\u001b[0;34m\u001b[0m\u001b[0m\n\u001b[1;32m     49\u001b[0m     \u001b[0;34m\"\"\"Return the size of a file, reported by os.stat().\"\"\"\u001b[0m\u001b[0;34m\u001b[0m\u001b[0;34m\u001b[0m\u001b[0m\n\u001b[0;32m---> 50\u001b[0;31m     \u001b[0;32mreturn\u001b[0m \u001b[0mos\u001b[0m\u001b[0;34m.\u001b[0m\u001b[0mstat\u001b[0m\u001b[0;34m(\u001b[0m\u001b[0mfilename\u001b[0m\u001b[0;34m)\u001b[0m\u001b[0;34m.\u001b[0m\u001b[0mst_size\u001b[0m\u001b[0;34m\u001b[0m\u001b[0;34m\u001b[0m\u001b[0m\n\u001b[0m\u001b[1;32m     51\u001b[0m \u001b[0;34m\u001b[0m\u001b[0m\n\u001b[1;32m     52\u001b[0m \u001b[0;34m\u001b[0m\u001b[0m\n",
      "\u001b[0;31mFileNotFoundError\u001b[0m: [Errno 2] No such file or directory: 'VOCdevkit/train.rec'"
     ]
    }
   ],
   "source": [
    "# Upload the RecordIO files to train and validation channels\n",
    "sess.upload_data(path=\"VOCdevkit/train.rec\", bucket=bucket, key_prefix=training_data_sub_folder)\n",
    "sess.upload_data(path=\"VOCdevkit/train.idx\", bucket=bucket, key_prefix=training_data_sub_folder)\n",
    "\n",
    "sess.upload_data(path=\"VOCdevkit/val.rec\", bucket=bucket, key_prefix=validation_data_sub_folder)\n",
    "sess.upload_data(path=\"VOCdevkit/val.idx\", bucket=bucket, key_prefix=validation_data_sub_folder)"
   ]
  },
  {
   "cell_type": "markdown",
   "id": "de60a082",
   "metadata": {
    "papermill": {
     "duration": null,
     "end_time": null,
     "exception": null,
     "start_time": null,
     "status": "pending"
    },
    "tags": []
   },
   "source": [
    "Next, we need to setup training and compilation output locations in S3, where the respective model artifacts will be dumped. We also setup the s3 location for training data, validation data and custom code."
   ]
  },
  {
   "cell_type": "code",
   "execution_count": null,
   "id": "0555ddf1",
   "metadata": {
    "papermill": {
     "duration": null,
     "end_time": null,
     "exception": null,
     "start_time": null,
     "status": "pending"
    },
    "tags": []
   },
   "outputs": [],
   "source": [
    "# S3 Location where the training data is stored in the previous step\n",
    "s3_training_data_location = \"s3://{}/{}\".format(bucket, training_data_sub_folder)\n",
    "\n",
    "# S3 Location to save the model artifact after training\n",
    "s3_training_output_location = \"s3://{}/{}\".format(bucket, training_output_sub_folder)\n",
    "\n",
    "# S3 Location where the training data is stored in the previous step\n",
    "s3_validation_data_location = \"s3://{}/{}\".format(bucket, validation_data_sub_folder)\n",
    "\n",
    "# S3 Location to save the model artifact after compilation\n",
    "s3_compilation_output_location = \"s3://{}/{}\".format(bucket, compilation_output_sub_folder)\n",
    "\n",
    "# S3 Location to save your custom code in tar.gz format\n",
    "s3_custom_code_upload_location = \"s3://{}/{}\".format(bucket, custom_code_sub_folder)"
   ]
  },
  {
   "cell_type": "markdown",
   "id": "3da40b64",
   "metadata": {
    "papermill": {
     "duration": null,
     "end_time": null,
     "exception": null,
     "start_time": null,
     "status": "pending"
    },
    "tags": []
   },
   "source": [
    "## Training\n",
    "Now that we are done with all the setup that is needed, we are ready to train our object detector. To begin, let us create a ``sagemaker.MXNet`` object. This estimator will launch the training job. It may take some time for training job to complete. To make it faster `num-epochs` can be reduced."
   ]
  },
  {
   "cell_type": "code",
   "execution_count": null,
   "id": "8036a5c8",
   "metadata": {
    "papermill": {
     "duration": null,
     "end_time": null,
     "exception": null,
     "start_time": null,
     "status": "pending"
    },
    "tags": []
   },
   "outputs": [],
   "source": [
    "from sagemaker.mxnet import MXNet\n",
    "\n",
    "yolo_estimator = MXNet(\n",
    "    entry_point=\"yolo_entry_point.py\",\n",
    "    role=role,\n",
    "    output_path=s3_training_output_location,\n",
    "    code_location=s3_custom_code_upload_location,\n",
    "    instance_count=1,\n",
    "    instance_type=\"ml.p3.16xlarge\",\n",
    "    framework_version=\"1.8.0\",\n",
    "    py_version=\"py37\",\n",
    "    hyperparameters={\n",
    "        \"num-epochs\": 10,\n",
    "        \"data-shape\": 320,\n",
    "        \"gpus\": \"0,1,2,3,4,5,6,7\",\n",
    "        \"network\": \"darknet53\",\n",
    "    },\n",
    ")"
   ]
  },
  {
   "cell_type": "code",
   "execution_count": null,
   "id": "76752fc4",
   "metadata": {
    "papermill": {
     "duration": null,
     "end_time": null,
     "exception": null,
     "start_time": null,
     "status": "pending"
    },
    "scrolled": true,
    "tags": []
   },
   "outputs": [],
   "source": [
    "yolo_estimator.fit({\"train\": s3_training_data_location, \"val\": s3_validation_data_location})"
   ]
  },
  {
   "cell_type": "markdown",
   "id": "37a0e32f",
   "metadata": {
    "papermill": {
     "duration": null,
     "end_time": null,
     "exception": null,
     "start_time": null,
     "status": "pending"
    },
    "tags": []
   },
   "source": [
    "## Compile the trained model using SageMaker Neo\n",
    "\n",
    "After training the model we can use SageMaker Neo's ``compile_model()`` API to compile the trained model. When calling ``compile_model()`` user is expected to provide all the correct input shapes required by the model for successful compilation. We also specify the target instance family, the name of our IAM execution role, S3 bucket to which the compiled model would be stored and we set ``MMS_DEFAULT_RESPONSE_TIMEOUT`` environment variable to 500. \n",
    "\n",
    "For this example, we will choose `ml_p3` as the target instance family while compiling the trained model. "
   ]
  },
  {
   "cell_type": "code",
   "execution_count": null,
   "id": "ebbde6a2",
   "metadata": {
    "papermill": {
     "duration": null,
     "end_time": null,
     "exception": null,
     "start_time": null,
     "status": "pending"
    },
    "tags": []
   },
   "outputs": [],
   "source": [
    "%%time\n",
    "compiled_model = yolo_estimator.compile_model(\n",
    "    target_instance_family=\"ml_p3\",\n",
    "    input_shape={\"data\": [1, 3, 320, 320]},\n",
    "    role=role,\n",
    "    output_path=s3_compilation_output_location,\n",
    "    framework=\"mxnet\",\n",
    "    framework_version=\"1.8\",\n",
    "    env={\"MMS_DEFAULT_RESPONSE_TIMEOUT\": \"500\"},\n",
    ")"
   ]
  },
  {
   "cell_type": "markdown",
   "id": "f20951ce",
   "metadata": {
    "papermill": {
     "duration": null,
     "end_time": null,
     "exception": null,
     "start_time": null,
     "status": "pending"
    },
    "tags": []
   },
   "source": [
    "## Deploy the compiled model and request Inferences\n",
    "\n",
    "We have to deploy the compiled model on one of the instance family for which the trained model was compiled for. Since we have compiled for `ml_p3` we can deploy to any `ml.p3` instance type. For this example we will choose `ml.p3.2xlarge`"
   ]
  },
  {
   "cell_type": "code",
   "execution_count": null,
   "id": "657a31a4",
   "metadata": {
    "papermill": {
     "duration": null,
     "end_time": null,
     "exception": null,
     "start_time": null,
     "status": "pending"
    },
    "tags": []
   },
   "outputs": [],
   "source": [
    "%%time\n",
    "neo_object_detector = compiled_model.deploy(initial_instance_count=1, instance_type=\"ml.p3.2xlarge\")"
   ]
  },
  {
   "cell_type": "code",
   "execution_count": null,
   "id": "355441b9",
   "metadata": {
    "papermill": {
     "duration": null,
     "end_time": null,
     "exception": null,
     "start_time": null,
     "status": "pending"
    },
    "tags": []
   },
   "outputs": [],
   "source": [
    "%%time\n",
    "response = neo_object_detector.predict(test_image)"
   ]
  },
  {
   "cell_type": "code",
   "execution_count": null,
   "id": "8110ae23",
   "metadata": {
    "papermill": {
     "duration": null,
     "end_time": null,
     "exception": null,
     "start_time": null,
     "status": "pending"
    },
    "tags": []
   },
   "outputs": [],
   "source": [
    "# Visualize the detections.\n",
    "visualize_detection(test_file, response, object_categories, threshold)"
   ]
  },
  {
   "cell_type": "markdown",
   "id": "22894d24",
   "metadata": {
    "papermill": {
     "duration": null,
     "end_time": null,
     "exception": null,
     "start_time": null,
     "status": "pending"
    },
    "tags": []
   },
   "source": [
    "## Delete the Endpoint\n",
    "Having an endpoint running will incur some costs. Therefore as a clean-up job, we should delete the endpoint."
   ]
  },
  {
   "cell_type": "code",
   "execution_count": null,
   "id": "757369bb",
   "metadata": {
    "papermill": {
     "duration": null,
     "end_time": null,
     "exception": null,
     "start_time": null,
     "status": "pending"
    },
    "tags": []
   },
   "outputs": [],
   "source": [
    "print(\"Endpoint name: \" + neo_object_detector.endpoint_name)\n",
    "neo_object_detector.delete_endpoint()"
   ]
  }
 ],
 "metadata": {
  "kernelspec": {
   "display_name": "conda_mxnet_p36",
   "language": "python",
   "name": "conda_mxnet_p36"
  },
  "language_info": {
   "codemirror_mode": {
    "name": "ipython",
    "version": 3
   },
   "file_extension": ".py",
   "mimetype": "text/x-python",
   "name": "python",
   "nbconvert_exporter": "python",
   "pygments_lexer": "ipython3",
   "version": "3.7.10"
  },
  "papermill": {
   "default_parameters": {},
   "duration": 307.201225,
   "end_time": "2021-06-21T00:15:41.528291",
   "environment_variables": {},
   "exception": true,
   "input_path": "gluoncv_yolo_darknet_neo.ipynb",
   "output_path": "/opt/ml/processing/output/gluoncv_yolo_darknet_neo-2021-06-21-00-06-26.ipynb",
   "parameters": {
    "kms_key": "arn:aws:kms:us-west-2:521695447989:key/6e9984db-50cf-4c7e-926c-877ec47a8b25"
   },
   "start_time": "2021-06-21T00:10:34.327066",
   "version": "2.3.3"
  }
 },
 "nbformat": 4,
 "nbformat_minor": 5
}